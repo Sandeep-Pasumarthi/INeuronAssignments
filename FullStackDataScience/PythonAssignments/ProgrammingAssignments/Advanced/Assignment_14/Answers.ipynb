{
 "cells": [
  {
   "cell_type": "code",
   "execution_count": 1,
   "id": "d42ac614",
   "metadata": {},
   "outputs": [
    {
     "name": "stdout",
     "output_type": "stream",
     "text": [
      "[3.0, 3.0, 3.0]\n",
      "[12.0, 7.5, 14.5]\n",
      "[27.0, 75.0]\n"
     ]
    }
   ],
   "source": [
    "# Question 1\n",
    "\n",
    "def showTheLove(li):\n",
    "    try:\n",
    "        if type(li) != list:\n",
    "            raise Exception(\"li must be a list\")\n",
    "        \n",
    "        if len(li) == 0:\n",
    "            return li\n",
    "        \n",
    "        minVal = min(li)\n",
    "        index = li.index(minVal)\n",
    "        for i in range(len(li)):\n",
    "            if i != index:\n",
    "                li[i] = li[i] * 0.75\n",
    "                li[index] += li[i] / 3\n",
    "        return li\n",
    "    except Exception as e:\n",
    "        return e\n",
    "    \n",
    "print(showTheLove([4, 1, 4]))\n",
    "print(showTheLove([16, 10, 8]))\n",
    "print(showTheLove([2, 100]))"
   ]
  },
  {
   "cell_type": "code",
   "execution_count": 2,
   "id": "148bddfe",
   "metadata": {},
   "outputs": [
    {
     "name": "stdout",
     "output_type": "stream",
     "text": [
      "['aps', 'hr', 'o']\n",
      "['bdor', 'a', 'e']\n",
      "['enp', 'ahis', 'lov']\n",
      "['flu', 'ekr', 'y']\n",
      "['ahm', 'ct', '']\n"
     ]
    }
   ],
   "source": [
    "# Question 2\n",
    "\n",
    "def letters(st1, st2):\n",
    "    try:\n",
    "        if type(st1) != str or type(st2) != str:\n",
    "            raise Exception('inputs must be strings')\n",
    "        \n",
    "        st1 = set(st1)\n",
    "        st2 = set(st2)\n",
    "        \n",
    "        result = []\n",
    "        result.append(''.join(sorted(st1.intersection(st2))))\n",
    "        result.append(''.join(sorted(st1.difference(st2))))\n",
    "        result.append(''.join(sorted(st2.difference(st1))))\n",
    "        \n",
    "        return result\n",
    "    except Exception as e:\n",
    "        return e\n",
    "    \n",
    "print(letters(\"sharp\", \"soap\"))\n",
    "print(letters(\"board\", \"bored\"))\n",
    "print(letters(\"happiness\", \"envelope\"))\n",
    "print(letters(\"kerfuffle\", \"fluffy\"))\n",
    "print(letters(\"match\", \"ham\"))"
   ]
  },
  {
   "cell_type": "code",
   "execution_count": 3,
   "id": "1b37fb31",
   "metadata": {},
   "outputs": [
    {
     "name": "stdout",
     "output_type": "stream",
     "text": [
      "[[1, 7], [2, 6], [3, 5], [4, 4]]\n",
      "[[1, 6], [2, 5], [3, 4]]\n",
      "[[5, 2], [9, 1], [8, 8]]\n",
      "[]\n"
     ]
    }
   ],
   "source": [
    "# Question 3\n",
    "\n",
    "def pairs(li):\n",
    "    try:\n",
    "        if type(li) != list:\n",
    "            raise Exception('input must be a list')\n",
    "        \n",
    "        if len(li) == 0:\n",
    "            return li\n",
    "        if len(li) % 2 == 0:\n",
    "            result = []\n",
    "            for i in range(0, int(len(li)//2)):\n",
    "                result.append([li[i], li[len(li)-i-1]])\n",
    "            return result\n",
    "        else:\n",
    "            result = []\n",
    "            for i in range(0, int(len(li)//2)+1):\n",
    "                result.append([li[i], li[len(li)-i-1]])\n",
    "            return result\n",
    "    except Exception as e:\n",
    "        return e\n",
    "    \n",
    "print(pairs([1, 2, 3, 4, 5, 6, 7]))\n",
    "print(pairs([1, 2, 3, 4, 5, 6]))\n",
    "print(pairs([5, 9, 8, 1, 2]))\n",
    "print(pairs([]))"
   ]
  },
  {
   "cell_type": "code",
   "execution_count": 4,
   "id": "fb763f38",
   "metadata": {},
   "outputs": [
    {
     "name": "stdout",
     "output_type": "stream",
     "text": [
      "9\n",
      "-1\n",
      "1\n",
      "1874682736267235927391936562808774986\n"
     ]
    }
   ],
   "source": [
    "# Question 4\n",
    "\n",
    "def addStrNumbers(sn1, sn2):\n",
    "    try:\n",
    "        if type(sn1) != str or type(sn2) != str:\n",
    "            raise Exception('input must be a string')\n",
    "        \n",
    "        if len(sn1) == 0 and len(sn2) == 0:\n",
    "            return ''\n",
    "        elif len(sn1) == 0:\n",
    "            try:\n",
    "                return str(int(sn2))\n",
    "            except:\n",
    "                return '-1'\n",
    "        elif len(sn2) == 0:\n",
    "            try:\n",
    "                return str(int(sn1))\n",
    "            except:\n",
    "                return '-1'\n",
    "        \n",
    "        try:\n",
    "            return str(int(sn1) + int(sn2))\n",
    "        except:\n",
    "            return '-1'\n",
    "    except Exception as e:\n",
    "        return e\n",
    "    \n",
    "print(addStrNumbers(\"4\", \"5\"))\n",
    "print(addStrNumbers(\"abcdefg\", \"3\"))\n",
    "print(addStrNumbers(\"1\", \"\"))\n",
    "print(addStrNumbers(\"1874682736267235927359283579235789257\", \"32652983572985729\"))"
   ]
  },
  {
   "cell_type": "code",
   "execution_count": 5,
   "id": "0efe9126",
   "metadata": {},
   "outputs": [
    {
     "name": "stdout",
     "output_type": "stream",
     "text": [
      "214365\n",
      "This is a mixed up string.\n",
      "abcde\n"
     ]
    }
   ],
   "source": [
    "# Question 5\n",
    "\n",
    "def unMix(string):\n",
    "    try:\n",
    "        if type(string) != str:\n",
    "            raise Exception(\"string must be a str\")\n",
    "        \n",
    "        if len(string) == 0:\n",
    "            return string\n",
    "        \n",
    "        result = ''\n",
    "        for i in range(0, len(string)-1, 2):\n",
    "            result += (string[i+1] + string[i])\n",
    "        if len(string) % 2 == 1:\n",
    "            return result + string[len(string)-1]\n",
    "        return result\n",
    "    except Exception as e:\n",
    "        return e\n",
    "    \n",
    "print(unMix(\"123456\"))\n",
    "print(unMix(\"hTsii  s aimex dpus rtni.g\"))\n",
    "print(unMix(\"badce\"))"
   ]
  }
 ],
 "metadata": {
  "kernelspec": {
   "display_name": "Python 3",
   "language": "python",
   "name": "python3"
  },
  "language_info": {
   "codemirror_mode": {
    "name": "ipython",
    "version": 3
   },
   "file_extension": ".py",
   "mimetype": "text/x-python",
   "name": "python",
   "nbconvert_exporter": "python",
   "pygments_lexer": "ipython3",
   "version": "3.8.10"
  }
 },
 "nbformat": 4,
 "nbformat_minor": 5
}
