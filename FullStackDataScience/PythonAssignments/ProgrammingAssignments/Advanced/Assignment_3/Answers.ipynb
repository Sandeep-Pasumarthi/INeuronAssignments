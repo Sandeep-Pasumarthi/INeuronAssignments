{
 "cells": [
  {
   "cell_type": "code",
   "execution_count": 1,
   "id": "3ffd2697",
   "metadata": {},
   "outputs": [
    {
     "name": "stdout",
     "output_type": "stream",
     "text": [
      "24\n",
      "0\n",
      "144\n",
      "-1\n"
     ]
    }
   ],
   "source": [
    "# Question 1\n",
    "\n",
    "def basicCal(string):\n",
    "    try:\n",
    "        if type(string) != str:\n",
    "            raise Exception(\"Input must be a string\")\n",
    "        \n",
    "        exp = string.split(' ')\n",
    "        if exp[1] == '+':\n",
    "            return int(exp[0]) + int(exp[2])\n",
    "        elif exp[1] == '-':\n",
    "            return int(exp[0]) - int(exp[2])\n",
    "        elif exp[1] == '*':\n",
    "            return int(exp[0]) * int(exp[2])\n",
    "        elif exp[1] == '//':\n",
    "            if int(exp[2]) == 0:\n",
    "                return -1\n",
    "            else:\n",
    "                return int(exp[0]) // int(exp[2])\n",
    "        else:\n",
    "            raise Exception(\"Operator not recognized\")\n",
    "    except Exception as e:\n",
    "        return e\n",
    "    \n",
    "print(basicCal(\"12 + 12\"))\n",
    "print(basicCal(\"12 - 12\"))\n",
    "print(basicCal(\"12 * 12\"))\n",
    "print(basicCal(\"12 // 0\"))"
   ]
  },
  {
   "cell_type": "code",
   "execution_count": 2,
   "id": "28736d64",
   "metadata": {},
   "outputs": [
    {
     "name": "stdout",
     "output_type": "stream",
     "text": [
      "47.08\n",
      "3.41\n",
      "68.28\n"
     ]
    }
   ],
   "source": [
    "# Question 2\n",
    "\n",
    "def perimeterTriangle(li):\n",
    "    try:\n",
    "        if type(li) != list:\n",
    "            raise Exception(\"Input must be a list\")\n",
    "        \n",
    "        points = []\n",
    "        for i in li:\n",
    "            try:\n",
    "                if type(i) != list:\n",
    "                    raise Exception(\"Input doesn't contain lists in list\")\n",
    "                points.append(i)\n",
    "            except Exception as e:\n",
    "                return e\n",
    "        import math\n",
    "        \n",
    "        sides = []\n",
    "        \n",
    "        calx = math.pow((points[0][0] - points[1][0]), 2)\n",
    "        caly = math.pow((points[0][1] - points[1][1]), 2)\n",
    "        sides.append(math.sqrt(calx + caly))\n",
    "        \n",
    "        calx = math.pow((points[1][0] - points[2][0]), 2)\n",
    "        caly = math.pow((points[1][1] - points[2][1]), 2)\n",
    "        sides.append(math.sqrt(calx + caly))\n",
    "        \n",
    "        calx = math.pow((points[0][0] - points[2][0]), 2)\n",
    "        caly = math.pow((points[0][1] - points[2][1]), 2)\n",
    "        sides.append(math.sqrt(calx + caly))\n",
    "        \n",
    "        return round(sum(sides), 2)\n",
    "    except Exception as e:\n",
    "        return e\n",
    "    \n",
    "print(perimeterTriangle([[15, 7], [5, 22], [11, 1]]))\n",
    "print(perimeterTriangle([[0, 0], [0, 1], [1, 0]]))\n",
    "print(perimeterTriangle([[-10, -10], [10, 10 ], [-10, 10]]))"
   ]
  },
  {
   "cell_type": "code",
   "execution_count": 3,
   "id": "9f5e0e39",
   "metadata": {},
   "outputs": [
    {
     "name": "stdout",
     "output_type": "stream",
     "text": [
      "3\n",
      "4\n",
      "2\n"
     ]
    }
   ],
   "source": [
    "# Question 3\n",
    "\n",
    "def tallestShyScrapper(li):\n",
    "    try:\n",
    "        if type(li) != list:\n",
    "            raise Exception(\"Input must be a list!!!\")\n",
    "            \n",
    "        results = []\n",
    "        for i in range(len(li[0])):\n",
    "            temp = 0\n",
    "            for j in range(len(li)):\n",
    "                temp += li[j][i]\n",
    "            results.append(temp)\n",
    "        return max(results)\n",
    "    except Exception as e:\n",
    "        return e\n",
    "    \n",
    "print(tallestShyScrapper(([[0, 0, 0, 0], [0, 1, 0, 0], [0, 1, 1, 0], [1, 1, 1, 1]])))\n",
    "print(tallestShyScrapper([[0, 1, 0, 0], [0, 1, 0, 0], [0, 1, 1, 0], [1, 1, 1, 1]]))\n",
    "print(tallestShyScrapper(([[0, 0, 0, 0], [0, 0, 0, 0], [1, 1, 1, 0], [1, 1, 1, 1]])))"
   ]
  },
  {
   "cell_type": "code",
   "execution_count": 4,
   "id": "3e99b9dd",
   "metadata": {},
   "outputs": [
    {
     "name": "stdout",
     "output_type": "stream",
     "text": [
      "0\n",
      "1625\n",
      "8200\n"
     ]
    }
   ],
   "source": [
    "# Question 4\n",
    "\n",
    "def calBonus(num):\n",
    "    try:\n",
    "        if type(num) != int or num < 0:\n",
    "            raise Exception(\"Input must be a positive integer\")\n",
    "\n",
    "        if num <= 32:\n",
    "            return 0\n",
    "        elif num <= 40:\n",
    "            return (num-32)*325\n",
    "        elif num <= 48:\n",
    "            return (8*325) + ((num-40)*550)\n",
    "        else:\n",
    "            return (8*325) + (8*550) + ((num-48)*600)\n",
    "    except Exception as e:\n",
    "        return e\n",
    "    \n",
    "print(calBonus(15))\n",
    "print(calBonus(37))\n",
    "print(calBonus(50))"
   ]
  },
  {
   "cell_type": "code",
   "execution_count": 5,
   "id": "4b831803",
   "metadata": {},
   "outputs": [
    {
     "name": "stdout",
     "output_type": "stream",
     "text": [
      "Enter a number: - 75\n",
      "False\n",
      "Enter a number: - 135\n",
      "True\n",
      "Enter a number: - 544\n",
      "False\n",
      "Enter a number: - 518\n",
      "True\n",
      "Enter a number: - 466\n",
      "False\n",
      "Enter a number: - 8\n",
      "True\n"
     ]
    }
   ],
   "source": [
    "# Question 5\n",
    "\n",
    "def disariumNumber():\n",
    "    try:\n",
    "        a = int(input(\"Enter a number: - \"))\n",
    "        a = str(a)\n",
    "        \n",
    "        x = 0\n",
    "        for i in range(len(a)):\n",
    "            x += (int(a[i])**(i+1))\n",
    "            \n",
    "        if int(a) == x:\n",
    "            return True\n",
    "        else:\n",
    "            return False\n",
    "    except Exception as e:\n",
    "        print(e)\n",
    "        \n",
    "print(disariumNumber())\n",
    "print(disariumNumber())\n",
    "print(disariumNumber())\n",
    "print(disariumNumber())\n",
    "print(disariumNumber())\n",
    "print(disariumNumber())"
   ]
  }
 ],
 "metadata": {
  "kernelspec": {
   "display_name": "Python 3",
   "language": "python",
   "name": "python3"
  },
  "language_info": {
   "codemirror_mode": {
    "name": "ipython",
    "version": 3
   },
   "file_extension": ".py",
   "mimetype": "text/x-python",
   "name": "python",
   "nbconvert_exporter": "python",
   "pygments_lexer": "ipython3",
   "version": "3.8.10"
  }
 },
 "nbformat": 4,
 "nbformat_minor": 5
}
