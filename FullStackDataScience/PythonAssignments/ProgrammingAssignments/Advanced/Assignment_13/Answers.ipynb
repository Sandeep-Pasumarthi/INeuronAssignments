{
 "cells": [
  {
   "cell_type": "code",
   "execution_count": 1,
   "id": "34cd12f2",
   "metadata": {},
   "outputs": [
    {
     "name": "stdout",
     "output_type": "stream",
     "text": [
      "['w']\n",
      "['b', 'g', 'w']\n",
      "[]\n"
     ]
    }
   ],
   "source": [
    "# Question 1\n",
    "\n",
    "def removeLetters(li, string):\n",
    "    try:\n",
    "        if type(li) != list:\n",
    "            raise Exception(\"li must be a list\")\n",
    "        if type(string) != str:\n",
    "            raise Exception(\"string must be a str\")\n",
    "        \n",
    "        if len(li) == 0:\n",
    "            return li\n",
    "        \n",
    "        for i in string:\n",
    "            if i in li:\n",
    "                li.remove(i)\n",
    "        \n",
    "        return li\n",
    "    except Exception as e:\n",
    "        return e\n",
    "    \n",
    "print(removeLetters([\"s\", \"t\", \"r\", \"i\", \"n\", \"g\", \"w\"], \"string\"))\n",
    "print(removeLetters([\"b\", \"b\", \"l\", \"l\", \"g\", \"n\", \"o\", \"a\", \"w\"], \"balloon\"))\n",
    "print(removeLetters([\"d\", \"b\", \"t\", \"e\", \"a\", \"i\"], \"edabit\"))"
   ]
  },
  {
   "cell_type": "code",
   "execution_count": 2,
   "id": "c771137f",
   "metadata": {},
   "outputs": [
    {
     "name": "stdout",
     "output_type": "stream",
     "text": [
      "5\n",
      "39\n",
      "12\n"
     ]
    }
   ],
   "source": [
    "# Question 2\n",
    "\n",
    "def numBlocks(n):\n",
    "    try:\n",
    "        if type(n) != int or n <= 0:\n",
    "            raise Exception('n must be a positive integer')\n",
    "        \n",
    "        result = 5\n",
    "        if n == 1:\n",
    "            return result\n",
    "        else:\n",
    "            for i in range(2, n+1):\n",
    "                result += (i+5)\n",
    "            return result\n",
    "    except Exception as e:\n",
    "        return e\n",
    "    \n",
    "print(numBlocks(1))\n",
    "print(numBlocks(5))\n",
    "print(numBlocks(2))"
   ]
  },
  {
   "cell_type": "code",
   "execution_count": 3,
   "id": "99ff49a6",
   "metadata": {},
   "outputs": [
    {
     "name": "stdout",
     "output_type": "stream",
     "text": [
      "4\n",
      "20\n",
      "0\n"
     ]
    }
   ],
   "source": [
    "# Question 3\n",
    "\n",
    "def mySub(n1, n2):\n",
    "    try:\n",
    "        if type(n1) != int or type(n2) != int:\n",
    "            raise Exception(\"inputs must be integer\")\n",
    "        \n",
    "        if n1 == n2:\n",
    "            return 0\n",
    "        elif n1 < n2:\n",
    "            return len(range(n1, n2))\n",
    "        elif n1 > n2:\n",
    "            return len(range(n2, n1))\n",
    "    except Exception as e:\n",
    "        return e\n",
    "    \n",
    "print(mySub(5, 9))\n",
    "print(mySub(10, 30))\n",
    "print(mySub(0, 0))"
   ]
  },
  {
   "cell_type": "code",
   "execution_count": 4,
   "id": "8b3e106c",
   "metadata": {},
   "outputs": [
    {
     "name": "stdout",
     "output_type": "stream",
     "text": [
      "70\n",
      "170\n",
      "2200\n"
     ]
    }
   ],
   "source": [
    "# Question 4\n",
    "\n",
    "def addBill(string):\n",
    "    try:\n",
    "        if type(string) != str:\n",
    "            raise Exception(\"string must be a str\")\n",
    "        if len(string) == 0:\n",
    "            return 0\n",
    "        \n",
    "        string = string.split(',')\n",
    "        result = []\n",
    "        for i in string:\n",
    "            if i[0] == 'd':\n",
    "                if i[len(i)-1] != 'k':\n",
    "                    result.append(int(i[1:]))\n",
    "                else:\n",
    "                    result.append(int(i[1:len(i)-1])*1000)\n",
    "        return sum(result)\n",
    "    except Exception as e:\n",
    "        return e\n",
    "    \n",
    "print(addBill(\"d20,p40,p60,d50\"))\n",
    "print(addBill(\"p30,d20,p60,d150,p360\"))\n",
    "print(addBill(\"p30,d2k,p60,d200,p360\"))"
   ]
  },
  {
   "cell_type": "code",
   "execution_count": 5,
   "id": "fd7eeb8f",
   "metadata": {},
   "outputs": [
    {
     "name": "stdout",
     "output_type": "stream",
     "text": [
      "[[1], [2], [3], [4]]\n",
      "[5, 6, 9]\n",
      "[]\n"
     ]
    }
   ],
   "source": [
    "# Question 5\n",
    "\n",
    "def flipList(li):\n",
    "    try:\n",
    "        if type(li) != list:\n",
    "            raise Exception(\"li must be a list\")\n",
    "        \n",
    "        if len(li) == 0:\n",
    "            return li\n",
    "        \n",
    "        if type(li[0]) != list:\n",
    "            result = []\n",
    "            for i in li:\n",
    "                result.append([i])\n",
    "            return result\n",
    "        else:\n",
    "            result = []\n",
    "            for i in li:\n",
    "                try:\n",
    "                    if len(i) != 1:\n",
    "                        raise Exception('wrong input')\n",
    "                    result.append(i[0])\n",
    "                except Exception as e:\n",
    "                    return e\n",
    "            return result\n",
    "    except Exception as e:\n",
    "        return e\n",
    "    \n",
    "print(flipList([1, 2, 3, 4]))\n",
    "print(flipList([[5], [6], [9]]))\n",
    "print(flipList([]))"
   ]
  }
 ],
 "metadata": {
  "kernelspec": {
   "display_name": "Python 3",
   "language": "python",
   "name": "python3"
  },
  "language_info": {
   "codemirror_mode": {
    "name": "ipython",
    "version": 3
   },
   "file_extension": ".py",
   "mimetype": "text/x-python",
   "name": "python",
   "nbconvert_exporter": "python",
   "pygments_lexer": "ipython3",
   "version": "3.8.10"
  }
 },
 "nbformat": 4,
 "nbformat_minor": 5
}
