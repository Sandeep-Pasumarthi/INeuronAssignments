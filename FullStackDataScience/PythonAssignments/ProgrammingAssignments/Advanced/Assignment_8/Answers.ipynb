{
 "cells": [
  {
   "cell_type": "code",
   "execution_count": 1,
   "id": "dc06dc7d",
   "metadata": {},
   "outputs": [
    {
     "name": "stdout",
     "output_type": "stream",
     "text": [
      "True\n",
      "True\n",
      "False\n",
      "False\n"
     ]
    }
   ],
   "source": [
    "# Question 1\n",
    "\n",
    "def vowelLink(string):\n",
    "    try:\n",
    "        if type(string) != str:\n",
    "            raise Exception(\"Input must be a string\")\n",
    "        \n",
    "        string = string.lower().split(\" \")\n",
    "        vowels = ['a', 'e', 'i', 'o', 'u']\n",
    "        \n",
    "        flag = False\n",
    "        for i in range(len(string)-1):\n",
    "            s1 = string[i]\n",
    "            s2 = string[i+1]\n",
    "            if (s1[len(s1)-1] in vowels) and (s2[0] in vowels):\n",
    "                flag = True\n",
    "                break\n",
    "        return flag\n",
    "    except Exception as e:\n",
    "        return e\n",
    "    \n",
    "print(vowelLink(\"a very large appliance\"))\n",
    "print(vowelLink(\"go to edabit\"))\n",
    "print(vowelLink(\"an open fire\"))\n",
    "print(vowelLink(\"a sudden applause\"))"
   ]
  },
  {
   "cell_type": "code",
   "execution_count": 2,
   "id": "0ab8c288",
   "metadata": {},
   "outputs": [
    {
     "name": "stdout",
     "output_type": "stream",
     "text": [
      "True\n",
      "True\n",
      "False\n",
      "False\n"
     ]
    }
   ],
   "source": [
    "# Question 2\n",
    "\n",
    "def firstBeforeSecond(string, first, second):\n",
    "    try:\n",
    "        if type(string) != str or type(first) != str or type(second) != str:\n",
    "            raise Exception(\"Input must be a string!!!\")\n",
    "        if len(first) != 1:\n",
    "            raise Exception(\"first has to be of 1 character\")\n",
    "        if len(second) != 1:\n",
    "            raise Exception(\"second has to be of 1 character\")\n",
    "        \n",
    "        if string.rindex(first) == -1 or string.index(second) == -1 or string.rindex(first) > string.index(second):\n",
    "            return False\n",
    "        else:\n",
    "            return True\n",
    "    except Exception as e:\n",
    "        return e\n",
    "    \n",
    "print(firstBeforeSecond(\"a rabbit jumps joyfully\", \"a\", \"j\"))\n",
    "print(firstBeforeSecond(\"knaves knew about waterfalls\", \"k\", \"w\"))\n",
    "print(firstBeforeSecond(\"happy birthday\", \"a\", \"y\"))\n",
    "print(firstBeforeSecond(\"precarious kangaroos\", \"k\", \"a\"))"
   ]
  },
  {
   "cell_type": "code",
   "execution_count": 3,
   "id": "5a33222c",
   "metadata": {},
   "outputs": [
    {
     "name": "stdout",
     "output_type": "stream",
     "text": [
      "[4, 8]\n",
      "EAI\n",
      "['A', 'B', 'T', 'A', 'I', 'Y']\n"
     ]
    }
   ],
   "source": [
    "# Question 3\n",
    "\n",
    "def charAtPos(stli, specifier):\n",
    "    try:\n",
    "        if (type(stli) != list and type(stli) != str) or len(stli) == 0:\n",
    "            raise Exception(\"stli is either list or str and of length greater than zero\")\n",
    "        if (specifier != 'even' and specifier != 'odd'):\n",
    "            raise Exception(\"specifier unidentified\")\n",
    "        \n",
    "        if specifier == 'even':\n",
    "            if len(stli) >= 2:\n",
    "                return stli[1::2]\n",
    "            else:\n",
    "                return ''\n",
    "        elif specifier == 'odd':\n",
    "            return stli[::2]\n",
    "    except Exception as e:\n",
    "        return e\n",
    "    \n",
    "print(charAtPos([2, 4, 6, 8, 10], \"even\"))\n",
    "print(charAtPos(\"EDABIT\", \"odd\"))\n",
    "print(charAtPos([\"A\", \"R\", \"B\", \"I\", \"T\", \"R\", \"A\", \"R\", \"I\", \"L\", \"Y\"], \"odd\"))"
   ]
  },
  {
   "cell_type": "code",
   "execution_count": 4,
   "id": "a97749a3",
   "metadata": {},
   "outputs": [
    {
     "name": "stdout",
     "output_type": "stream",
     "text": [
      "10\n",
      "1\n",
      "64\n"
     ]
    }
   ],
   "source": [
    "# Question 4\n",
    "\n",
    "def gcdTwo(a, b):\n",
    "    while(b):\n",
    "        a, b = b, a % b\n",
    "    return a\n",
    "\n",
    "def gcdAll(li):\n",
    "    try:\n",
    "        if type(li) != list:\n",
    "            raise Exception(\"Input must be a list\")\n",
    "        if len(li) <= 1:\n",
    "            raise Exception(\"Input must contain atleast two numbers\")\n",
    "        \n",
    "        gcd = gcdTwo(li[0], li[1])\n",
    "        for i in range(2, len(li)):\n",
    "            gcd = gcdTwo(gcd, li[i])\n",
    "        return gcd\n",
    "    except Exception as e:\n",
    "        return e\n",
    "    \n",
    "print(gcdAll([10, 20, 30]))\n",
    "print(gcdAll([1, 2, 3, 100]))\n",
    "print(gcdAll([1024, 192, 2048, 512]))"
   ]
  },
  {
   "cell_type": "code",
   "execution_count": 5,
   "id": "7a6e58e0",
   "metadata": {},
   "outputs": [
    {
     "name": "stdout",
     "output_type": "stream",
     "text": [
      "Decimal only.\n",
      "Binary only.\n",
      "Decimal and Binary.\n",
      "Neither!\n"
     ]
    }
   ],
   "source": [
    "# Question 5\n",
    "\n",
    "def checkPalindrome(n):\n",
    "    n = str(n)\n",
    "    if len(n) % 2 == 0:\n",
    "        if n[:(len(n)//2)] == n[(len(n)//2):][-1::-1]:\n",
    "            return True\n",
    "        else:\n",
    "            return False\n",
    "    else:\n",
    "        if n[:(len(n)//2)] == n[(len(n)//2)+1:][-1::-1]:\n",
    "            return True\n",
    "        else:\n",
    "            return False\n",
    "\n",
    "def convertBinary(n):\n",
    "    result = ''\n",
    "    while True:\n",
    "        if n == 0 or n == 1:\n",
    "            result += str(n)\n",
    "            break\n",
    "        result += str(n % 2)\n",
    "        n = n // 2\n",
    "    return result[-1::-1]\n",
    "        \n",
    "def checkBinDecPalindrome(n):\n",
    "    try:\n",
    "        if type(n) != int or n < 0:\n",
    "            raise Exception(\"n must be a positive integer\")\n",
    "        \n",
    "        nBin = convertBinary(n)\n",
    "        if checkPalindrome(n) == True and checkPalindrome(nBin) == True:\n",
    "            return 'Decimal and Binary.'\n",
    "        elif checkPalindrome(n) == True:\n",
    "            return 'Decimal only.'\n",
    "        elif checkPalindrome(nBin) == True:\n",
    "            return 'Binary only.'\n",
    "        else:\n",
    "            return 'Neither!'\n",
    "    except Exception as e:\n",
    "        return e\n",
    "\n",
    "print(checkBinDecPalindrome(1306031))\n",
    "print(checkBinDecPalindrome(427787))\n",
    "print(checkBinDecPalindrome(313))\n",
    "print(checkBinDecPalindrome(934))"
   ]
  }
 ],
 "metadata": {
  "kernelspec": {
   "display_name": "Python 3",
   "language": "python",
   "name": "python3"
  },
  "language_info": {
   "codemirror_mode": {
    "name": "ipython",
    "version": 3
   },
   "file_extension": ".py",
   "mimetype": "text/x-python",
   "name": "python",
   "nbconvert_exporter": "python",
   "pygments_lexer": "ipython3",
   "version": "3.8.10"
  }
 },
 "nbformat": 4,
 "nbformat_minor": 5
}
