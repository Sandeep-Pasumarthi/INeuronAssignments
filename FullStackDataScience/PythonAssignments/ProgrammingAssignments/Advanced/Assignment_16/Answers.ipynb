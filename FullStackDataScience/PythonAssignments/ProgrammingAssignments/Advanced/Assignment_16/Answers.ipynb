{
 "cells": [
  {
   "cell_type": "code",
   "execution_count": 1,
   "id": "79c70c1d",
   "metadata": {},
   "outputs": [
    {
     "name": "stdout",
     "output_type": "stream",
     "text": [
      "True\n",
      "True\n",
      "False\n",
      "False\n",
      "False\n"
     ]
    }
   ],
   "source": [
    "# Question 1\n",
    "\n",
    "def validRondo(string):\n",
    "    try:\n",
    "        if type(string) != str or len(string) == 0:\n",
    "            raise Exception(\"string just be a non empty str\")\n",
    "        \n",
    "        string = string.upper()\n",
    "        if len(string) == 1:\n",
    "            return False\n",
    "        if string[0] == 'A' and string[-1] == 'A':\n",
    "            string = string[1:-1].split('A')\n",
    "            flag = True\n",
    "            for i in string:\n",
    "                if len(i) != len(set(i)):\n",
    "                    flag = False\n",
    "                    return flag\n",
    "            return flag\n",
    "        else:\n",
    "            return False\n",
    "    except Exception as e:\n",
    "        return e\n",
    "    \n",
    "print(validRondo(\"ABACADAEAFAGAHAIAJA\"))\n",
    "print(validRondo(\"ABA\"))\n",
    "print(validRondo(\"ABBACCA\"))\n",
    "print(validRondo(\"ACAC\"))\n",
    "print(validRondo(\"A\"))"
   ]
  },
  {
   "cell_type": "code",
   "execution_count": 2,
   "id": "8b26812c",
   "metadata": {},
   "outputs": [
    {
     "name": "stdout",
     "output_type": "stream",
     "text": [
      "I have a cat.\n",
      "I have a mat.\n",
      "Things are going swell.\n",
      "\"\"\n"
     ]
    }
   ],
   "source": [
    "# Question 2\n",
    "\n",
    "def sentenceSearcher(txt, searchWord):\n",
    "    try:\n",
    "        if type(txt) != str or len(txt) == 0:\n",
    "            raise Exception('txt must be a non empty text')\n",
    "        if type(searchWord) != str or len(searchWord) == 0:\n",
    "            raise Exception('searchWord must be a non empty str')\n",
    "        \n",
    "        if len(txt) < len(searchWord):\n",
    "            return ''\n",
    "        else:\n",
    "            txt = txt.split('. ')\n",
    "            for i in txt:\n",
    "                if searchWord.lower() in i.lower():\n",
    "                    if '.' in i:\n",
    "                        return i\n",
    "                    else:\n",
    "                        return i + '.'\n",
    "        return '\\\"\\\"'\n",
    "    except Exception as e:\n",
    "        return e\n",
    "\n",
    "txt = \"I have a cat. I have a mat. Things are going swell.\"\n",
    "print(sentenceSearcher(txt, \"have\"))\n",
    "print(sentenceSearcher(txt, \"MAT\"))\n",
    "print(sentenceSearcher(txt, \"things\"))\n",
    "print(sentenceSearcher(txt, \"flat\"))"
   ]
  },
  {
   "cell_type": "code",
   "execution_count": 3,
   "id": "0c05bf53",
   "metadata": {},
   "outputs": [
    {
     "name": "stdout",
     "output_type": "stream",
     "text": [
      "1 100\n",
      "4 30 200 1000\n",
      "10 200 4000 50000\n"
     ]
    }
   ],
   "source": [
    "# Question 3\n",
    "\n",
    "def sumRound(n):\n",
    "    try:\n",
    "        if type(n) != int or n < 0:\n",
    "            raise Exception('n must be a non negative integer')\n",
    "    \n",
    "        if n == 0:\n",
    "            return str(0)\n",
    "        else:\n",
    "            result = []\n",
    "            size = len(str(n))\n",
    "            for i in str(n):\n",
    "                if int(i) == 0:\n",
    "                    size -= 1\n",
    "                else:\n",
    "                    result.append(str(int(i) * (10**(size-1))))\n",
    "                    size -= 1\n",
    "        \n",
    "            return ' '.join(result[-1::-1])\n",
    "    except Exception as e:\n",
    "        return e\n",
    "    \n",
    "print(sumRound(101))\n",
    "print(sumRound(1234))\n",
    "print(sumRound(54210))"
   ]
  },
  {
   "cell_type": "code",
   "execution_count": 4,
   "id": "73a24c69",
   "metadata": {},
   "outputs": [
    {
     "name": "stdout",
     "output_type": "stream",
     "text": [
      "[[1]]\n",
      "[[1, 2, 3], [2, 4, 6], [3, 6, 9]]\n",
      "[[1, 2, 3, 4, 5], [2, 4, 6, 8, 10], [3, 6, 9, 12, 15], [4, 8, 12, 16, 20], [5, 10, 15, 20, 25]]\n"
     ]
    }
   ],
   "source": [
    "# Question 4\n",
    "\n",
    "def multiplicationTable(n):\n",
    "    try:\n",
    "        if type(n) != int or n <= 0:\n",
    "            raise Exception('n must be a positive integer')\n",
    "        \n",
    "        result = []\n",
    "        for i in range(1, n+1):\n",
    "            result.append(list(range(i, i*n+1, i)))\n",
    "        return result\n",
    "    except Exception as e:\n",
    "        return e\n",
    "    \n",
    "print(multiplicationTable(1))\n",
    "print(multiplicationTable(3))\n",
    "print(multiplicationTable(5))"
   ]
  },
  {
   "cell_type": "code",
   "execution_count": 5,
   "id": "4e5606bf",
   "metadata": {},
   "outputs": [
    {
     "name": "stdout",
     "output_type": "stream",
     "text": [
      "True\n",
      "True\n",
      "False\n",
      "False\n"
     ]
    }
   ],
   "source": [
    "# Question 5\n",
    "\n",
    "def removePunc(li):\n",
    "    try:\n",
    "        puncuations = ['?', '.', '!', '&', ',']\n",
    "        resultLower = []\n",
    "        for i in puncuations:\n",
    "            count = 0\n",
    "            while count < len(li):\n",
    "                if i in li:\n",
    "                    li = li.replace(i, '')\n",
    "                else:\n",
    "                    count += 1\n",
    "        return li\n",
    "    except Exception as e:\n",
    "        return e\n",
    "    \n",
    "def doesRhyme(r1, r2):\n",
    "    try:\n",
    "        if type(r1) != str or type(r2) != str:\n",
    "            raise Exception('input must be a string')\n",
    "        if len(r1) == 0 or len(r2) == 0:\n",
    "            raise Exception('input must be non empty')\n",
    "            \n",
    "        lr1 = r1[r1.rindex(' ')+1:]\n",
    "        lr2 = r2[r2.rindex(' ')+1:]\n",
    "        \n",
    "        lr1 = removePunc(lr1).lower()\n",
    "        lr2 = removePunc(lr2).lower()\n",
    "        \n",
    "        vowels = ['a', 'e', 'i', 'o', 'u']\n",
    "        \n",
    "        vlr1 = []\n",
    "        vlr2 = []\n",
    "        \n",
    "        for i in lr1:\n",
    "            if i in vowels:\n",
    "                vlr1.append(i)\n",
    "        for i in lr2:\n",
    "            if i in vowels:\n",
    "                vlr2.append(i)\n",
    "             \n",
    "        if sorted(set(vlr1)) == sorted(set(vlr2)):\n",
    "            return True\n",
    "        else:\n",
    "            return False\n",
    "    except Exception as e:\n",
    "        return e\n",
    "    \n",
    "print(doesRhyme(\"Sam I am!\", \"Green eggs and ham.\"))\n",
    "print(doesRhyme(\"Sam I am!\", \"Green eggs and HAM.\"))\n",
    "print(doesRhyme(\"You are off to the races\", \"a splendid day.\"))\n",
    "print(doesRhyme(\"and frequently do?\", \"you gotta move.\"))"
   ]
  }
 ],
 "metadata": {
  "kernelspec": {
   "display_name": "Python 3",
   "language": "python",
   "name": "python3"
  },
  "language_info": {
   "codemirror_mode": {
    "name": "ipython",
    "version": 3
   },
   "file_extension": ".py",
   "mimetype": "text/x-python",
   "name": "python",
   "nbconvert_exporter": "python",
   "pygments_lexer": "ipython3",
   "version": "3.8.10"
  }
 },
 "nbformat": 4,
 "nbformat_minor": 5
}
