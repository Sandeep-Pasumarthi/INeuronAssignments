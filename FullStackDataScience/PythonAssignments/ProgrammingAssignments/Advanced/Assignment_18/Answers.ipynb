{
 "cells": [
  {
   "cell_type": "code",
   "execution_count": 1,
   "id": "9559350e",
   "metadata": {},
   "outputs": [
    {
     "name": "stdout",
     "output_type": "stream",
     "text": [
      "[-20, 40]\n",
      "[0, 0]\n",
      "[200, 10500]\n"
     ]
    }
   ],
   "source": [
    "# Question 1\n",
    "\n",
    "def trackRobot(li):\n",
    "    try:\n",
    "        if type(li) != list:\n",
    "            raise Exception(\"li must be a list\")\n",
    "        \n",
    "        if len(li) == 0:\n",
    "            return [0, 0]\n",
    "        else:\n",
    "            result = [0, 0]\n",
    "            for i in li:\n",
    "                if 'right' in i.lower():\n",
    "                    result[0] += int(i[i.index(' ')+1:])\n",
    "                elif 'left' in i.lower():\n",
    "                    result[0] -= int(i[i.index(' ')+1:])\n",
    "                elif 'up' in i.lower():\n",
    "                    result[1] += int(i[i.index(' ')+1:])\n",
    "                elif 'down' in i.lower():\n",
    "                    result[1] -= int(i[i.index(' ')+1:])\n",
    "                else:\n",
    "                    raise Exception('Invalid instruction')\n",
    "            return result\n",
    "    except Exception as e:\n",
    "        return e\n",
    "    \n",
    "print(trackRobot([\"right 10\", \"up 50\", \"left 30\", \"down 10\"]))\n",
    "print(trackRobot([]))\n",
    "print(trackRobot([\"right 100\", \"right 100\", \"up 500\", \"up 10000\"]))"
   ]
  },
  {
   "cell_type": "code",
   "execution_count": 2,
   "id": "23bd8145",
   "metadata": {},
   "outputs": [
    {
     "name": "stdout",
     "output_type": "stream",
     "text": [
      "forever\n",
      "forgetfulness\n",
      "strengths\n"
     ]
    }
   ],
   "source": [
    "# Question 2\n",
    "\n",
    "def removePunc(li):\n",
    "    try:\n",
    "        puncuations = ['?', '.', '!', '&', ',', '\"', '\\'']\n",
    "        lens = []\n",
    "        for i in puncuations:\n",
    "            count = 0\n",
    "            while count < len(li):\n",
    "                if i in li[count]:\n",
    "                    li[count] = li[count].replace(i, '')\n",
    "                else:\n",
    "                    count += 1\n",
    "        for i in li:\n",
    "            lens.append(len(i))\n",
    "        return li, lens\n",
    "    except Exception as e:\n",
    "        return e\n",
    "\n",
    "def findLongest(string):\n",
    "    try:\n",
    "        if type(string) != str or len(string) == 0:\n",
    "            raise Exception('string must be a non empty string')\n",
    "        \n",
    "        string = string.lower().split(' ')\n",
    "        string, lens = removePunc(string)\n",
    "        return string[lens.index(max(lens))]\n",
    "    except Exception as e:\n",
    "        return e\n",
    "    \n",
    "print(findLongest(\"A thing of beauty is a joy forever.\"))\n",
    "print(findLongest(\"Forgetfulness is by all means powerless!\"))\n",
    "print(findLongest(\"\\\"Strengths\\\" is the longest and most commonly used word that contains only a single vowel.\"))"
   ]
  },
  {
   "cell_type": "code",
   "execution_count": 3,
   "id": "37849a03",
   "metadata": {},
   "outputs": [
    {
     "name": "stdout",
     "output_type": "stream",
     "text": [
      "qualified\n",
      "qualified\n",
      "disqualified\n",
      "disqualified\n",
      "disqualified\n"
     ]
    }
   ],
   "source": [
    "# Question 3\n",
    "\n",
    "def interview(time, tTime):\n",
    "    try:\n",
    "        if type(time) != list:\n",
    "            raise Exception('time must be of type list')\n",
    "        if type(tTime) != int or tTime <= 0:\n",
    "            raise Exception('tTime must be a positive integer')\n",
    "        \n",
    "        if tTime > 120 or len(time) != 8:\n",
    "            return 'disqualified'\n",
    "        else:\n",
    "            count = 0\n",
    "            for i in time:\n",
    "                if count < 2:\n",
    "                    if i <= 5:\n",
    "                        pass\n",
    "                    else:\n",
    "                        return 'disqualified'\n",
    "                elif count < 4:\n",
    "                    if i <= 10:\n",
    "                        pass\n",
    "                    else:\n",
    "                        return 'disqualified'\n",
    "                elif count < 6:\n",
    "                    if i <= 15:\n",
    "                        pass\n",
    "                    else:\n",
    "                        return 'disqualified'\n",
    "                elif count < 8:\n",
    "                    if i <= 20:\n",
    "                        pass\n",
    "                else:\n",
    "                    return 'disqualified'\n",
    "                count += 1\n",
    "        return 'qualified'\n",
    "    except Exception as e:\n",
    "        return e\n",
    "    \n",
    "print(interview([5, 5, 10, 10, 15, 15, 20, 20], 120))\n",
    "print(interview([2, 3, 8, 6, 5, 12, 10, 18], 64))\n",
    "print(interview([5, 5, 10, 10, 25, 15, 20, 20], 120))\n",
    "print(interview([5, 5, 10, 10, 15, 15, 20], 120))\n",
    "print(interview([5, 5, 10, 10, 15, 15, 20, 20], 130))"
   ]
  },
  {
   "cell_type": "code",
   "execution_count": 4,
   "id": "fe894ba2",
   "metadata": {},
   "outputs": [
    {
     "name": "stdout",
     "output_type": "stream",
     "text": [
      "[[2, 3], [4, 5]]\n",
      "[[2, 3], [4, 5], [6]]\n",
      "[[2, 3, 4], [5, 6, 7]]\n",
      "[[2], [3], [4], [5], [6], [7]]\n",
      "[2, 3, 4, 5, 6, 7]\n"
     ]
    }
   ],
   "source": [
    "# Question 4\n",
    "\n",
    "def chunkify(li, chunkSize):\n",
    "    try:\n",
    "        if type(li) != list or len(li) == 0:\n",
    "            raise Exception('li must be a non empty list')\n",
    "        if type(chunkSize) != int or chunkSize <= 0:\n",
    "            raise Exception('chunkSize must be a positive integer')\n",
    "        \n",
    "        if len(li) <= chunkSize:\n",
    "            return li\n",
    "        else:\n",
    "            if len(li) % chunkSize == 0:\n",
    "                result = []\n",
    "                previous = 0\n",
    "                for i in range(chunkSize, len(li)+1, chunkSize):\n",
    "                    result.append(li[previous : i])\n",
    "                    previous = i\n",
    "                return result\n",
    "            else:\n",
    "                result = []\n",
    "                previous = 0\n",
    "                for i in range(chunkSize, len(li), chunkSize):\n",
    "                    result.append(li[previous : i])\n",
    "                    previous = i\n",
    "                result.append(li[previous:])\n",
    "                return result\n",
    "    except Exception as e:\n",
    "        return e\n",
    "    \n",
    "print(chunkify([2, 3, 4, 5], 2))\n",
    "print(chunkify([2, 3, 4, 5, 6], 2))\n",
    "print(chunkify([2, 3, 4, 5, 6, 7], 3))\n",
    "print(chunkify([2, 3, 4, 5, 6, 7], 1))\n",
    "print(chunkify([2, 3, 4, 5, 6, 7], 7))"
   ]
  },
  {
   "cell_type": "code",
   "execution_count": 5,
   "id": "9d093dd1",
   "metadata": {},
   "outputs": [
    {
     "name": "stdout",
     "output_type": "stream",
     "text": [
      "[4.99]\n",
      "[1.99, 5.99, 0.75]\n",
      "[5.99, 0.2, 8.5, 1.99]\n"
     ]
    }
   ],
   "source": [
    "# Question 5\n",
    "\n",
    "def getPrices(li):\n",
    "    try:\n",
    "        if type(li) != list:\n",
    "            raise Exception('li must be a list')\n",
    "        if len(li) == 0:\n",
    "            return 'empty list'\n",
    "        \n",
    "        import re\n",
    "        result = []\n",
    "        for i in li:\n",
    "            result.append(float('.'.join(re.findall(r\"[0-9]+\", i))))\n",
    "        return result\n",
    "    except Exception as e:\n",
    "        return e\n",
    "    \n",
    "print(getPrices([\"salad ($4.99)\"]))\n",
    "print(getPrices([\"artichokes ($1.99)\", \"rotiserrie chicken ($5.99)\", \"gum ($0.75)\"]))\n",
    "print(getPrices([\"ice cream ($5.99)\", \"banana ($0.20)\", \"sandwich ($8.50)\", \"soup ($1.99)\"]))"
   ]
  }
 ],
 "metadata": {
  "kernelspec": {
   "display_name": "Python 3",
   "language": "python",
   "name": "python3"
  },
  "language_info": {
   "codemirror_mode": {
    "name": "ipython",
    "version": 3
   },
   "file_extension": ".py",
   "mimetype": "text/x-python",
   "name": "python",
   "nbconvert_exporter": "python",
   "pygments_lexer": "ipython3",
   "version": "3.8.10"
  }
 },
 "nbformat": 4,
 "nbformat_minor": 5
}
