{
 "cells": [
  {
   "cell_type": "code",
   "execution_count": 1,
   "id": "af8c400a",
   "metadata": {},
   "outputs": [
    {
     "name": "stdout",
     "output_type": "stream",
     "text": [
      "[[1, 2, 3], [1, 2, 3], [1, 2, 3]]\n",
      "[[5, 6, 9], [5, 7, 1]]\n"
     ]
    }
   ],
   "source": [
    "# Question 1\n",
    "\n",
    "def transpose2D(matrix):\n",
    "    try:\n",
    "        if type(matrix) != list or len(matrix) == 0:\n",
    "            raise Exception('matrix must be of type list and non empty')\n",
    "        \n",
    "        rRow = len(matrix[0])\n",
    "        rCol = len(matrix)\n",
    "        result = []\n",
    "        for i in range(rRow):\n",
    "            temp = []\n",
    "            for j in range(rCol):\n",
    "                temp.append(matrix[j][i])\n",
    "            result.append(temp)\n",
    "        return result\n",
    "    except Exception as e:\n",
    "        return e\n",
    "    \n",
    "print(transpose2D([\n",
    " [1, 1, 1],\n",
    " [2, 2, 2],\n",
    " [3, 3, 3]\n",
    "]))\n",
    "\n",
    "print(transpose2D([\n",
    " [5, 5],\n",
    " [6, 7],\n",
    " [9, 1]\n",
    "]))"
   ]
  },
  {
   "cell_type": "code",
   "execution_count": 2,
   "id": "ec359e79",
   "metadata": {},
   "outputs": [
    {
     "name": "stdout",
     "output_type": "stream",
     "text": [
      "True\n",
      "True\n",
      "True\n",
      "False\n",
      "False\n",
      "False\n",
      "False\n"
     ]
    }
   ],
   "source": [
    "# Question 2\n",
    "\n",
    "def validHexCode(hexcode):\n",
    "    try:\n",
    "        if type(hexcode) != str:\n",
    "            raise Exception('hexcode must be a string')\n",
    "            \n",
    "        if len(hexcode) != 7:\n",
    "            return False\n",
    "        elif hexcode[0] != '#':\n",
    "            return False\n",
    "        else:\n",
    "            nums = ['0', '1', '2', '3', '4', '5', '6', '7', '8', '9']\n",
    "            chars = ['a', 'b', 'c', 'd', 'e', 'f']\n",
    "            \n",
    "            for i in range(1, len(hexcode)):\n",
    "                if hexcode[i] in nums:\n",
    "                    pass\n",
    "                elif hexcode[i].lower() in chars:\n",
    "                    pass\n",
    "                else:\n",
    "                    return False\n",
    "            return True\n",
    "    except Exception as e:\n",
    "        return e\n",
    "    \n",
    "print(validHexCode(\"#CD5C5C\"))\n",
    "print(validHexCode(\"#EAECEE\"))\n",
    "print(validHexCode(\"#eaecee\"))\n",
    "print(validHexCode(\"#CD5C58C\"))\n",
    "print(validHexCode(\"#CD5C5Z\"))\n",
    "print(validHexCode(\"#CD5C&C\"))\n",
    "print(validHexCode(\"CD5C5C\"))"
   ]
  },
  {
   "cell_type": "code",
   "execution_count": 3,
   "id": "10a4e917",
   "metadata": {},
   "outputs": [
    {
     "name": "stdout",
     "output_type": "stream",
     "text": [
      "75\n",
      "0\n",
      "67\n"
     ]
    }
   ],
   "source": [
    "# Question 3\n",
    "\n",
    "def operandsOperatorResult(exp):\n",
    "    operands = []\n",
    "    operator = ''\n",
    "    result = ''\n",
    "    if '+' in exp:\n",
    "        indexop = exp.index('+')\n",
    "        indexass = exp.index('=')\n",
    "        operands.append(float(exp[:indexop]))\n",
    "        operands.append(float(exp[indexop+1:indexass]))\n",
    "        operator = '+'\n",
    "        result = float(exp[indexass+1:])\n",
    "        if operands[0] + operands[1] == result:\n",
    "            return True\n",
    "        else:\n",
    "            return False\n",
    "    elif '-' in exp:\n",
    "        indexop = exp.index('-')\n",
    "        indexass = exp.index('=')\n",
    "        operands.append(float(exp[:indexop]))\n",
    "        operands.append(float(exp[indexop+1:indexass]))\n",
    "        operator = '-'\n",
    "        result = float(exp[indexass+1:])\n",
    "        if operands[0] - operands[1] == result:\n",
    "            return True\n",
    "        else:\n",
    "            return False\n",
    "    elif '*' in exp:\n",
    "        indexop = exp.index('*')\n",
    "        indexass = exp.index('=')\n",
    "        operands.append(float(exp[:indexop]))\n",
    "        operands.append(float(exp[indexop+1:indexass]))\n",
    "        operator = '*'\n",
    "        result = float(exp[indexass+1:])\n",
    "        if operands[0] * operands[1] == result:\n",
    "            return True\n",
    "        else:\n",
    "            return False\n",
    "    elif '/' in exp:\n",
    "        indexop = exp.index('/')\n",
    "        indexass = exp.index('=')\n",
    "        operands.append(float(exp[:indexop]))\n",
    "        operands.append(float(exp[indexop+1:indexass]))\n",
    "        operator = '/'\n",
    "        result = float(exp[indexass+1:])\n",
    "        if operands[0] / operands[1] == result:\n",
    "            return True\n",
    "        else:\n",
    "            return False\n",
    "def evalExpression(matLi):\n",
    "    try:\n",
    "        if type(matLi) != list or len(matLi) == 0:\n",
    "            raise Exception('matLi must be a non empty list')\n",
    "            \n",
    "        count = 0\n",
    "        for i in matLi:\n",
    "            if operandsOperatorResult(i) == True:\n",
    "                count += 1\n",
    "        return round(count/len(matLi)*100)\n",
    "    except Exception as e:\n",
    "        return e\n",
    "    \n",
    "print(evalExpression([\"2+2=4\", \"3+2=5\", \"10-3=3\", \"5+5=10\"]))\n",
    "print(evalExpression([\"1-2=-2\"]))\n",
    "print(evalExpression([\"2+3=5\", \"4+4=9\", \"3-1=2\"]))"
   ]
  },
  {
   "cell_type": "code",
   "execution_count": 4,
   "id": "55f2ed1e",
   "metadata": {},
   "outputs": [
    {
     "name": "stdout",
     "output_type": "stream",
     "text": [
      "False\n",
      "True\n",
      "True\n",
      "False\n"
     ]
    }
   ],
   "source": [
    "# Question 4\n",
    "\n",
    "def magicSquareGame(alice, bob):\n",
    "    try:\n",
    "        if type(alice) != list or len(alice) != 2:\n",
    "            raise Exception('alice must be of type list and length 2')\n",
    "        if type(bob) != list or len(bob) != 2:\n",
    "            raise Exception('bob must be of type list and length 2')\n",
    "        if len(alice[1]) != 3 or len(bob[1]) != 3:\n",
    "            raise Exception('wrong input')\n",
    "        if alice[0] > 3 or alice[0] <= 0 or bob[0] > 3 or bob[0] <= 0:\n",
    "            raise Exception('wrong input')\n",
    "        \n",
    "        if alice[1][bob[0]-1] == bob[1][alice[0]-1]:\n",
    "            if alice[1].count('1') % 2 == 1 and bob[1].count('1') % 2 == 0:\n",
    "                return True\n",
    "            else:\n",
    "                return False\n",
    "        else:\n",
    "            return False\n",
    "    except Exception as e:\n",
    "        return e\n",
    "    \n",
    "print(magicSquareGame([2, \"100\"], [1, \"101\"]))\n",
    "print(magicSquareGame([2, \"001\"], [1, \"101\"]))\n",
    "print(magicSquareGame([3, \"111\"], [2, \"011\"]))\n",
    "print(magicSquareGame([1, \"010\"], [3, \"101\"]))"
   ]
  },
  {
   "cell_type": "code",
   "execution_count": 5,
   "id": "394add7f",
   "metadata": {},
   "outputs": [
    {
     "name": "stdout",
     "output_type": "stream",
     "text": [
      "2h 30min 0s\n",
      "1h 52min 0s\n",
      "0h 38min 34s\n"
     ]
    }
   ],
   "source": [
    "# Question 5\n",
    "\n",
    "def letsMeet(distance, va, vb):\n",
    "    try:\n",
    "        time = (distance / (va+vb))*3600\n",
    "        hrs = int(time / 3600)\n",
    "        time = time % 3600\n",
    "        mins = int(time / 60)\n",
    "        time = time % 60\n",
    "        secs = int(time)\n",
    "        \n",
    "        return str(hrs) + 'h '+ str(mins) + 'min ' + str(secs) + 's'\n",
    "    except Exception as e:\n",
    "        return e\n",
    "    \n",
    "print(letsMeet(100, 10, 30))\n",
    "print(letsMeet(280, 70, 80))\n",
    "print(letsMeet(90, 75, 65))"
   ]
  }
 ],
 "metadata": {
  "kernelspec": {
   "display_name": "Python 3",
   "language": "python",
   "name": "python3"
  },
  "language_info": {
   "codemirror_mode": {
    "name": "ipython",
    "version": 3
   },
   "file_extension": ".py",
   "mimetype": "text/x-python",
   "name": "python",
   "nbconvert_exporter": "python",
   "pygments_lexer": "ipython3",
   "version": "3.8.10"
  }
 },
 "nbformat": 4,
 "nbformat_minor": 5
}
