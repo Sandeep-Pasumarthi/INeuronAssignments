{
 "cells": [
  {
   "cell_type": "code",
   "execution_count": 1,
   "id": "886adcda",
   "metadata": {},
   "outputs": [
    {
     "name": "stdout",
     "output_type": "stream",
     "text": [
      "<p class='one two three'></p>\n",
      "<p class='one'></p>\n",
      "<p class='four five'></p>\n"
     ]
    }
   ],
   "source": [
    "# Question 1\n",
    "\n",
    "def secret(string):\n",
    "    try:\n",
    "        if type(string) != str or len(string) <= 2:\n",
    "            raise Exception('string must be of type str and of length 2')\n",
    "        if string[:2] != 'p.':\n",
    "            raise Exception('wrong input type')\n",
    "            \n",
    "        string = ' '.join(string[2:].lower().split('.'))\n",
    "        \n",
    "        return f\"<p class=\\'{string}\\'></p>\"\n",
    "    except Exception as e:\n",
    "        return e\n",
    "\n",
    "print(secret(\"p.one.two.three\"))\n",
    "print(secret(\"p.one\"))\n",
    "print(secret(\"p.four.five\"))"
   ]
  },
  {
   "cell_type": "code",
   "execution_count": 2,
   "id": "d349d9b3",
   "metadata": {},
   "outputs": [
    {
     "name": "stdout",
     "output_type": "stream",
     "text": [
      "2\n",
      "1\n",
      "0\n",
      "0\n"
     ]
    }
   ],
   "source": [
    "# Question 2\n",
    "\n",
    "def countLoneOnes(n):\n",
    "    try:\n",
    "        if type(n) != int or n < 0:\n",
    "            raise Exception('n must be a non negative integer')\n",
    "            \n",
    "        n = str(n)\n",
    "        count = 0\n",
    "        nCount = 0\n",
    "        while nCount < len(n):\n",
    "            if nCount == len(n)-1:\n",
    "                if n[nCount] == '1' and n[nCount-1] != '1':\n",
    "                    count += 1\n",
    "                return count\n",
    "            elif nCount == 0:\n",
    "                if n[nCount] == '1' and n[nCount+1] != '1':\n",
    "                    count += 1\n",
    "                nCount += 2\n",
    "            elif n[nCount] == '1' and n[nCount+1] != '1' and n[nCount - 1] != '1':\n",
    "                count += 1\n",
    "                nCount += 2\n",
    "            else:\n",
    "                nCount += 1\n",
    "        return count\n",
    "    except Exception as e:\n",
    "        return e\n",
    "    \n",
    "print(countLoneOnes(101))\n",
    "print(countLoneOnes(1191))\n",
    "print(countLoneOnes(1111))\n",
    "print(countLoneOnes(462))"
   ]
  },
  {
   "cell_type": "code",
   "execution_count": 3,
   "id": "bdbdbf01",
   "metadata": {},
   "outputs": [
    {
     "name": "stdout",
     "output_type": "stream",
     "text": [
      "[[1, 4, 7, 10, 13, 16], [2, 5, 8, 11, 14, 17], [3, 6, 9, 12, 15, 18]]\n",
      "[[1, 6, 11], [2, 7, 12], [3, 8, 13], [4, 9, 14], [5, 10, 15]]\n",
      "[[1], [2], [3], [4]]\n"
     ]
    }
   ],
   "source": [
    "# Question 3\n",
    "\n",
    "def printGrid(row, col):\n",
    "    try:\n",
    "        if type(row) != int or row < 0:\n",
    "            raise Exception('row must be a non negative integer')\n",
    "        if type(col) != int or col < 0:\n",
    "            raise Exception('col must be a non negative integer')\n",
    "        \n",
    "        result = []\n",
    "        for i in range(1, row+1):\n",
    "            result.append(list(range(i, (row*col)+1, row)))\n",
    "        return result\n",
    "    except Exception as e:\n",
    "        return e\n",
    "    \n",
    "print(printGrid(3, 6))\n",
    "print(printGrid(5, 3))\n",
    "print(printGrid(4, 1))"
   ]
  },
  {
   "cell_type": "code",
   "execution_count": 4,
   "id": "4bbeb129",
   "metadata": {},
   "outputs": [
    {
     "name": "stdout",
     "output_type": "stream",
     "text": [
      "8\n",
      "2\n",
      "1\n"
     ]
    }
   ],
   "source": [
    "# Question 4\n",
    "\n",
    "def minMissPos(li):\n",
    "    try:\n",
    "        if type(li) != list or len(li) == 0:\n",
    "            raise Exception('li must be a non empty list')\n",
    "        \n",
    "        length = len(li)\n",
    "        if length == 1:\n",
    "            return None\n",
    "        else:\n",
    "            li = sorted(li)\n",
    "            count = 0\n",
    "            while count < length:\n",
    "                if li[count] >= 0:\n",
    "                    if li[count+1] - li[count] < 2:\n",
    "                        count += 1\n",
    "                    else:\n",
    "                        return li[count] + 1\n",
    "                else:\n",
    "                    count += 1\n",
    "            return None\n",
    "    except Exception as e:\n",
    "        return e\n",
    "    \n",
    "print(minMissPos([-2, 6, 4, 5, 7, -1, 1, 3, 6, -2, 9, 10, 2, 2]))\n",
    "print(minMissPos([5, 9, -2, 0, 1, 3, 9, 3, 8, 9]))\n",
    "print(minMissPos([0, 4, 4, -1, 9, 4, 5, 2, 10, 7, 6, 3, 10, 9]))"
   ]
  },
  {
   "cell_type": "code",
   "execution_count": 5,
   "id": "de7a0b59",
   "metadata": {},
   "outputs": [
    {
     "name": "stdout",
     "output_type": "stream",
     "text": [
      "['Spider-Man']\n",
      "['Batman', 'Spider-Man']\n",
      "[]\n"
     ]
    }
   ],
   "source": [
    "# Question 5\n",
    "\n",
    "def pizzaPoints(customers, minOrd, minPrice):\n",
    "    try:\n",
    "        if type(customers) != dict or len(customers) == 0:\n",
    "            raise Exception('customers must be a non empty dict')\n",
    "        if minOrd <= 0:\n",
    "            raise Exception('minOrd must be positive')\n",
    "        if minPrice <= 0:\n",
    "            raise Exception('minPrice must be positive')\n",
    "        \n",
    "        count = 0\n",
    "        result = []\n",
    "        for i in customers.keys():\n",
    "            for j in customers[i]:\n",
    "                if j >= minPrice:\n",
    "                    count += 1\n",
    "            if count >= minOrd:\n",
    "                result.append(i)\n",
    "        return result\n",
    "    except Exception as e:\n",
    "        return e\n",
    "    \n",
    "customers = {\"Batman\": [22, 30, 11, 17, 15, 52, 27, 12], \"Spider-Man\": [5, 17, 30, 33, 40, 22, 26, 10, 11, 45]}\n",
    "print(pizzaPoints(customers, 5, 20))\n",
    "print(pizzaPoints(customers, 3, 10))\n",
    "print(pizzaPoints(customers, 5, 100))"
   ]
  }
 ],
 "metadata": {
  "kernelspec": {
   "display_name": "Python 3",
   "language": "python",
   "name": "python3"
  },
  "language_info": {
   "codemirror_mode": {
    "name": "ipython",
    "version": 3
   },
   "file_extension": ".py",
   "mimetype": "text/x-python",
   "name": "python",
   "nbconvert_exporter": "python",
   "pygments_lexer": "ipython3",
   "version": "3.8.10"
  }
 },
 "nbformat": 4,
 "nbformat_minor": 5
}
