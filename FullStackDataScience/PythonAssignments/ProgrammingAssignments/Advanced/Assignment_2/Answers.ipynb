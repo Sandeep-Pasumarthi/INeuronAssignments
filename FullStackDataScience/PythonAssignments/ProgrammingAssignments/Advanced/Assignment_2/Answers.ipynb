{
 "cells": [
  {
   "cell_type": "code",
   "execution_count": 1,
   "id": "acd65951",
   "metadata": {},
   "outputs": [
    {
     "name": "stdout",
     "output_type": "stream",
     "text": [
      "1\n",
      "6\n",
      "16\n",
      "141\n"
     ]
    }
   ],
   "source": [
    "# Question 1\n",
    "\n",
    "def pentagonalDots(num):\n",
    "    try:\n",
    "        if type(num) != int:\n",
    "            raise Exception(\"Input must be a integer!!!\")\n",
    "        if num <= 0:\n",
    "            raise Exception(\"Input must be positive\")\n",
    "            \n",
    "        result = 1\n",
    "        for i in range(2, num+1):\n",
    "            result += ((i-1)*5)\n",
    "        return result\n",
    "    except Exception as e:\n",
    "        return result\n",
    "    \n",
    "print(pentagonalDots(1))\n",
    "print(pentagonalDots(2))\n",
    "print(pentagonalDots(3))\n",
    "print(pentagonalDots(8))"
   ]
  },
  {
   "cell_type": "code",
   "execution_count": 2,
   "id": "76108514",
   "metadata": {},
   "outputs": [
    {
     "name": "stdout",
     "output_type": "stream",
     "text": [
      "0n0n0baca\n",
      "0c0r0kaca\n",
      "k0r3baca\n",
      "0c0pl0aca\n"
     ]
    }
   ],
   "source": [
    "# Question 2\n",
    "\n",
    "def encryptString(string):\n",
    "    try:\n",
    "        if type(string) != str:\n",
    "            raise Exception(\"Input must be a string!!!\")\n",
    "        \n",
    "        vowelDict = {'a' : '0', 'e' : '1', 'i' : '2', 'o' : '2', 'u' : '3'}\n",
    "        string = string[-1::-1].lower()\n",
    "        \n",
    "        result = ''\n",
    "        for i in string:\n",
    "            if i in vowelDict.keys():\n",
    "                result += vowelDict[i]\n",
    "            else:\n",
    "                result += i\n",
    "        return result + 'aca'\n",
    "    except Exception as e:\n",
    "        return e\n",
    "    \n",
    "print(encryptString(\"banana\"))\n",
    "print(encryptString(\"karaca\"))\n",
    "print(encryptString(\"burak\"))\n",
    "print(encryptString(\"alpaca\"))"
   ]
  },
  {
   "cell_type": "code",
   "execution_count": 3,
   "id": "934edfdf",
   "metadata": {},
   "outputs": [
    {
     "name": "stdout",
     "output_type": "stream",
     "text": [
      "name 'datetime' is not defined\n",
      "name 'datetime' is not defined\n",
      "name 'datetime' is not defined\n"
     ]
    }
   ],
   "source": [
    "# Question 3\n",
    "\n",
    "def check13Friday(month, year):\n",
    "    try:\n",
    "        if type(month) != int or month <= 0:\n",
    "            raise Exception(\"Month should be a positive integer\")\n",
    "        elif type(year) != int or year <= 0:\n",
    "            raise Exception(\"Year should be integer a positive integer\")\n",
    "        from datetime import date\n",
    "        day_name = datetime.date(int(year), int(month), 13)\n",
    "        if day_name.strftime(\"%A\") == 'Friday':\n",
    "            return True\n",
    "        else:\n",
    "            return False\n",
    "    except Exception as e:\n",
    "        return e\n",
    "    \n",
    "print(check13Friday(3, 2020))\n",
    "print(check13Friday(10, 2017))\n",
    "print(check13Friday(1, 1985))"
   ]
  },
  {
   "cell_type": "code",
   "execution_count": 4,
   "id": "d1352c6c",
   "metadata": {},
   "outputs": [
    {
     "name": "stdout",
     "output_type": "stream",
     "text": [
      "2\n"
     ]
    }
   ],
   "source": [
    "# Question 4\n",
    "\n",
    "def checkBadString(pattern, li):\n",
    "    try:\n",
    "        if type(pattern) != str:\n",
    "            raise Exception(\"Input must be a string!!!\")\n",
    "        elif type(li) != list:\n",
    "            raise Exception(\"Input must be a list!!!\")\n",
    "        import re\n",
    "        \n",
    "        return len(re.findall(pattern, ','.join(li)))\n",
    "    except Exception as e:\n",
    "        return e\n",
    "    \n",
    "print(checkBadString(r'(?<=bad)\\s\\w', [\"bad cookie\", \"good cookie\", \"bad cookie\", \"good cookie\", \"good cookie\"]))"
   ]
  },
  {
   "cell_type": "code",
   "execution_count": 5,
   "id": "f24a5bf5",
   "metadata": {},
   "outputs": [
    {
     "name": "stdout",
     "output_type": "stream",
     "text": [
      "['pig', 'cows']\n",
      "['tables']\n",
      "['pencil', 'chair', 'arm']\n"
     ]
    }
   ],
   "source": [
    "# Question 5\n",
    "\n",
    "def checkMultiple(li):\n",
    "    try:\n",
    "        if type(li) != list:\n",
    "            raise Exception(\"Input must be a list!!!\")\n",
    "            \n",
    "        result = []\n",
    "        for i in set(li):\n",
    "            if li.count(i) > 1:\n",
    "                result.append(i+'s')\n",
    "            else:\n",
    "                result.append(i)\n",
    "        return result\n",
    "    except Exception as e:\n",
    "        return e\n",
    "    \n",
    "print(checkMultiple([\"cow\", \"pig\", \"cow\", \"cow\"]))\n",
    "print(checkMultiple([\"table\", \"table\", \"table\"]))\n",
    "print(checkMultiple([\"chair\", \"pencil\", \"arm\"]))"
   ]
  }
 ],
 "metadata": {
  "kernelspec": {
   "display_name": "Python 3",
   "language": "python",
   "name": "python3"
  },
  "language_info": {
   "codemirror_mode": {
    "name": "ipython",
    "version": 3
   },
   "file_extension": ".py",
   "mimetype": "text/x-python",
   "name": "python",
   "nbconvert_exporter": "python",
   "pygments_lexer": "ipython3",
   "version": "3.8.10"
  }
 },
 "nbformat": 4,
 "nbformat_minor": 5
}
