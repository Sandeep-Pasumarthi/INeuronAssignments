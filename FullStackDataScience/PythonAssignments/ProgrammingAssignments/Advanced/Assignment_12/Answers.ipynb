{
 "cells": [
  {
   "cell_type": "code",
   "execution_count": 1,
   "id": "1e662767",
   "metadata": {},
   "outputs": [
    {
     "name": "stdout",
     "output_type": "stream",
     "text": [
      "515\n",
      "1103\n",
      "31499\n"
     ]
    }
   ],
   "source": [
    "# Question 1\n",
    "\n",
    "def memeAdd(one, two):\n",
    "    try:\n",
    "        if type(one) != int or type(two) != int or one < 0 or two < 0:\n",
    "            raise Exception('inputs must be non negative integers')\n",
    "            \n",
    "        one = str(one)\n",
    "        two = str(two)\n",
    "        \n",
    "        if len(one) == len(two):\n",
    "            result = ''\n",
    "            for i in range(len(one)):\n",
    "                result += str(int(one[i]) + int(two[i]))\n",
    "            return int(result)\n",
    "        elif len(one) < len(two):\n",
    "            diff = len(two)-len(one)\n",
    "            result = two[:diff]\n",
    "            for i in range(len(one)):\n",
    "                result += str(int(one[i]) + int(two[i+diff]))\n",
    "            return int(result)\n",
    "        else:\n",
    "            diff = len(one)-len(two)\n",
    "            result = one[:diff]\n",
    "            for i in range(len(two)):\n",
    "                result += str(int(one[i+diff]) + int(two[i]))\n",
    "            return int(result)\n",
    "    except Exception as e:\n",
    "        return e\n",
    "    \n",
    "print(memeAdd(26, 39))\n",
    "print(memeAdd(122, 81))\n",
    "print(memeAdd(1222, 30277))"
   ]
  },
  {
   "cell_type": "code",
   "execution_count": 2,
   "id": "9b460db7",
   "metadata": {},
   "outputs": [
    {
     "name": "stdout",
     "output_type": "stream",
     "text": [
      "13\n",
      "29\n",
      "11\n"
     ]
    }
   ],
   "source": [
    "# Question 2\n",
    "\n",
    "def checkPrime(n):\n",
    "    for i in range(2, int(n**(1/2))+1):\n",
    "        if n % i == 0:\n",
    "            return False\n",
    "    return True\n",
    "\n",
    "def nextPrime(n):\n",
    "    try:\n",
    "        if type(n) != int:\n",
    "            raise Exception('input must be a integer')\n",
    "        \n",
    "        if n <= 2:\n",
    "            return 2\n",
    "        else:\n",
    "            if checkPrime(n) == True:\n",
    "                return n\n",
    "            else:\n",
    "                while True:\n",
    "                    n = n+1\n",
    "                    if checkPrime(n) == True:\n",
    "                        return n\n",
    "    except Exception as e:\n",
    "        return e\n",
    "    \n",
    "print(nextPrime(12))\n",
    "print(nextPrime(24))\n",
    "print(nextPrime(11))"
   ]
  },
  {
   "cell_type": "code",
   "execution_count": 3,
   "id": "1b16d3d9",
   "metadata": {},
   "outputs": [
    {
     "name": "stdout",
     "output_type": "stream",
     "text": [
      "30\n",
      "15\n",
      "12\n"
     ]
    }
   ],
   "source": [
    "# Question 3\n",
    "\n",
    "def avgSpeed(tUp, sUp, sDown):\n",
    "    try:\n",
    "        if tUp < 0 or sUp < 0 or sDown < 0:\n",
    "            raise Exception('negative numbers not accepted')\n",
    "        tUp = tUp / 60\n",
    "        distance = sUp * tUp\n",
    "        tDown = distance / sDown\n",
    "        \n",
    "        return round(2*(distance/(tUp+tDown)))\n",
    "    except Exception as e:\n",
    "        return e\n",
    "\n",
    "print(avgSpeed(18, 20, 60))\n",
    "print(avgSpeed(30, 10, 30))\n",
    "print(avgSpeed(30, 8, 24))"
   ]
  },
  {
   "cell_type": "code",
   "execution_count": 4,
   "id": "19a5916b",
   "metadata": {},
   "outputs": [
    {
     "name": "stdout",
     "output_type": "stream",
     "text": [
      "3\n",
      "5\n",
      "2\n",
      "5\n"
     ]
    }
   ],
   "source": [
    "# Question 4\n",
    "\n",
    "def checkPrime(n):\n",
    "    for i in range(2, int(n**(1/2))+1):\n",
    "        if n % i == 0:\n",
    "            return False\n",
    "    return True\n",
    "\n",
    "def kempner(n):\n",
    "    try:\n",
    "        if type(n) != int or n <= 0:\n",
    "            raise Exception(\"input must be a positive integer\")\n",
    "        \n",
    "        if checkPrime(n) == True:\n",
    "            return n\n",
    "        \n",
    "        count = 1\n",
    "        currentFact = count\n",
    "        \n",
    "        while True:\n",
    "            if currentFact % n == 0:\n",
    "                return count\n",
    "            else:\n",
    "                count += 1\n",
    "                currentFact = currentFact * count\n",
    "    except Exception as e:\n",
    "        return e\n",
    "    \n",
    "print(kempner(6))\n",
    "print(kempner(10))\n",
    "print(kempner(2))\n",
    "print(kempner(5))"
   ]
  },
  {
   "cell_type": "code",
   "execution_count": 5,
   "id": "3ad63988",
   "metadata": {},
   "outputs": [
    {
     "name": "stdout",
     "output_type": "stream",
     "text": [
      "5\n"
     ]
    }
   ],
   "source": [
    "# Question 5\n",
    "\n",
    "def numBoxes(li):\n",
    "    try:\n",
    "        if type(li) != list or len(li) == 0:\n",
    "            raise Exception('li must be no empty list')\n",
    "            \n",
    "        if sum(li) == 0:\n",
    "            return 0\n",
    "        elif sum(li) <= 10:\n",
    "            return 1\n",
    "        \n",
    "        nBoxes = 0\n",
    "        count = 0\n",
    "        total = 0\n",
    "        while count < len(li):\n",
    "            total += li[count]\n",
    "            if total < 10 and count == len(li) - 1:\n",
    "                nBoxes += 1\n",
    "            if total < 10:\n",
    "                count += 1\n",
    "            elif total == 10:\n",
    "                nBoxes += 1\n",
    "                total = 0\n",
    "                count += 1\n",
    "            elif total > 10:\n",
    "                nBoxes += 1\n",
    "                total = 0\n",
    "        return nBoxes\n",
    "    except Exception as e:\n",
    "        return e\n",
    "\n",
    "print(numBoxes([2, 1, 2, 5, 4, 3, 6, 1, 1, 9, 3, 2]))"
   ]
  }
 ],
 "metadata": {
  "kernelspec": {
   "display_name": "Python 3",
   "language": "python",
   "name": "python3"
  },
  "language_info": {
   "codemirror_mode": {
    "name": "ipython",
    "version": 3
   },
   "file_extension": ".py",
   "mimetype": "text/x-python",
   "name": "python",
   "nbconvert_exporter": "python",
   "pygments_lexer": "ipython3",
   "version": "3.8.10"
  }
 },
 "nbformat": 4,
 "nbformat_minor": 5
}
