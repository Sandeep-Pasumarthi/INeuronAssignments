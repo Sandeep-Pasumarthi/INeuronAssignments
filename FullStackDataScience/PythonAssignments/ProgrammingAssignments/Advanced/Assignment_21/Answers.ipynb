{
 "cells": [
  {
   "cell_type": "code",
   "execution_count": 1,
   "id": "3a1f839d",
   "metadata": {},
   "outputs": [
    {
     "name": "stdout",
     "output_type": "stream",
     "text": [
      "1\n",
      "0\n",
      "1\n"
     ]
    }
   ],
   "source": [
    "# Question 1\n",
    "\n",
    "def removePunc(li):\n",
    "    try:\n",
    "        puncuations = ['?', '.', '!', '&', ',']\n",
    "        for i in puncuations:\n",
    "            count = 0\n",
    "            while count < len(li):\n",
    "                if i in li[count]:\n",
    "                    li[count] = li[count].replace(i, '')\n",
    "                else:\n",
    "                    count += 1\n",
    "        return li\n",
    "    except Exception as e:\n",
    "        return e\n",
    "\n",
    "def countSameEnds(string):\n",
    "    try:\n",
    "        if type(string) != str or len(string) == 0:\n",
    "            raise Exception('string must be a non empty str')\n",
    "        \n",
    "        string = string.lower().split(' ')\n",
    "        lString = removePunc(string)\n",
    "        \n",
    "        count = 0\n",
    "        for i in lString:\n",
    "            if len(i) == 1:\n",
    "                pass\n",
    "            elif i[0] == i[-1]:\n",
    "                count += 1\n",
    "        return count\n",
    "    except Exception as e:\n",
    "        return e\n",
    "    \n",
    "print(countSameEnds(\"Pop! goes the balloon\"))\n",
    "print(countSameEnds(\"And the crowd goes wild!\"))\n",
    "print(countSameEnds(\"No I am not in a gang.\"))"
   ]
  },
  {
   "cell_type": "code",
   "execution_count": 2,
   "id": "6b00cf9b",
   "metadata": {},
   "outputs": [
    {
     "name": "stdout",
     "output_type": "stream",
     "text": [
      "zkkov\n",
      "Svool dliow!\n",
      "Xsirhgnzh rh gsv 25gs lu Wvxvnyvi\n"
     ]
    }
   ],
   "source": [
    "# Question 2\n",
    "\n",
    "def atbash(string):\n",
    "    try:\n",
    "        if type(string) != str or len(string) == 0:\n",
    "            raise Exception('input must be a non empty string')\n",
    "            \n",
    "        rString = ''\n",
    "        for i in string:\n",
    "            if i.isupper():\n",
    "                rString += chr(90-ord(i)+65)\n",
    "            elif i.islower():\n",
    "                rString += chr(122-ord(i)+97)\n",
    "            else:\n",
    "                rString += i\n",
    "        return rString\n",
    "    except Exception as e:\n",
    "        return e\n",
    "    \n",
    "print(atbash(\"apple\"))\n",
    "print(atbash(\"Hello world!\"))\n",
    "print(atbash(\"Christmas is the 25th of December\"))"
   ]
  },
  {
   "cell_type": "code",
   "execution_count": 3,
   "id": "d89be21d",
   "metadata": {},
   "outputs": [
    {
     "name": "stdout",
     "output_type": "stream",
     "text": [
      "John\n",
      "Major\n",
      "178\n",
      "Italian\n"
     ]
    }
   ],
   "source": [
    "# Question 3\n",
    "\n",
    "class Employee:\n",
    "    \n",
    "    def __init__(self, name, **kwargs):\n",
    "        self.name = name.split(' ')[0]\n",
    "        self.lastname = name.split(' ')[1]\n",
    "        self.__dict__.update(kwargs)\n",
    "\n",
    "john = Employee(\"John Doe\")\n",
    "mary = Employee(\"Mary Major\", salary = 120000)\n",
    "richard = Employee(\"Richard Roe\", salary = 110000, height = 178)\n",
    "giancarlo = Employee(\"Giancarlo Rossi\", salary = 115000, height = 182, nationality = \"Italian\")\n",
    "\n",
    "print(john.name)\n",
    "print(mary.lastname)\n",
    "print(richard.height)\n",
    "print(giancarlo.nationality)"
   ]
  },
  {
   "cell_type": "code",
   "execution_count": 4,
   "id": "9bcc4957",
   "metadata": {},
   "outputs": [
    {
     "name": "stdout",
     "output_type": "stream",
     "text": [
      "True\n",
      "True\n",
      "False\n",
      "False\n"
     ]
    }
   ],
   "source": [
    "# Question 4\n",
    "\n",
    "def canSeeStage(a):\n",
    "    try:\n",
    "        if type(a) != list or len(a) == 0:\n",
    "            raise Exception('a must be a non empty list')\n",
    "        \n",
    "        for i in range(len(a[0])):\n",
    "            for j in range(len(a)):\n",
    "                if j == 0:\n",
    "                    pass\n",
    "                elif a[j-1][i] >= a[j][i]:\n",
    "                    return False\n",
    "        return True\n",
    "    except Exception as e:\n",
    "        return e\n",
    "    \n",
    "print(canSeeStage([[1, 2, 3], [4, 5, 6], [7, 8, 9]]))\n",
    "print(canSeeStage([[0, 0, 0], [1, 1, 1], [2, 2, 2]]))\n",
    "print(canSeeStage([[2, 0, 0], [1, 1, 1],  [2, 2, 2]]))\n",
    "print(canSeeStage([[1, 0, 0], [1, 1, 1], [2, 2, 2]]))"
   ]
  },
  {
   "cell_type": "code",
   "execution_count": 5,
   "id": "ca127704",
   "metadata": {},
   "outputs": [
    {
     "name": "stdout",
     "output_type": "stream",
     "text": [
      "['bacon', 'parmesan', 'ham']\n",
      "['spinach', 'olives', 'mushroom']\n",
      "1\n",
      "2\n"
     ]
    }
   ],
   "source": [
    "# Question 5\n",
    "\n",
    "class Pizza:\n",
    "    norder = 0\n",
    "    def __init__(self, ingredients):\n",
    "        self.ingredients = ingredients\n",
    "        Pizza.norder += 1\n",
    "        self.order_number = Pizza.norder\n",
    "    @staticmethod\n",
    "    def garden_feast():\n",
    "        new = Pizza(['spinach', 'olives', 'mushroom'])\n",
    "        return new\n",
    "    @staticmethod\n",
    "    def hawaiian():\n",
    "        new = Pizza(['ham', 'pineapple'])\n",
    "        return new\n",
    "    @staticmethod\n",
    "    def meat_festival():\n",
    "        new = Pizza(['beef', 'meatball', 'bacon'])\n",
    "        return new\n",
    "    \n",
    "p1 = Pizza([\"bacon\", \"parmesan\", \"ham\"])\n",
    "p2 = Pizza.garden_feast()\n",
    "print(p1.ingredients)\n",
    "print(p2.ingredients)\n",
    "print(p1.order_number)\n",
    "print(p2.order_number)"
   ]
  }
 ],
 "metadata": {
  "kernelspec": {
   "display_name": "Python 3",
   "language": "python",
   "name": "python3"
  },
  "language_info": {
   "codemirror_mode": {
    "name": "ipython",
    "version": 3
   },
   "file_extension": ".py",
   "mimetype": "text/x-python",
   "name": "python",
   "nbconvert_exporter": "python",
   "pygments_lexer": "ipython3",
   "version": "3.8.10"
  }
 },
 "nbformat": 4,
 "nbformat_minor": 5
}
