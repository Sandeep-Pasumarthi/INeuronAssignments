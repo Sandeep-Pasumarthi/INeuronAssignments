{
 "cells": [
  {
   "cell_type": "code",
   "execution_count": 1,
   "id": "a9ae6714",
   "metadata": {},
   "outputs": [
    {
     "name": "stdout",
     "output_type": "stream",
     "text": [
      "e\n",
      "y\n",
      "a\n"
     ]
    }
   ],
   "source": [
    "# Question 1\n",
    "\n",
    "def stringDifference(s, t):\n",
    "    try:\n",
    "        if type(s) != str or type(t) != str:\n",
    "            raise Exception(\"Inputs must be a string\")\n",
    "        if len(s) - len(t) > 1 or len(s) - len(t) > 1:\n",
    "            raise Exception(\"Wrong Inputs\")\n",
    "\n",
    "        if len(s) == len(t):\n",
    "            return ''\n",
    "        elif len(s) - len(t) < 1:\n",
    "            for i in s:\n",
    "                if t.count(i) == 1:\n",
    "                    t = t.replace(i, '')\n",
    "                else:\n",
    "                    index = t.index(i)\n",
    "                    t = t[:index] + t[index+1:]\n",
    "            return t\n",
    "        elif len(s) - len(t) > 1:\n",
    "            for i in t:\n",
    "                s = s.replace(i, '')\n",
    "            return s\n",
    "    except Exception as e:\n",
    "        return e\n",
    "    \n",
    "print(stringDifference(\"abcd\", \"abcde\"))\n",
    "print(stringDifference(\"\", \"y\"))\n",
    "print(stringDifference(\"ae\", \"aea\"))"
   ]
  },
  {
   "cell_type": "code",
   "execution_count": 2,
   "id": "547eec82",
   "metadata": {},
   "outputs": [
    {
     "name": "stdout",
     "output_type": "stream",
     "text": [
      "[2, 1, 1, 0, 0, 0]\n",
      "[3, 0, 0, 1, 1, 0]\n",
      "[2, 2, 3, 1, 0, 2]\n",
      "[2, 0, 1, 2, 2, 0]\n"
     ]
    }
   ],
   "source": [
    "# Question 2\n",
    "\n",
    "def countDTypes(*args):\n",
    "    try:\n",
    "        result = [0, 0, 0, 0, 0, 0]\n",
    "        \n",
    "        for i in args:\n",
    "            if type(i) == int:\n",
    "                result[0] += 1\n",
    "            elif type(i) == str:\n",
    "                result[1] += 1\n",
    "            elif type(i) == bool:\n",
    "                result[2] += 1\n",
    "            elif type(i) == list:\n",
    "                result[3] += 1\n",
    "            elif type(i) == tuple:\n",
    "                result[4] += 1\n",
    "            elif type(i) == dict:\n",
    "                result[5] += 1\n",
    "            else:\n",
    "                raise Exception(\"Unidentified Dtype\")\n",
    "        \n",
    "        return result\n",
    "    except Exception as e:\n",
    "        return e\n",
    "    \n",
    "print(countDTypes(1, 45, \"Hi\", False))\n",
    "print(countDTypes([10, 20], (\"t\", \"Ok\"), 2, 3, 1))\n",
    "print(countDTypes(\"Hello\", \"Bye\", True, True, False, {\"1\": \"One\", \"2\": \"Two\"}, [1, 3], {\"Brayan\": 18}, 25, 23))\n",
    "print(countDTypes(4, 21, (\"ES\", \"EN\"), (\"a\", \"b\"), False, [1, 2, 3], [4, 5, 6]))"
   ]
  },
  {
   "cell_type": "code",
   "execution_count": 3,
   "id": "ce678134",
   "metadata": {},
   "outputs": [
    {
     "name": "stdout",
     "output_type": "stream",
     "text": [
      "j,h,hj\n",
      "e,a,ae,aea,aeaae\n",
      "n,k,kn,knk,knkkn,knkknknk\n"
     ]
    }
   ],
   "source": [
    "# Question 3\n",
    "\n",
    "def strFibonicci(num, li):\n",
    "    try:\n",
    "        if type(num) != int or num < 0:\n",
    "            raise Exception(\"num must be a positive integer\")\n",
    "        if type(li) != list:\n",
    "            raise Exception(\"li must be a integer\")\n",
    "        if len(li) != 2:\n",
    "            raise Exception(\"li must have length of 2\")\n",
    "        \n",
    "        if num < 2:\n",
    "            return '.'.join(li[:num])\n",
    "        for i in range(2, num):\n",
    "            li.append(li[-1] + li[-2])\n",
    "        return ','.join(li)\n",
    "    except Exception as e:\n",
    "        return e\n",
    "\n",
    "print(strFibonicci(3, [\"j\", \"h\"]))\n",
    "print(strFibonicci(5, [\"e\", \"a\"]))\n",
    "print(strFibonicci(6, [\"n\", \"k\"]))"
   ]
  },
  {
   "cell_type": "code",
   "execution_count": 4,
   "id": "b0424beb",
   "metadata": {},
   "outputs": [
    {
     "name": "stdout",
     "output_type": "stream",
     "text": [
      "nines:1, threes:0, ones:1\n",
      "nines:1, threes:2, ones:0\n",
      "nines:2, threes:1, ones:1\n"
     ]
    }
   ],
   "source": [
    "# Question 3\n",
    "\n",
    "def oneThreeNine(num):\n",
    "    try:\n",
    "        if type(num) != int or (num < 0 and num <= 26):\n",
    "            raise Exception(\"Input must be a positive number and less than 26\")\n",
    "        \n",
    "        nine = 0\n",
    "        three = 0\n",
    "        one = 0\n",
    "        \n",
    "        while True:\n",
    "            if num >= 9:\n",
    "                nine += (num // 9)\n",
    "                num = num % 9\n",
    "            elif num < 9 and num >= 3:\n",
    "                three += (num // 3)\n",
    "                num = num % 3\n",
    "            elif num < 3 and num >= 0:\n",
    "                one += num\n",
    "                break\n",
    "        answer = \"nines:{}, threes:{}, ones:{}\".format(nine, three, one)\n",
    "        return answer\n",
    "    except Exception as e:\n",
    "        return e\n",
    "    \n",
    "print(oneThreeNine(10))\n",
    "print(oneThreeNine(15))\n",
    "print(oneThreeNine(22))"
   ]
  },
  {
   "cell_type": "code",
   "execution_count": 5,
   "id": "78d87a79",
   "metadata": {},
   "outputs": [
    {
     "name": "stdout",
     "output_type": "stream",
     "text": [
      "8\n",
      "1\n",
      "1\n"
     ]
    }
   ],
   "source": [
    "# Question 5\n",
    "\n",
    "def nonRecurFibonacci(num):\n",
    "    try:\n",
    "        if type(num) != int or num < 0:\n",
    "            raise Exception(\"Input must be a non negative integer\")\n",
    "        \n",
    "        fib0 = 0\n",
    "        fib1 = 1\n",
    "        if num < 2:\n",
    "            return num\n",
    "        else:\n",
    "            result = 0\n",
    "            for i in range(2, num+1):\n",
    "                result = fib0 + fib1\n",
    "                fib0 = fib1\n",
    "                fib1 = result\n",
    "            return result\n",
    "    except Exception as e:\n",
    "        return e\n",
    "    \n",
    "print(nonRecurFibonacci(6))\n",
    "print(nonRecurFibonacci(2))\n",
    "print(nonRecurFibonacci(1))"
   ]
  }
 ],
 "metadata": {
  "kernelspec": {
   "display_name": "Python 3",
   "language": "python",
   "name": "python3"
  },
  "language_info": {
   "codemirror_mode": {
    "name": "ipython",
    "version": 3
   },
   "file_extension": ".py",
   "mimetype": "text/x-python",
   "name": "python",
   "nbconvert_exporter": "python",
   "pygments_lexer": "ipython3",
   "version": "3.8.10"
  }
 },
 "nbformat": 4,
 "nbformat_minor": 5
}
