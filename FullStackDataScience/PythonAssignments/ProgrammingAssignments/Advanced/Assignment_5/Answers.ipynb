{
 "cells": [
  {
   "cell_type": "code",
   "execution_count": 1,
   "id": "4f090c77",
   "metadata": {},
   "outputs": [
    {
     "name": "stdout",
     "output_type": "stream",
     "text": [
      "2\n",
      "8\n",
      "2\n"
     ]
    }
   ],
   "source": [
    "# Question 1\n",
    "\n",
    "def checkEvenOdd(num):\n",
    "    try:\n",
    "        if type(num) != int or num <= 0:\n",
    "            raise Exception(\"Input must be a positive integer\")\n",
    "            \n",
    "        check = [8, 2]\n",
    "        q = int(num/2)\n",
    "        result = q * 2\n",
    "        return check[num - result]\n",
    "    except Exception as e:\n",
    "        return e\n",
    "    \n",
    "print(checkEvenOdd(1))\n",
    "print(checkEvenOdd(2))\n",
    "print(checkEvenOdd(3))"
   ]
  },
  {
   "cell_type": "code",
   "execution_count": 2,
   "id": "aceb740b",
   "metadata": {},
   "outputs": [
    {
     "name": "stdout",
     "output_type": "stream",
     "text": [
      "A\n",
      "A\n",
      "None\n"
     ]
    }
   ],
   "source": [
    "# Question 2\n",
    "\n",
    "def majorityVote(li):\n",
    "    try:\n",
    "        if type(li) != list:\n",
    "            raise Exception(\"Input must be a list!!!\")\n",
    "    \n",
    "        result = []\n",
    "        for i in set(li):\n",
    "            if li.count(i) > (len(li) / 2):\n",
    "                result.append(i)\n",
    "        if len(result) > 0:\n",
    "            return max(result)\n",
    "        else:\n",
    "            return None\n",
    "    except Exception as e:\n",
    "        return e\n",
    "    \n",
    "print(majorityVote([\"A\", \"A\", \"B\"]))\n",
    "print(majorityVote([\"A\", \"A\", \"A\", \"B\", \"C\", \"A\"]))\n",
    "print(majorityVote([\"A\", \"B\", \"B\", \"A\", \"C\", \"C\"]))"
   ]
  },
  {
   "cell_type": "code",
   "execution_count": 3,
   "id": "5dc4a387",
   "metadata": {},
   "outputs": [
    {
     "name": "stdout",
     "output_type": "stream",
     "text": [
      "----- is - Wednesday!\n",
      "The *** jumped **** the moon.\n",
      "Why *** the ******* cross the ****?\n"
     ]
    }
   ],
   "source": [
    "# Question 3\n",
    "\n",
    "def removePunc(li):\n",
    "    try:\n",
    "        puncuations = ['?', '.', '!', '&', ',']\n",
    "        resultLower = []\n",
    "        for i in puncuations:\n",
    "            count = 0\n",
    "            while count < len(li):\n",
    "                if i in li[count]:\n",
    "                    li[count] = li[count].replace(i, '')\n",
    "                else:\n",
    "                    count += 1\n",
    "        for i in li:\n",
    "            resultLower.append(i.lower())\n",
    "        return resultLower\n",
    "    except Exception as e:\n",
    "        return e\n",
    "\n",
    "def censorString(string, ceList, replacer):\n",
    "    try:\n",
    "        if type(string) != str:\n",
    "            raise Exception(\"String must be of type str\")\n",
    "        if type(ceList) != list:\n",
    "            raise Exception(\"ceList must be of type list\")\n",
    "        if type(replacer) != str:\n",
    "            raise Exception(\"replacer must be of type str\")\n",
    "        \n",
    "        pstring = string.split(' ')\n",
    "        lowString = removePunc(pstring.copy())\n",
    "        count = 0\n",
    "        while count < len(ceList):\n",
    "            if ceList[count].lower() in lowString:\n",
    "                item = ceList[count].lower()\n",
    "                indexLow = lowString.index(item) + count\n",
    "                if len(item) == len(pstring[indexLow]):\n",
    "                    result = replacer * len(item)\n",
    "                    pstring[indexLow] = result\n",
    "                elif len(item) < len(pstring[indexLow]):\n",
    "                    result = (replacer * len(item)) + pstring[indexLow][len(item):]\n",
    "                    pstring[indexLow] = result\n",
    "                \n",
    "                lowString.remove(item)\n",
    "            else:\n",
    "                count += 1\n",
    "        return ' '.join(pstring)\n",
    "    except Exception as e:\n",
    "        return e\n",
    "    \n",
    "print(censorString(\"Today is a Wednesday!\", [\"Today\", \"a\"], \"-\"))\n",
    "print(censorString(\"The cow jumped over the moon.\", [\"cow\", \"over\"], \"*\"))\n",
    "print(censorString(\"Why did the chicken cross the road?\", [\"Did\", \"chicken\", \"road\"], \"*\"))"
   ]
  },
  {
   "cell_type": "code",
   "execution_count": 4,
   "id": "4430eb0b",
   "metadata": {},
   "outputs": [
    {
     "name": "stdout",
     "output_type": "stream",
     "text": [
      "True\n",
      "False\n"
     ]
    }
   ],
   "source": [
    "# Question 4\n",
    "\n",
    "def polyDivisible(num):\n",
    "    try:\n",
    "        if type(num) != int or num <= 0:\n",
    "            raise Exception(\"num must be a positive integer\")\n",
    "        \n",
    "        num = str(num)\n",
    "        flag = True\n",
    "        for i in range(0, len(num)):\n",
    "            if int(num[:i+1]) % (i+1) != 0:\n",
    "                flag = False\n",
    "                break\n",
    "        return flag\n",
    "    except Exception as e:\n",
    "        return e\n",
    "    \n",
    "print(polyDivisible(1232))\n",
    "print(polyDivisible(123220))"
   ]
  },
  {
   "cell_type": "code",
   "execution_count": 5,
   "id": "2edaf704",
   "metadata": {},
   "outputs": [
    {
     "name": "stdout",
     "output_type": "stream",
     "text": [
      "17\n",
      "87\n",
      "None\n"
     ]
    }
   ],
   "source": [
    "# Question 5\n",
    "\n",
    "def checkPrime(num):\n",
    "    try:\n",
    "        if type(num) != int or num <= 0:\n",
    "            raise Exception(\"num must be positive integer\")\n",
    "            \n",
    "        flag = True\n",
    "        if num == 1:\n",
    "            return False\n",
    "        for i in range(2, int(num**(1/2))+1):\n",
    "            if num % i == 0:\n",
    "                flag = False\n",
    "                break\n",
    "        return flag\n",
    "    except Exception as e:\n",
    "        return e\n",
    "    \n",
    "def sumPrime(li):\n",
    "    try:\n",
    "        if type(li) != list:\n",
    "            raise Exception9(\"li must be a list\")\n",
    "        \n",
    "        if len(li) == 0:\n",
    "            return None\n",
    "        result = 0\n",
    "        for i in li:\n",
    "            if checkPrime(i) == True:\n",
    "                result += i\n",
    "        return result\n",
    "    except Exception as e:\n",
    "        return e\n",
    "    \n",
    "print(sumPrime([1, 2, 3, 4, 5, 6, 7, 8, 9, 10]))\n",
    "print(sumPrime([2, 3, 4, 11, 20, 50, 71]))\n",
    "print(sumPrime([]))"
   ]
  }
 ],
 "metadata": {
  "kernelspec": {
   "display_name": "Python 3",
   "language": "python",
   "name": "python3"
  },
  "language_info": {
   "codemirror_mode": {
    "name": "ipython",
    "version": 3
   },
   "file_extension": ".py",
   "mimetype": "text/x-python",
   "name": "python",
   "nbconvert_exporter": "python",
   "pygments_lexer": "ipython3",
   "version": "3.8.10"
  }
 },
 "nbformat": 4,
 "nbformat_minor": 5
}
