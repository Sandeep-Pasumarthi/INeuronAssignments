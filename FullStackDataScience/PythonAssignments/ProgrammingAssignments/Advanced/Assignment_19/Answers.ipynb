{
 "cells": [
  {
   "cell_type": "code",
   "execution_count": 1,
   "id": "e7afc5f1",
   "metadata": {},
   "outputs": [
    {
     "name": "stdout",
     "output_type": "stream",
     "text": [
      "[[7, 6], [6, 7]]\n",
      "[['A', 'B', 'A'], ['B', 'A', 'B'], ['A', 'B', 'A']]\n",
      "[['c', 'd', 'c', 'd'], ['d', 'c', 'd', 'c'], ['c', 'd', 'c', 'd'], ['d', 'c', 'd', 'c']]\n",
      "invalid\n"
     ]
    }
   ],
   "source": [
    "# Question 1\n",
    "\n",
    "def checkerBoard(n, l1, l2):\n",
    "    try:\n",
    "        if type(n) != int or n <= 1:\n",
    "            raise Exception('n must be a integer and greater than 1')\n",
    "        \n",
    "        result = []\n",
    "        li = [l1, l2]\n",
    "        if l1 == l2:\n",
    "            return 'invalid'\n",
    "        for i in range(n):\n",
    "            if n % 2 == 0 and i % 2 == 0:\n",
    "                result.append(li*int(n/2))\n",
    "            elif n % 2 == 0 and i % 2 == 1:\n",
    "                result.append(li[-1::-1]*int(n/2))\n",
    "            elif n % 2 == 1 and i % 2 == 0:\n",
    "                result.append(li*int(n//2) + li[:(n%2)])\n",
    "            elif n % 2 == 1 and i % 2 == 1:\n",
    "                result.append(li[-1::-1]*int(n//2) + li[-1::-1][:(n%2)])\n",
    "        return result\n",
    "    except Exception as e:\n",
    "        return e\n",
    "    \n",
    "print(checkerBoard(2, 7, 6))\n",
    "print(checkerBoard(3, \"A\", \"B\"))\n",
    "print(checkerBoard(4, \"c\", \"d\"))\n",
    "print(checkerBoard(4, \"c\", \"c\"))"
   ]
  },
  {
   "cell_type": "code",
   "execution_count": 2,
   "id": "dff8d197",
   "metadata": {},
   "outputs": [
    {
     "name": "stdout",
     "output_type": "stream",
     "text": [
      "True\n",
      "True\n",
      "False\n",
      "False\n"
     ]
    }
   ],
   "source": [
    "# Question 2\n",
    "\n",
    "def almostPalindrome(string):\n",
    "    try:\n",
    "        if type(string) != str or len(string) == 0:\n",
    "            raise Exception('string me of type of str and non empty')\n",
    "        \n",
    "        length = len(string)\n",
    "        halfLength = int(length // 2)\n",
    "        if length == 1:\n",
    "            return True\n",
    "        count = 0\n",
    "        for i in range(halfLength+1):\n",
    "            if string[i] == string[length-1-i]:\n",
    "                pass\n",
    "            else:\n",
    "                count += 1\n",
    "            if count > 1:\n",
    "                return False\n",
    "        return True\n",
    "    except Exception as e:\n",
    "        return e\n",
    "    \n",
    "print(almostPalindrome(\"abcdcbg\"))\n",
    "print(almostPalindrome(\"abccia\"))\n",
    "print(almostPalindrome(\"abcdaaa\"))\n",
    "print(almostPalindrome(\"1234312\"))"
   ]
  },
  {
   "cell_type": "code",
   "execution_count": 3,
   "id": "d6363c8c",
   "metadata": {},
   "outputs": [
    {
     "name": "stdout",
     "output_type": "stream",
     "text": [
      "4\n",
      "8\n",
      "10\n"
     ]
    }
   ],
   "source": [
    "# Question 3\n",
    "\n",
    "def checkPrime(num):\n",
    "    for i in range(2, int(num**(1/2))+1):\n",
    "        if num % i == 0:\n",
    "            return False\n",
    "    return True\n",
    "\n",
    "def primeNumbers(n):\n",
    "    try:\n",
    "        if type(n) != int or n <= 0:\n",
    "            raise Exception('n must be positive integer')\n",
    "        if n == 1:\n",
    "            return 0\n",
    "        else:\n",
    "            count = 0\n",
    "            for i in range(2, n+1):\n",
    "                if checkPrime(i) == True:\n",
    "                    count += 1\n",
    "            return count\n",
    "    except Exception as e:\n",
    "        return e\n",
    "    \n",
    "print(primeNumbers(10))\n",
    "print(primeNumbers(20))\n",
    "print(primeNumbers(30))"
   ]
  },
  {
   "cell_type": "code",
   "execution_count": 4,
   "id": "70c86073",
   "metadata": {},
   "outputs": [
    {
     "name": "stdout",
     "output_type": "stream",
     "text": [
      "['Monday', 'Friday']\n",
      "['Monday', 'Monday', 'Monday']\n",
      "['Tuesday', 'Wednesday', 'Saturday']\n"
     ]
    }
   ],
   "source": [
    "# Question 4\n",
    "\n",
    "def afterNDays(li, n):\n",
    "    try:\n",
    "        if type(li) != list or len(li) == 0:\n",
    "            raise Exception('li must be a non empty list')\n",
    "        if type(n) != int or n < 0:\n",
    "            raise Exception('n must be a positive integer')\n",
    "            \n",
    "        if n == 0:\n",
    "            return li\n",
    "        days = ['monday', 'tuesday', 'wednesday', 'thursday', 'friday', 'saturday', 'sunday']\n",
    "        for i in range(len(li)):\n",
    "            try:\n",
    "                if li[i].lower() not in days:\n",
    "                    raise Exception('given day not recognized')\n",
    "                li[i] = days[(days.index(li[i].lower()) + n) % 7].capitalize()\n",
    "            except Exception as e:\n",
    "                return e\n",
    "        return li\n",
    "    except Exception as e:\n",
    "        return e\n",
    "    \n",
    "print(afterNDays([\"Thursday\", \"Monday\"], 4))\n",
    "print(afterNDays([\"Sunday\", \"Sunday\", \"Sunday\"], 1))\n",
    "print(afterNDays([\"Monday\", \"Tuesday\", \"Friday\"], 1))"
   ]
  },
  {
   "cell_type": "code",
   "execution_count": 5,
   "id": "6e37f630",
   "metadata": {},
   "outputs": [
    {
     "name": "stdout",
     "output_type": "stream",
     "text": [
      "True\n",
      "True\n",
      "False\n"
     ]
    }
   ],
   "source": [
    "# Question 5\n",
    "\n",
    "def correctAliases(names, messages):\n",
    "    try:\n",
    "        if type(names) != list or len(names) == 0:\n",
    "            raise Exception('names be of time list and non empty')\n",
    "        if type(messages) != list or len(messages) == 0:\n",
    "            raise Exception('messages be of time list and non empty')\n",
    "        if len(names) != len(messages):\n",
    "            raise Exception('incorrect input')\n",
    "        \n",
    "        for i in range(len(names)):\n",
    "            sFLetter = names[i][0]\n",
    "            sMessages = messages[i].split(' ')\n",
    "            for j in sMessages:\n",
    "                if sFLetter != j[0]:\n",
    "                    return False\n",
    "        return True\n",
    "    except Exception as e:\n",
    "        return e\n",
    "    \n",
    "print(correctAliases([\"Adrian M.\", \"Harriet S.\", \"Mandy T.\"], [\"Amazing Artichoke\", \"Hopeful Hedgehog\", \"Marvelous Mouse\"]))\n",
    "print(correctAliases([\"Rachel F.\", \"Pam G.\", \"Fred Z.\", \"Nancy K.\"], [\"Reassuring Rat\", \"Peaceful Panda\", \"Fantastic Frog\", \"Notable Nickel\"]))\n",
    "print(correctAliases([\"Beth T.\"], [\"Brandishing Mimosa\"]))"
   ]
  }
 ],
 "metadata": {
  "kernelspec": {
   "display_name": "Python 3",
   "language": "python",
   "name": "python3"
  },
  "language_info": {
   "codemirror_mode": {
    "name": "ipython",
    "version": 3
   },
   "file_extension": ".py",
   "mimetype": "text/x-python",
   "name": "python",
   "nbconvert_exporter": "python",
   "pygments_lexer": "ipython3",
   "version": "3.8.10"
  }
 },
 "nbformat": 4,
 "nbformat_minor": 5
}
