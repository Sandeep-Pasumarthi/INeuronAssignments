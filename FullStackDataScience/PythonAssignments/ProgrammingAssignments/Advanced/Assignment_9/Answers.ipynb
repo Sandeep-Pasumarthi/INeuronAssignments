{
 "cells": [
  {
   "cell_type": "code",
   "execution_count": 1,
   "id": "2d3ee06b",
   "metadata": {},
   "outputs": [
    {
     "name": "stdout",
     "output_type": "stream",
     "text": [
      "00:15:00\n",
      "00:53:20\n",
      "102:40:18\n"
     ]
    }
   ],
   "source": [
    "# Question 1\n",
    "\n",
    "def timeToSeconds(hrs, mins, secs):\n",
    "    return hrs*60*60 + mins*60 + secs\n",
    "\n",
    "def secondsToTime(tSecs):\n",
    "    hrs = int(tSecs // 3600)\n",
    "    tSecs = tSecs % 3600\n",
    "    mins = int(tSecs // 60)\n",
    "    tSecs = tSecs % 60\n",
    "    secs = int(tSecs)\n",
    "    \n",
    "    time = ''\n",
    "    if hrs < 10:\n",
    "        time += ('0'+str(hrs)+':')\n",
    "    else:\n",
    "        time += (str(hrs)+':')\n",
    "    if mins < 10:\n",
    "        time += ('0'+str(mins)+':')\n",
    "    else:\n",
    "        time += (str(mins)+':')\n",
    "    if secs < 10:\n",
    "        time += ('0'+str(secs))\n",
    "    else:\n",
    "        time += str(secs)\n",
    "    \n",
    "    return time\n",
    "\n",
    "def playBackDuration(sTime, n):\n",
    "    try:\n",
    "        if type(sTime) != str:\n",
    "            raise Exception(\"sTime must be a string\")\n",
    "        if type(n) != int and type(n) != float:\n",
    "            raise Exception(\"n must be a number\")\n",
    "        \n",
    "        sTime = sTime.split(':')\n",
    "        if len(sTime) != 3:\n",
    "            raise Exception(\"sTime is wrong format\")\n",
    "        hrs = int(sTime[0])\n",
    "        mins = int(sTime[1])\n",
    "        secs = int(sTime[2])\n",
    "        \n",
    "        return secondsToTime(timeToSeconds(hrs, mins, secs) // n)\n",
    "    except Exception as e:\n",
    "        return e\n",
    "\n",
    "print(playBackDuration(\"00:30:00\", 2))\n",
    "print(playBackDuration(\"01:20:00\", 1.5))\n",
    "print(playBackDuration(\"51:20:09\", 0.5))"
   ]
  },
  {
   "cell_type": "code",
   "execution_count": 2,
   "id": "33a7135a",
   "metadata": {},
   "outputs": [
    {
     "name": "stdout",
     "output_type": "stream",
     "text": [
      "45\n",
      "2022\n",
      "None\n"
     ]
    }
   ],
   "source": [
    "# Question 2\n",
    "\n",
    "def pileOfCubes(n):\n",
    "    try:\n",
    "        if type(n) != int or n <= 0:\n",
    "            raise Exception(\"n must be a positive integer\")\n",
    "        \n",
    "        import math\n",
    "        if math.sqrt(n) - int(math.sqrt(n)) != 0:\n",
    "            return None\n",
    "        \n",
    "        delta = int(1 + (8*(math.sqrt(n))))\n",
    "        if delta < 0:\n",
    "            return None\n",
    "        elif delta == 0:\n",
    "            ans1 = (1+math.sqrt(delta)) / 2\n",
    "            if ans1 - int(ans1) != 0:\n",
    "                return None\n",
    "            else:\n",
    "                return int(ans1) - 1\n",
    "        elif delta > 0:\n",
    "            ans1 = (1+math.sqrt(delta)) / 2\n",
    "            if ans1 - int(ans1) != 0:\n",
    "                return None\n",
    "            else:\n",
    "                return int(ans1) - 1\n",
    "        return None\n",
    "    except Exception as e:\n",
    "        return e\n",
    "\n",
    "print(pileOfCubes(1071225))\n",
    "print(pileOfCubes(4183059834009))\n",
    "print(pileOfCubes(16))"
   ]
  },
  {
   "cell_type": "code",
   "execution_count": 3,
   "id": "bfc94413",
   "metadata": {},
   "outputs": [
    {
     "name": "stdout",
     "output_type": "stream",
     "text": [
      "2\n",
      "4\n",
      "1\n",
      "0\n",
      "-1\n"
     ]
    }
   ],
   "source": [
    "# Question 3\n",
    "\n",
    "def findFulcrum(li):\n",
    "    try:\n",
    "        if type(li) != list:\n",
    "            raise Exception(\"li must be a list\")\n",
    "        if len(li) < 3:\n",
    "            raise Exception('li must be atleast 3 in size')\n",
    "            \n",
    "        for i in range(1, len(li)-1):\n",
    "            if sum(li[:i]) == sum(li[i+1:]):\n",
    "                return li[i]\n",
    "        return -1\n",
    "    except Exception as e:\n",
    "        return e\n",
    "    \n",
    "print(findFulcrum([3, 1, 5, 2, 4, 6, -1]))\n",
    "print(findFulcrum([1, 2, 4, 9, 10, -10, -9, 3]))\n",
    "print(findFulcrum([9, 1, 9]))\n",
    "print(findFulcrum([7, -1, 0, -1, 1, 1, 2, 3]))\n",
    "print(findFulcrum([8, 8, 8, 8]))"
   ]
  },
  {
   "cell_type": "code",
   "execution_count": 4,
   "id": "0d042ac1",
   "metadata": {},
   "outputs": [
    {
     "name": "stdout",
     "output_type": "stream",
     "text": [
      "3\n",
      "4\n",
      "0\n"
     ]
    }
   ],
   "source": [
    "# Question 4\n",
    "\n",
    "def sockMerchant(li):\n",
    "    try:\n",
    "        if type(li) != list:\n",
    "            raise Exception(\"li must be a list\")\n",
    "        if len(li) == 0:\n",
    "            return 0\n",
    "        \n",
    "        result = 0\n",
    "        for i in set(li):\n",
    "            result += (li.count(i) // 2)\n",
    "        \n",
    "        return int(result)\n",
    "    except Exception as e:\n",
    "        return e\n",
    "    \n",
    "print(sockMerchant([10, 20, 20, 10, 10, 30, 50, 10, 20]))\n",
    "print(sockMerchant([50, 20, 30, 90, 30, 20, 50, 20, 90]))\n",
    "print(sockMerchant([]))"
   ]
  },
  {
   "cell_type": "code",
   "execution_count": 5,
   "id": "96d70adf",
   "metadata": {},
   "outputs": [
    {
     "name": "stdout",
     "output_type": "stream",
     "text": [
      "-23\n",
      "-33\n"
     ]
    }
   ],
   "source": [
    "# Question 5\n",
    "\n",
    "def negativeSum(string):\n",
    "    try:\n",
    "        if type(string) != str:\n",
    "            raise Exception(\"Input must be a string\")\n",
    "        if len(string) == 0:\n",
    "            raise Exception('empty string!!!')\n",
    "        \n",
    "        import re\n",
    "        negNums = re.findall(r'-[0-9]+', string)\n",
    "        result = 0\n",
    "        for i in negNums:\n",
    "            result += int(i)\n",
    "            \n",
    "        return result\n",
    "    except Exception as e:\n",
    "        return e\n",
    "    \n",
    "print(negativeSum(\"-12 13%14&-11\"))\n",
    "print(negativeSum(\"22 13%14&-11-22 13 12\"))"
   ]
  }
 ],
 "metadata": {
  "kernelspec": {
   "display_name": "Python 3",
   "language": "python",
   "name": "python3"
  },
  "language_info": {
   "codemirror_mode": {
    "name": "ipython",
    "version": 3
   },
   "file_extension": ".py",
   "mimetype": "text/x-python",
   "name": "python",
   "nbconvert_exporter": "python",
   "pygments_lexer": "ipython3",
   "version": "3.8.10"
  }
 },
 "nbformat": 4,
 "nbformat_minor": 5
}
