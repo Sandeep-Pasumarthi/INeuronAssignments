{
 "cells": [
  {
   "cell_type": "code",
   "execution_count": 1,
   "id": "e1ec1301",
   "metadata": {},
   "outputs": [
    {
     "name": "stdout",
     "output_type": "stream",
     "text": [
      "True\n",
      "True\n",
      "False\n",
      "False\n"
     ]
    }
   ],
   "source": [
    "# Question 1\n",
    "\n",
    "def anagram(name, words):\n",
    "    try:\n",
    "        if type(name) != str:\n",
    "            raise Exception(\"name must be of type str\")\n",
    "        if type(words) != list:\n",
    "            raise Exception('words must be of type list')\n",
    "        \n",
    "        words = ''.join(words).lower()\n",
    "        name = ''.join(name.split(' ')).lower()\n",
    "        \n",
    "        if sorted(set(name)) != sorted(set(words)):\n",
    "            return False\n",
    "        else:\n",
    "            flag = True\n",
    "            for i in set(name):\n",
    "                if name.count(i) == words.count(i):\n",
    "                    pass\n",
    "                else:\n",
    "                    flag = False\n",
    "                    return flag\n",
    "            return flag\n",
    "    except Exception as e:\n",
    "        return e\n",
    "    \n",
    "print(anagram(\"Justin Bieber\", [\"injures\", \"ebb\", \"it\"]))\n",
    "print(anagram(\"Natalie Portman\", [\"ornamental\", \"pita\"]))\n",
    "print(anagram(\"Chris Pratt\", [\"chirps\", \"rat\"]))\n",
    "print(anagram(\"Jeff Goldblum\", [\"jog\", \"meld\", \"bluffs\"]))"
   ]
  },
  {
   "cell_type": "code",
   "execution_count": 2,
   "id": "46c614e3",
   "metadata": {},
   "outputs": [
    {
     "name": "stdout",
     "output_type": "stream",
     "text": [
      "[{'name': 'c', 'score': 115, 'reputation': 30}, {'name': 'b', 'score': 90, 'reputation': 40}, {'name': 'a', 'score': 100, 'reputation': 20}]\n"
     ]
    }
   ],
   "source": [
    "# Question 2\n",
    "\n",
    "def sort(scores):\n",
    "    nums = list(range(1, len(scores)+1))\n",
    "    for i in range(len(scores)-1):\n",
    "        for j in range(i+1, len(scores)):\n",
    "            if scores[i] < scores[j]:\n",
    "                temp = nums[j]\n",
    "                nums[j] = nums[i]\n",
    "                nums[i] = temp\n",
    "    return nums\n",
    "\n",
    "def leaderBoards(li):\n",
    "    try:\n",
    "        if type(li) != list or len(li) == 0:\n",
    "            raise Exception('li must be a non emty list')\n",
    "        if len(li) == 1:\n",
    "            return li\n",
    "        else:\n",
    "            scores = []\n",
    "            for i in li:\n",
    "                try:\n",
    "                    if type(i) != dict:\n",
    "                        raise Exception('li must contain dictionaries')\n",
    "                    scores.append(i['score'] + 2*i['reputation'])\n",
    "                except Exception as e:\n",
    "                    return e\n",
    "            ranks = sort(scores)\n",
    "            result = []\n",
    "            for i in ranks:\n",
    "                result.append(li[i-1])\n",
    "            return result\n",
    "    except Exception as e:\n",
    "        return e\n",
    "    \n",
    "print(leaderBoards([{ \"name\": \"a\", \"score\": 100, \"reputation\": 20 }, { \"name\": \"b\", \"score\": 90, \"reputation\": 40 }, { \"name\": \"c\", \"score\": 115, \"reputation\": 30 }]))"
   ]
  },
  {
   "cell_type": "code",
   "execution_count": 3,
   "id": "6e7a573e",
   "metadata": {},
   "outputs": [
    {
     "name": "stdout",
     "output_type": "stream",
     "text": [
      "-e---o--e-\n",
      "tree\n",
      "P----n-r----\n",
      "-e\"--a--e-y--a----y---y!\n"
     ]
    }
   ],
   "source": [
    "# Question 3\n",
    "\n",
    "def hangMan(string, li):\n",
    "    try:\n",
    "        if type(string) != str:\n",
    "            raise Exception('string must be of type str')\n",
    "        if type(li) != list:\n",
    "            raise Exception('li must be of type list')\n",
    "        \n",
    "        result = ''\n",
    "        punctuations = [\",\", \";\", \":\", \"'\", '\"', \"!\", \"@\", \"#\", \"$\", \"%\", \"^\", \"&\"]\n",
    "        for i in range(len(string)):\n",
    "            if string[i].lower() in li or string[i] in punctuations:\n",
    "                result += string[i]\n",
    "            else:\n",
    "                result += '-'\n",
    "        return result\n",
    "    except Exception as e:\n",
    "        return e\n",
    "    \n",
    "print(hangMan(\"helicopter\", [\"o\", \"e\", \"s\"]))\n",
    "print(hangMan(\"tree\", [\"r\", \"t\", \"e\"]))\n",
    "print(hangMan(\"Python rules\", [\"a\", \"n\", \"p\", \"r\", \"z\"]))\n",
    "print(hangMan(\"He\\\"s a very naughty boy!\", [\"e\", \"a\", \"y\"]))"
   ]
  },
  {
   "cell_type": "code",
   "execution_count": 4,
   "id": "88047ffb",
   "metadata": {},
   "outputs": [
    {
     "name": "stdout",
     "output_type": "stream",
     "text": [
      "16\n",
      "32\n",
      "256\n"
     ]
    }
   ],
   "source": [
    "# Question 4\n",
    "\n",
    "def maxCollatz(n):\n",
    "    try:\n",
    "        if type(n) != int or n <= 0:\n",
    "            raise Exception('n must be a positive integer')\n",
    "        if n == 1:\n",
    "            return 1\n",
    "        else:\n",
    "            maxi = n\n",
    "            while n != 1:\n",
    "                if n % 2 == 0:\n",
    "                    n = n // 2\n",
    "                    if n > maxi:\n",
    "                        maxi = n\n",
    "                else:\n",
    "                    n = n*3 + 1\n",
    "                    if n > maxi:\n",
    "                        maxi = n\n",
    "            return maxi\n",
    "    except Exception as e:\n",
    "        return e\n",
    "    \n",
    "print(maxCollatz(10))\n",
    "print(maxCollatz(32))\n",
    "print(maxCollatz(85))"
   ]
  },
  {
   "cell_type": "code",
   "execution_count": 5,
   "id": "1e371988",
   "metadata": {},
   "outputs": [
    {
     "name": "stdout",
     "output_type": "stream",
     "text": [
      "[101, 23, 77, 5, 7]\n",
      "[444, 563, 789, 1, 2, 5, 9]\n",
      "[53219, 3772, 564, 32, 1]\n"
     ]
    }
   ],
   "source": [
    "# Question 5\n",
    "\n",
    "def digitSort(li):\n",
    "    try:\n",
    "        if type(li) != list or len(li) == 0:\n",
    "            raise Exception('input must be a non empty list')\n",
    "        if len(li) == 1:\n",
    "            return li\n",
    "        else:\n",
    "            li = sorted(li, reverse = True)\n",
    "            result = []\n",
    "            temp = []\n",
    "            maxlen = len(str(max(li)))\n",
    "            for i in range(len(li)):\n",
    "                if len(str(li[i])) == maxlen:\n",
    "                    temp.append(li[i])\n",
    "                else:\n",
    "                    result.extend(sorted(temp))\n",
    "                    temp = [li[i]]\n",
    "                    maxlen = len(str(li[i]))\n",
    "                if i == len(li)-1:\n",
    "                    result.extend(sorted(temp))\n",
    "            return result\n",
    "    except Exception as e:\n",
    "        return e\n",
    "    \n",
    "print(digitSort([77, 23, 5, 7, 101]))\n",
    "print(digitSort([1, 5, 9, 2, 789, 563, 444]))\n",
    "print(digitSort([53219, 3772, 564, 32, 1]))"
   ]
  }
 ],
 "metadata": {
  "kernelspec": {
   "display_name": "Python 3",
   "language": "python",
   "name": "python3"
  },
  "language_info": {
   "codemirror_mode": {
    "name": "ipython",
    "version": 3
   },
   "file_extension": ".py",
   "mimetype": "text/x-python",
   "name": "python",
   "nbconvert_exporter": "python",
   "pygments_lexer": "ipython3",
   "version": "3.8.10"
  }
 },
 "nbformat": 4,
 "nbformat_minor": 5
}
