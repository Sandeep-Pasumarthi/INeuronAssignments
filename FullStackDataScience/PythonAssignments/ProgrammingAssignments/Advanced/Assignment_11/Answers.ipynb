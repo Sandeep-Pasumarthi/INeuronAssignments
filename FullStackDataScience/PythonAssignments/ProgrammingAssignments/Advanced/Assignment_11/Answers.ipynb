{
 "cells": [
  {
   "cell_type": "code",
   "execution_count": 1,
   "id": "996f5b8f",
   "metadata": {},
   "outputs": [
    {
     "name": "stdout",
     "output_type": "stream",
     "text": [
      "[7, 3, 11]\n",
      "[10007, 1009]\n",
      "[1009, 3, 61, 1087, 1091, 1093, 1097]\n"
     ]
    }
   ],
   "source": [
    "# Question 1\n",
    "\n",
    "def checkPrime(n):\n",
    "    if n <= 1:\n",
    "        return None\n",
    "    flag = True\n",
    "    for i in range(2, int(n**(1/2))+1):\n",
    "        if n % i == 0:\n",
    "            flag = False\n",
    "            return flag\n",
    "    return flag\n",
    "\n",
    "def filterPrimes(li):\n",
    "    try:\n",
    "        if type(li) != list or len(li) == 0:\n",
    "            raise Exception(\"li must be a non empty list\")\n",
    "        \n",
    "        result = []\n",
    "        for i in li:\n",
    "            try:\n",
    "                if type(i) != int:\n",
    "                    raise Exception(\"items must be integer\")\n",
    "                if checkPrime(i) == True:\n",
    "                    if i in result == True:\n",
    "                        pass\n",
    "                    else:\n",
    "                        result.append(i)\n",
    "            except Exception as e:\n",
    "                return e\n",
    "        return result\n",
    "    except Exception as e:\n",
    "        return e\n",
    "    \n",
    "print(filterPrimes([7, 9, 3, 9, 10, 11, 27]))\n",
    "print(filterPrimes([10007, 1009, 1007, 27, 147, 77, 1001, 70]))\n",
    "print(filterPrimes([1009, 10, 10, 10, 3, 33, 9, 4, 1, 61, 63, 69, 1087, 1091, 1093, 1097]))"
   ]
  },
  {
   "cell_type": "code",
   "execution_count": 2,
   "id": "809fb9ba",
   "metadata": {},
   "outputs": [
    {
     "name": "stdout",
     "output_type": "stream",
     "text": [
      "[0, 1, 2, 3, 4, 3, 2, 1, 0]\n",
      "[0, 1, 2, 3, 2, 1, 0]\n",
      "[0, 1, 2, 1, 0]\n",
      "[0]\n"
     ]
    }
   ],
   "source": [
    "# Question 2\n",
    "\n",
    "def pop(li):\n",
    "    try:\n",
    "        if type(li) != list or len(li) == 0:\n",
    "            raise Exception('li must be a non empty list')\n",
    "        if len(li) == 1:\n",
    "            if li[0] == 0:\n",
    "                return li\n",
    "            else:\n",
    "                raise Exception('incorrect input')\n",
    "        if sum(set(li)) != sum(li) or len(set(li)) != 2 or len(li) % 2 == 0 or len(li) < 2*li[len(li)//2]-1:\n",
    "            raise Exception('incorrect input')\n",
    "        \n",
    "        numPop = li[len(li)//2]\n",
    "        index = len(li)//2\n",
    "        for i in range(1, numPop):\n",
    "            li[index-i] = numPop-1\n",
    "            li[index+i] = numPop-1\n",
    "            numPop -= 1\n",
    "        return li\n",
    "    except Exception as e:\n",
    "        return e\n",
    "\n",
    "print(pop([0, 0, 0, 0, 4, 0, 0, 0, 0]))\n",
    "print(pop([0, 0, 0, 3, 0, 0, 0]))\n",
    "print(pop([0, 0, 2, 0, 0]))\n",
    "print(pop([0]))"
   ]
  },
  {
   "cell_type": "code",
   "execution_count": 3,
   "id": "4e99b328",
   "metadata": {},
   "outputs": [
    {
     "name": "stdout",
     "output_type": "stream",
     "text": [
      "Loves me, Loves me not, LOVES ME\n",
      "Loves me, Loves me not, Loves me, Loves me not, Loves me, LOVES ME NOT\n",
      "LOVES ME\n"
     ]
    }
   ],
   "source": [
    "# Question 3\n",
    "\n",
    "def lovesMe(n):\n",
    "    try:\n",
    "        if type(n) != int or n <= 0:\n",
    "            raise Exception(\"n must be a positive integer\")\n",
    "        \n",
    "        li = ['Loves me', 'Loves me not']\n",
    "        result = []\n",
    "        for i in range(n):\n",
    "            if i == n-1:\n",
    "                result.append(li[i%2].upper())\n",
    "            else:\n",
    "                result.append(li[i%2])\n",
    "        return ', '.join(result)\n",
    "    except Exception as e:\n",
    "        return e\n",
    "    \n",
    "print(lovesMe(3))\n",
    "print(lovesMe(6))\n",
    "print(lovesMe(1))"
   ]
  },
  {
   "cell_type": "code",
   "execution_count": 4,
   "id": "af559252",
   "metadata": {},
   "outputs": [
    {
     "name": "stdout",
     "output_type": "stream",
     "text": [
      "['2344b', '932c', '832u32']\n",
      "['99a', '78b', 'c2345', '11d']\n",
      "['304q2', '5y5', '572z']\n",
      "[]\n"
     ]
    }
   ],
   "source": [
    "# Question 4\n",
    "\n",
    "def sort(s, n):\n",
    "    for i in range(len(s)-1):\n",
    "        for j in range(i+1, len(s)):\n",
    "            if s[i] > s[j]:\n",
    "                temp = s[i]\n",
    "                s[i] = s[j]\n",
    "                s[j] = temp\n",
    "                temp = n[i]\n",
    "                n[i] = n[j]\n",
    "                n[j] = temp\n",
    "    return s, n\n",
    "\n",
    "def sortAlphabet(li):\n",
    "    try:\n",
    "        if type(li) != list:\n",
    "            raise Exception('li must be a list')\n",
    "    \n",
    "        if len(li) == 0 or len(li) == 1:\n",
    "            return li\n",
    "    \n",
    "        s = []\n",
    "        n = list(range(len(li)))\n",
    "        import re\n",
    "    \n",
    "        for i in li:\n",
    "            s.append(re.findall(r\"[a-z]\", i))\n",
    "    \n",
    "        s, n = sort(s, n)\n",
    "        result = []\n",
    "        for i in n:\n",
    "            result.append(li[i])\n",
    "        return result\n",
    "    except Exception as e:\n",
    "        return e\n",
    "    \n",
    "print(sortAlphabet([\"932c\", \"832u32\", \"2344b\"]))\n",
    "print(sortAlphabet([\"99a\", \"78b\", \"c2345\", \"11d\"]))\n",
    "print(sortAlphabet([\"572z\", \"5y5\", \"304q2\"]))\n",
    "print(sortAlphabet([]))"
   ]
  },
  {
   "cell_type": "code",
   "execution_count": 5,
   "id": "bf9ebf7b",
   "metadata": {},
   "outputs": [
    {
     "name": "stdout",
     "output_type": "stream",
     "text": [
      "C\n"
     ]
    }
   ],
   "source": [
    "# Question 4\n",
    "\n",
    "def cupSwapping(li):\n",
    "    try:\n",
    "        if type(li) != list:\n",
    "            raise Exception('li must be a list')\n",
    "        \n",
    "        ans = 'B'\n",
    "        if len(li) == 0:\n",
    "            return ans\n",
    "        else:\n",
    "            for i in li:\n",
    "                if ans in i:\n",
    "                    ans = i[(i.index(ans) + 1) % 2]\n",
    "                else:\n",
    "                    pass\n",
    "            \n",
    "            return ans\n",
    "    except Exception as e:\n",
    "        return e\n",
    "    \n",
    "print(cupSwapping([\"AB\", \"CA\", \"AB\"]))"
   ]
  }
 ],
 "metadata": {
  "kernelspec": {
   "display_name": "Python 3",
   "language": "python",
   "name": "python3"
  },
  "language_info": {
   "codemirror_mode": {
    "name": "ipython",
    "version": 3
   },
   "file_extension": ".py",
   "mimetype": "text/x-python",
   "name": "python",
   "nbconvert_exporter": "python",
   "pygments_lexer": "ipython3",
   "version": "3.8.10"
  }
 },
 "nbformat": 4,
 "nbformat_minor": 5
}
