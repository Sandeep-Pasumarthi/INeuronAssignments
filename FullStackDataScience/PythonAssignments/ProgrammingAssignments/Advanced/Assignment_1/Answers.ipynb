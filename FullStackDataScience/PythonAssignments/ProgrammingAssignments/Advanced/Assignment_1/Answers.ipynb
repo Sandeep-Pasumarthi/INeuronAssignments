{
 "cells": [
  {
   "cell_type": "code",
   "execution_count": 1,
   "id": "19a60031",
   "metadata": {},
   "outputs": [
    {
     "name": "stdout",
     "output_type": "stream",
     "text": [
      "2\n",
      "0\n"
     ]
    }
   ],
   "source": [
    "# Question 1\n",
    "\n",
    "def calScore(li):\n",
    "    try:\n",
    "        if type(li) != list:\n",
    "            raise Exception(\"Input must be a list!!!\")\n",
    "            \n",
    "        symbolScore = {'#' : 5, 'O' : 3, 'X' : 1, '!' : -1, '!!' : -3, '!!!' : -5}\n",
    "        \n",
    "        score = 0\n",
    "        for i in li:\n",
    "            try:\n",
    "                if type(i) == list:\n",
    "                    for j in i:\n",
    "                        try:\n",
    "                            score += symbolScore[j]\n",
    "                        except Exception as e:\n",
    "                            return e\n",
    "                else:\n",
    "                    raise Exception(\"List doesn't contain list inside it\")\n",
    "            except exception as e:\n",
    "                return e\n",
    "        if score > 0:\n",
    "            return score\n",
    "        else:\n",
    "            return 0\n",
    "    except Exception as e:\n",
    "        return e\n",
    "    \n",
    "print(calScore(([[\"#\", \"!\"], [\"!!\", \"X\"]])))\n",
    "print(calScore([[\"!!!\", \"O\", \"!\"], [\"X\", \"#\", \"!!!\"], [\"!!\", \"X\", \"O\"]]))"
   ]
  },
  {
   "cell_type": "code",
   "execution_count": 2,
   "id": "fbf523b1",
   "metadata": {},
   "outputs": [
    {
     "name": "stdout",
     "output_type": "stream",
     "text": [
      "6\n",
      "84\n",
      "120\n"
     ]
    }
   ],
   "source": [
    "# Question 2\n",
    "\n",
    "def calCombinations(*args):\n",
    "    try:\n",
    "        if len(args) == 0:\n",
    "            return 0\n",
    "        \n",
    "        prod = 1\n",
    "        for i in args:\n",
    "            try:\n",
    "                if type(i) == int:\n",
    "                    if i != 0:\n",
    "                        prod *= i\n",
    "                    else:\n",
    "                        pass\n",
    "                else:\n",
    "                    raise Exception(\"Not a integer!!!\")\n",
    "            except Exception as e:\n",
    "                return e\n",
    "            \n",
    "        return prod\n",
    "    except Exception as e:\n",
    "        return e\n",
    "    \n",
    "print(calCombinations(2, 3))\n",
    "print(calCombinations(3, 7, 4))\n",
    "print(calCombinations(2, 3, 4, 5))"
   ]
  },
  {
   "cell_type": "code",
   "execution_count": 3,
   "id": "b8561328",
   "metadata": {},
   "outputs": [
    {
     "name": "stdout",
     "output_type": "stream",
     "text": [
      ".-...--...-.....- -.-......-.-...-...-.--..\n",
      "......-...--. --. -.-.--\n"
     ]
    }
   ],
   "source": [
    "# Question 3\n",
    "\n",
    "def morseCode(string):\n",
    "    try:\n",
    "        if type(string) != str:\n",
    "            raise Exception(\"Input must be a string!!!\")\n",
    "            \n",
    "        charCode = {\n",
    "                    'A': '.-', 'B': '-...', 'C': '-.-.', 'D': '-..', 'E': '.', 'F': '..-.', 'G': '--.', 'H': '....', 'I': '..', 'J': '.---', 'K': '-.-', 'L': '.-..',\n",
    "                    'M': '--', 'N': '-.', 'O': '---', 'P': '.--.', 'Q': '--.-', 'R': '.-.', 'S': '...', 'T': '-', 'U': '..-', 'V': '...-', 'W': '.--', 'X': '-..-',\n",
    "                    'Y': '-.--', 'Z': '--..', ' ': ' ', '0': '-----', '1': '.----', '2': '..---', '3': '...--', '4': '....-', '5': '.....',\n",
    "                    '6': '-....', '7': '--...', '8': '---..', '9': '----.', '&': '.-...', \"'\": '.----.', '@': '.--.-.', ')': '-.--.-', '(': '-.--.', \n",
    "                    ':': '---...', ',': '--..--', '=': '-...-', '!': '-.-.--', '.': '.-.-.-', '-': '-....-', '+': '.-.-.', '\"': '.-..-.', '?': '..--..', '/': '-..-.'\n",
    "                   }\n",
    "        \n",
    "        result = ''\n",
    "        for i in string:\n",
    "            try:\n",
    "                result += charCode[i]\n",
    "            except Exception as e:\n",
    "                return e\n",
    "        return result\n",
    "    except Exception as e:\n",
    "        return e\n",
    "    \n",
    "print(morseCode(\"EDABBIT CHALLENGE\"))\n",
    "print(morseCode(\"HELP ME !\"))"
   ]
  },
  {
   "cell_type": "code",
   "execution_count": 4,
   "id": "3f4964ec",
   "metadata": {},
   "outputs": [
    {
     "name": "stdout",
     "output_type": "stream",
     "text": [
      "True\n",
      "True\n",
      "False\n"
     ]
    }
   ],
   "source": [
    "# Question 4\n",
    "\n",
    "def checkPrime(num):\n",
    "    try:\n",
    "        if type(num) != int:\n",
    "            raise Exception(\"Input must be a integer!!!\")\n",
    "        \n",
    "        flag = True\n",
    "        for i in range(2, int(num**(1/2))):\n",
    "            if num % i == 0:\n",
    "                return False\n",
    "        return True\n",
    "    except Exception as e:\n",
    "        return e\n",
    "    \n",
    "print(checkPrime(7))\n",
    "print(checkPrime(56963))\n",
    "print(checkPrime(5151512515524))"
   ]
  },
  {
   "cell_type": "code",
   "execution_count": 5,
   "id": "560a025c",
   "metadata": {},
   "outputs": [
    {
     "name": "stdout",
     "output_type": "stream",
     "text": [
      "[False, True, True, False]\n",
      "[False, True, False, True, True]\n",
      "[False, True, True, False]\n"
     ]
    }
   ],
   "source": [
    "# Question 5\n",
    "\n",
    "def stringToBoolList(string):\n",
    "    try:\n",
    "        if type(string) != str:\n",
    "            raise Exception(\"Input must be a string!!!\")\n",
    "            \n",
    "        result = []         # With out using result array also we can get the final output but from the problem statement I used it, but it will increase the space complexity\n",
    "        resultBool = []     # This list will increase space complexity but it will decrease the time taken to execute program. If we don't use this we have to run the for loop again\n",
    "        for i in string:\n",
    "            try:\n",
    "                if ord(i) % 2 == 0:\n",
    "                    result.append(0)\n",
    "                    resultBool.append(False)\n",
    "                else:\n",
    "                    result.append(1)\n",
    "                    resultBool.append(True)\n",
    "            except Exception as e:\n",
    "                return e\n",
    "        return resultBool\n",
    "    except Exception as e:\n",
    "        return e\n",
    "    \n",
    "print(stringToBoolList(\"deep\"))\n",
    "print(stringToBoolList(\"loves\"))\n",
    "print(stringToBoolList(\"tesh\"))"
   ]
  }
 ],
 "metadata": {
  "kernelspec": {
   "display_name": "Python 3",
   "language": "python",
   "name": "python3"
  },
  "language_info": {
   "codemirror_mode": {
    "name": "ipython",
    "version": 3
   },
   "file_extension": ".py",
   "mimetype": "text/x-python",
   "name": "python",
   "nbconvert_exporter": "python",
   "pygments_lexer": "ipython3",
   "version": "3.8.10"
  }
 },
 "nbformat": 4,
 "nbformat_minor": 5
}
