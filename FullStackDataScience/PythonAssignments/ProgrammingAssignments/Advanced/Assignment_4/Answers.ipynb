{
 "cells": [
  {
   "cell_type": "code",
   "execution_count": 1,
   "id": "99adea55",
   "metadata": {},
   "outputs": [
    {
     "name": "stdout",
     "output_type": "stream",
     "text": [
      "5\n",
      "55\n",
      "6765\n",
      "12586269025\n"
     ]
    }
   ],
   "source": [
    "# Question 1\n",
    "\n",
    "def getFibonicci(n):\n",
    "    try:\n",
    "        if type(n) != int or n < 0:\n",
    "            raise Exception(\"Input must be non negative\")\n",
    "        \n",
    "        fib0 = 0\n",
    "        fib1 = 1\n",
    "        if n == 0:\n",
    "            return fib0\n",
    "        elif n == 1:\n",
    "            return fib1\n",
    "        else:\n",
    "            result = 0\n",
    "            for i in range(2, n+1):\n",
    "                result = fib0 + fib1\n",
    "                fib0 = fib1\n",
    "                fib1 = result\n",
    "            \n",
    "            return result\n",
    "    except Exception as e:\n",
    "        return e\n",
    "    \n",
    "print(getFibonicci(5))\n",
    "print(getFibonicci(10))\n",
    "print(getFibonicci(20))\n",
    "print(getFibonicci(50))"
   ]
  },
  {
   "cell_type": "code",
   "execution_count": 2,
   "id": "01047338",
   "metadata": {},
   "outputs": [
    {
     "name": "stdout",
     "output_type": "stream",
     "text": [
      "68 65 6c 6c 6f 20 77 6f 72 6c 64\n",
      "42 69 67 20 42 6f 69\n",
      "4d 61 72 74 79 20 50 6f 70 70 69 6e 73 6f 6e\n"
     ]
    }
   ],
   "source": [
    "# Question 2\n",
    "\n",
    "def hexadecimal(n):\n",
    "    try:\n",
    "        if type(n) != int or n < 0:\n",
    "            raise Exception(\"Must enter non negative integer\")\n",
    "        else:\n",
    "            result = ''\n",
    "            records = ['a', 'b', 'c', 'd', 'e', 'f']\n",
    "            while True:\n",
    "                if n < 8:\n",
    "                    result += str(n)\n",
    "                    break\n",
    "                else:\n",
    "                    if n % 16 >= 10:\n",
    "                        result += str(records[(n%16)-10])\n",
    "                    else:\n",
    "                        result += str(n%16)\n",
    "                    n = n // 16\n",
    "            \n",
    "            return result[-1::-1]\n",
    "    except Exception as e:\n",
    "        return e\n",
    "    \n",
    "def stringToHex(string):\n",
    "    try:\n",
    "        if type(string) != str:\n",
    "            raise Exception(\"Input must be a integer!!!\")\n",
    "        \n",
    "        result = []\n",
    "        for i in string:\n",
    "            result.append(hexadecimal(ord(i)))\n",
    "        \n",
    "        return ' '.join(result)\n",
    "    except Exception as e:\n",
    "        return e\n",
    "    \n",
    "print(stringToHex(\"hello world\"))\n",
    "print(stringToHex(\"Big Boi\"))\n",
    "print(stringToHex(\"Marty Poppinson\"))"
   ]
  },
  {
   "cell_type": "code",
   "execution_count": 3,
   "id": "4b02a104",
   "metadata": {},
   "outputs": [
    {
     "name": "stdout",
     "output_type": "stream",
     "text": [
      "Where did my vowels go?\n",
      "abcd\n",
      "UPPERCASE\n"
     ]
    }
   ],
   "source": [
    "# Question 3\n",
    "\n",
    "def Uncensor(string, sensor):\n",
    "    try:\n",
    "        if type(string) != str or type(sensor) != str:\n",
    "            raise Exception(\"Input must be a integer\")\n",
    "        \n",
    "        if len(sensor) == 0:\n",
    "            return string\n",
    "        result = ''\n",
    "        count = 0\n",
    "        for i in string:\n",
    "            if i == '*':\n",
    "                result += sensor[count]\n",
    "                count += 1\n",
    "            else:\n",
    "                result += i\n",
    "        return result\n",
    "    except Exception as e:\n",
    "        return e\n",
    "    \n",
    "print(Uncensor(\"Wh*r* d*d my v*w*ls g*?\", \"eeioeo\"))\n",
    "print(Uncensor(\"abcd\", \"\"))\n",
    "print(Uncensor(\"*PP*RC*S*\", \"UEAE\"))"
   ]
  },
  {
   "cell_type": "code",
   "execution_count": 4,
   "id": "5dcbf820",
   "metadata": {},
   "outputs": [
    {
     "name": "stdout",
     "output_type": "stream",
     "text": [
      "dns.google\n",
      "dns.google\n"
     ]
    }
   ],
   "source": [
    "# Question 4\n",
    "\n",
    "def getDomain(ipAdr):\n",
    "    try:\n",
    "        if type(ipAdr) != str:\n",
    "            raise Exception(\"Input must be a string\")\n",
    "            \n",
    "        import socket\n",
    "        return socket.gethostbyaddr(ipAdr)[0]\n",
    "    except Exception as e:\n",
    "        return e\n",
    "    \n",
    "print(getDomain(\"8.8.8.8\"))\n",
    "print(getDomain(\"8.8.4.4\"))"
   ]
  },
  {
   "cell_type": "code",
   "execution_count": 5,
   "id": "b646d19c",
   "metadata": {},
   "outputs": [
    {
     "name": "stdout",
     "output_type": "stream",
     "text": [
      "288\n",
      "34560\n",
      "24883200\n"
     ]
    }
   ],
   "source": [
    "# Question 5\n",
    "\n",
    "def getFact(n):\n",
    "    prod = 1\n",
    "    for i in range(2, n+1):\n",
    "        prod *= i\n",
    "    return prod\n",
    "\n",
    "def getFactOfFact(n):\n",
    "    prod = 1\n",
    "    for i in range(2, n+1):\n",
    "        prod *= getFact(i)\n",
    "        \n",
    "    return prod\n",
    "\n",
    "print(getFactOfFact(4))\n",
    "print(getFactOfFact(5))\n",
    "print(getFactOfFact(6))"
   ]
  }
 ],
 "metadata": {
  "kernelspec": {
   "display_name": "Python 3",
   "language": "python",
   "name": "python3"
  },
  "language_info": {
   "codemirror_mode": {
    "name": "ipython",
    "version": 3
   },
   "file_extension": ".py",
   "mimetype": "text/x-python",
   "name": "python",
   "nbconvert_exporter": "python",
   "pygments_lexer": "ipython3",
   "version": "3.8.10"
  }
 },
 "nbformat": 4,
 "nbformat_minor": 5
}
