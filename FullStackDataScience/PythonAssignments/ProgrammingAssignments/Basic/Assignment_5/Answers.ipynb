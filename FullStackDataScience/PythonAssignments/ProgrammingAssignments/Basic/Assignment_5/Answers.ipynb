{
 "cells": [
  {
   "cell_type": "code",
   "execution_count": 1,
   "id": "3a603197",
   "metadata": {},
   "outputs": [
    {
     "name": "stdout",
     "output_type": "stream",
     "text": [
      "152\n"
     ]
    }
   ],
   "source": [
    "# Question 1\n",
    "\n",
    "def gcd(a, b):\n",
    "    try:\n",
    "        if type(a) != int or type(b) != int:\n",
    "            raise Exception(\"Inputs must be a integer\")\n",
    "        \n",
    "        if a == 0:\n",
    "            return b\n",
    "        \n",
    "        return gcd(b % a, a)\n",
    "    except Exception as e:\n",
    "        return e\n",
    "\n",
    "def lcm(a, b):\n",
    "    try:\n",
    "        if type(a) != int or type(b) != int:\n",
    "            raise Exception(\"Inputs must be a integer\")\n",
    "        \n",
    "        if a > b:\n",
    "            temp = b\n",
    "            b = a\n",
    "            a = temp\n",
    "        \n",
    "        return int((a / gcd(a, b)) * b)\n",
    "    except Exception as e:\n",
    "        return e\n",
    "\n",
    "print(lcm(8, 19))        "
   ]
  },
  {
   "cell_type": "code",
   "execution_count": 2,
   "id": "73f7cda9",
   "metadata": {},
   "outputs": [
    {
     "name": "stdout",
     "output_type": "stream",
     "text": [
      "5\n"
     ]
    }
   ],
   "source": [
    "# Question 2\n",
    "\n",
    "def gcd(a, b):\n",
    "    try:\n",
    "        if type(a) != int or type(b) != int:\n",
    "            raise Exception(\"Inputs must be a integer\")\n",
    "        \n",
    "        if a > b:\n",
    "            temp = b\n",
    "            b = a\n",
    "            a = temp\n",
    "        \n",
    "        if a == 0:\n",
    "            return b\n",
    "        \n",
    "        return gcd(b % a, a)\n",
    "    except Exception as e:\n",
    "        return e\n",
    "    \n",
    "print(gcd(40, 5))"
   ]
  },
  {
   "cell_type": "code",
   "execution_count": 3,
   "id": "7311e06c",
   "metadata": {},
   "outputs": [
    {
     "name": "stdout",
     "output_type": "stream",
     "text": [
      "10\n",
      "10\n",
      "10\n"
     ]
    }
   ],
   "source": [
    "# Question 3\n",
    "\n",
    "def decimalToBinary(num):\n",
    "    try:\n",
    "        if type(num) != int:\n",
    "            raise Exception(\"Input must be a integer\")\n",
    "        \n",
    "        result = ''\n",
    "        while True:\n",
    "            if num == 0:\n",
    "                result += str(0)\n",
    "                break\n",
    "            elif num == 1:\n",
    "                result += str(1)\n",
    "                break\n",
    "                \n",
    "            result += str(num % 2)\n",
    "            num //= 2\n",
    "        return result[-1::-1]\n",
    "    except Exception as e:\n",
    "        return e\n",
    "    \n",
    "def decimalToOctal(num):\n",
    "    try:\n",
    "        if type(num) != int:\n",
    "            raise Exception(\"Input must be a integer\")\n",
    "        \n",
    "        result = ''\n",
    "        while True:\n",
    "            if num < 8:\n",
    "                result += str(num)\n",
    "                break\n",
    "                \n",
    "            result += str(num % 8)\n",
    "            num //= 8\n",
    "        return result[-1::-1]\n",
    "    except Exception as e:\n",
    "        return e\n",
    "    \n",
    "def decimalToHexaDecimal(num):\n",
    "    try:\n",
    "        if type(num) != int:\n",
    "            raise Exception(\"Input must be a integer\")\n",
    "        \n",
    "        result = ''\n",
    "        val = ['a', 'b', 'c', 'd', 'e', 'f']\n",
    "        while True:\n",
    "            if num < 16:\n",
    "                if num >= 10:\n",
    "                    result += val[num-10]\n",
    "                    break\n",
    "                else:\n",
    "                    result += str(num)\n",
    "                    break\n",
    "                    \n",
    "            result += str(num % 16)\n",
    "            num //= 16\n",
    "        return result[-1::-1]\n",
    "    except Exception as e:\n",
    "        return e\n",
    "    \n",
    "print(decimalToBinary(2))\n",
    "print(decimalToOctal(8))\n",
    "print(decimalToHexaDecimal(16))"
   ]
  },
  {
   "cell_type": "code",
   "execution_count": 4,
   "id": "6083e8d6",
   "metadata": {},
   "outputs": [
    {
     "name": "stdout",
     "output_type": "stream",
     "text": [
      "115\n"
     ]
    }
   ],
   "source": [
    "# Question 4\n",
    "\n",
    "def getAscii(char):\n",
    "    try:\n",
    "        if type(char) != str or len(char) != 1:\n",
    "            raise Exception(\"Input must be a character\")\n",
    "        \n",
    "        return ord(char)\n",
    "    except Exception as e:\n",
    "        return e\n",
    "    \n",
    "print(getAscii('s'))"
   ]
  },
  {
   "cell_type": "code",
   "execution_count": 5,
   "id": "17a49e03",
   "metadata": {},
   "outputs": [
    {
     "name": "stdout",
     "output_type": "stream",
     "text": [
      "8\n",
      "-6\n",
      "7\n",
      "0.14285714285714285\n",
      "Operator not recognized\n",
      "None\n"
     ]
    }
   ],
   "source": [
    "# Question 5\n",
    "\n",
    "def calculater(num1, num2, operator):\n",
    "    if operator == '+':\n",
    "        return num1 + num2\n",
    "    elif operator == '-':\n",
    "        return num1 - num2\n",
    "    elif operator == '*':\n",
    "        return num1 * num2\n",
    "    elif operator == '/':\n",
    "        return num1 / num2\n",
    "    else:\n",
    "        print(\"Operator not recognized\")\n",
    "        return None\n",
    "        \n",
    "print(calculater(1, 7, '+'))\n",
    "print(calculater(1, 7, '-'))\n",
    "print(calculater(1, 7, '*'))\n",
    "print(calculater(1, 7, '/'))\n",
    "print(calculater(1, 7, '**'))"
   ]
  }
 ],
 "metadata": {
  "kernelspec": {
   "display_name": "Python 3",
   "language": "python",
   "name": "python3"
  },
  "language_info": {
   "codemirror_mode": {
    "name": "ipython",
    "version": 3
   },
   "file_extension": ".py",
   "mimetype": "text/x-python",
   "name": "python",
   "nbconvert_exporter": "python",
   "pygments_lexer": "ipython3",
   "version": "3.8.10"
  }
 },
 "nbformat": 4,
 "nbformat_minor": 5
}
