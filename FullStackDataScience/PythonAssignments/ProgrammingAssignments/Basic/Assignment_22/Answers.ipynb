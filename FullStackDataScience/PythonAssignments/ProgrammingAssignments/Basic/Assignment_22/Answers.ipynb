{
 "cells": [
  {
   "cell_type": "code",
   "execution_count": 1,
   "id": "ae1e8d68",
   "metadata": {},
   "outputs": [
    {
     "name": "stdout",
     "output_type": "stream",
     "text": [
      "[3, 6, 9]\n",
      "[8]\n",
      "[]\n"
     ]
    }
   ],
   "source": [
    "# Question 1\n",
    "\n",
    "def checkDivider(x, y, n):\n",
    "    try:\n",
    "        if type(x) != int or type(y) != int or type(n) != int:\n",
    "            raise Exception(\"Input must be a integer!!!\")\n",
    "            \n",
    "        result = []\n",
    "        \n",
    "        for i in range(x, y+1):\n",
    "            if i % n == 0:\n",
    "                result.append(i)\n",
    "                \n",
    "        return result\n",
    "    except Exception as e:\n",
    "        return e\n",
    "    \n",
    "print(checkDivider(1, 10, 3))\n",
    "print(checkDivider(7, 9, 2))\n",
    "print(checkDivider(15, 20, 7))"
   ]
  },
  {
   "cell_type": "code",
   "execution_count": 2,
   "id": "01985c6f",
   "metadata": {},
   "outputs": [
    {
     "name": "stdout",
     "output_type": "stream",
     "text": [
      "True\n",
      "False\n",
      "True\n",
      "False\n"
     ]
    }
   ],
   "source": [
    "# Question 2\n",
    "\n",
    "def followUp(li1, li2):\n",
    "    try:\n",
    "        if type(li1) != list or type(li2) != list:\n",
    "            raise Exception(\"Input must be a list!!!\")\n",
    "        elif len(li1) != len(li2):\n",
    "            raise Exception(\"Lists must be of equal length!!!\")\n",
    "            \n",
    "        if li1[:(len(li1)-1)] == li2[1:]:\n",
    "            return True\n",
    "        else:\n",
    "            return False\n",
    "    except Exception as e:\n",
    "        return e\n",
    "    \n",
    "print(followUp([1, 2], [5, 1]))\n",
    "print(followUp([1, 2], [5, 5]))\n",
    "print(followUp([1, 2, 3, 4, 5], [0, 1, 2, 3, 4]))\n",
    "print(followUp([1, 2, 3, 4, 5], [5, 5, 1, 2, 3]))"
   ]
  },
  {
   "cell_type": "code",
   "execution_count": 3,
   "id": "096a61c1",
   "metadata": {},
   "outputs": [
    {
     "name": "stdout",
     "output_type": "stream",
     "text": [
      "AMS\n",
      "CHLN\n",
      "CJMPRR\n"
     ]
    }
   ],
   "source": [
    "# Question 3\n",
    "\n",
    "def secretCode(li):\n",
    "    try:\n",
    "        if type(li) != list:\n",
    "            raise Exception(\"Input must be a list!!!\")\n",
    "        elif len(li) == 0:\n",
    "            raise Exception(\"Input must contain some values!!!\")\n",
    "            \n",
    "        result = ''\n",
    "        for i in li:\n",
    "            result += i[0]\n",
    "        \n",
    "        return ''.join(sorted(result))\n",
    "    except Exception as e:\n",
    "        return e\n",
    "    \n",
    "print(secretCode([\"Adam\", \"Sarah\", \"Malcolm\"]))\n",
    "print(secretCode([\"Harry\", \"Newt\", \"Luna\", \"Cho\"]))\n",
    "print(secretCode([\"Phoebe\", \"Chandler\", \"Rachel\", \"Ross\", \"Monica\", \"Joey\"]))"
   ]
  },
  {
   "cell_type": "code",
   "execution_count": 4,
   "id": "d834ef5f",
   "metadata": {},
   "outputs": [
    {
     "name": "stdout",
     "output_type": "stream",
     "text": [
      "True\n",
      "False\n",
      "False\n"
     ]
    }
   ],
   "source": [
    "# Question 4\n",
    "\n",
    "def checkIsogram(string):\n",
    "    try:\n",
    "        if type(string) != str:\n",
    "            raise Exception(\"Input must be a string!!!\")\n",
    "            \n",
    "        string = string.lower()\n",
    "        for i in string:\n",
    "            if string.count(i) > 1:\n",
    "                return False\n",
    "        return True\n",
    "    except Exception as e:\n",
    "        return e\n",
    "    \n",
    "print(checkIsogram(\"Algorism\"))\n",
    "print(checkIsogram(\"PasSword\"))\n",
    "print(checkIsogram(\"Consecutive\"))"
   ]
  },
  {
   "cell_type": "code",
   "execution_count": 5,
   "id": "7f1056cf",
   "metadata": {},
   "outputs": [
    {
     "name": "stdout",
     "output_type": "stream",
     "text": [
      "True\n",
      "False\n",
      "True\n",
      "True\n"
     ]
    }
   ],
   "source": [
    "# Question 5\n",
    "\n",
    "def checkOrder(string):\n",
    "    try:\n",
    "        if type(string) != str:\n",
    "            raise Exception(\"Input must be a string!!!\")\n",
    "            \n",
    "        if string == (''.join(sorted(string))):\n",
    "            return True\n",
    "        else:\n",
    "            return False\n",
    "    except Exception as e:\n",
    "        return e\n",
    "    \n",
    "print(checkOrder(\"abc\"))\n",
    "print(checkOrder(\"edabit\"))\n",
    "print(checkOrder(\"123\"))\n",
    "print(checkOrder(\"xyzz\"))"
   ]
  }
 ],
 "metadata": {
  "kernelspec": {
   "display_name": "Python 3",
   "language": "python",
   "name": "python3"
  },
  "language_info": {
   "codemirror_mode": {
    "name": "ipython",
    "version": 3
   },
   "file_extension": ".py",
   "mimetype": "text/x-python",
   "name": "python",
   "nbconvert_exporter": "python",
   "pygments_lexer": "ipython3",
   "version": "3.8.10"
  }
 },
 "nbformat": 4,
 "nbformat_minor": 5
}
