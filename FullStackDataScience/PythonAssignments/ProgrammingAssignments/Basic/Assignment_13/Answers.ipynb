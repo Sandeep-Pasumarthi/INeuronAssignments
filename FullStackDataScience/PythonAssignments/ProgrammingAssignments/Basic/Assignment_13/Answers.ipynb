{
 "cells": [
  {
   "cell_type": "code",
   "execution_count": 1,
   "id": "f4c9882f",
   "metadata": {},
   "outputs": [
    {
     "name": "stdout",
     "output_type": "stream",
     "text": [
      "Enter d values seperated by ',': - 100,150,180\n",
      "18,22,24\n"
     ]
    }
   ],
   "source": [
    "# Question 1\n",
    "\n",
    "def formula(d, c, h):\n",
    "    try:\n",
    "        import math\n",
    "        \n",
    "        result = (2*c*d) / h\n",
    "        \n",
    "        return str(int(math.sqrt(int(result))))\n",
    "    except Exception as e:\n",
    "        return e\n",
    "\n",
    "def calculateFormula():\n",
    "    try:\n",
    "        d = list(map(int, input(\"Enter d values seperated by ',': - \").split(',')))\n",
    "        result = []\n",
    "        for i in d:\n",
    "            result.append(formula(i, 50, 30))\n",
    "        \n",
    "        return ','.join(result)\n",
    "    except Exception as e:\n",
    "        return e\n",
    "        \n",
    "print(calculateFormula())"
   ]
  },
  {
   "cell_type": "code",
   "execution_count": 2,
   "id": "cdeaf26e",
   "metadata": {},
   "outputs": [
    {
     "name": "stdout",
     "output_type": "stream",
     "text": [
      "Enter dimension of array seperated by ',': - 3,5\n",
      "[[0, 0, 0, 0, 0], [0, 1, 2, 3, 4], [0, 2, 4, 6, 8]]\n"
     ]
    }
   ],
   "source": [
    "# Question 2\n",
    "\n",
    "def twoDArray():\n",
    "    try:\n",
    "        m = list(map(int, input(\"Enter dimension of array seperated by ',': - \").split(',')))\n",
    "        if len(m) != 2:\n",
    "            raise Exception(\"Entered dimensions are wrong! Please enter 2 dimensions only\")\n",
    "        \n",
    "        result = []\n",
    "        for i in range(m[0]):\n",
    "            x = []\n",
    "            for j in range(m[1]):\n",
    "                x.append(i*j)\n",
    "            result.append(x)\n",
    "            \n",
    "        return result\n",
    "    except Exception as e:\n",
    "        return e\n",
    "    \n",
    "print(twoDArray())"
   ]
  },
  {
   "cell_type": "code",
   "execution_count": 3,
   "id": "2eadcf48",
   "metadata": {},
   "outputs": [
    {
     "name": "stdout",
     "output_type": "stream",
     "text": [
      "Enter sequence of words seperated by ',': - without,hello,bag,world\n",
      "bag,hello,without,world\n"
     ]
    }
   ],
   "source": [
    "# Question 3\n",
    "\n",
    "def sortWords():\n",
    "    try:\n",
    "        words = input(\"Enter sequence of words seperated by ',': - \").split(',')\n",
    "        \n",
    "        return ','.join(sorted(words))\n",
    "    except Exception as e:\n",
    "        return e\n",
    "    \n",
    "print(sortWords())"
   ]
  },
  {
   "cell_type": "code",
   "execution_count": 4,
   "id": "c24c34ff",
   "metadata": {},
   "outputs": [
    {
     "name": "stdout",
     "output_type": "stream",
     "text": [
      "Enter sequence of words seperated by ' '(space): - hello world and practice makes perfect and hello world again\n",
      "again and hello makes perfect practice world\n"
     ]
    }
   ],
   "source": [
    "# Question 4\n",
    "\n",
    "def sortNonDuplicateWords():\n",
    "    try:\n",
    "        words = input(\"Enter sequence of words seperated by ' '(space): - \").split(' ')\n",
    "        \n",
    "        return ' '.join(sorted(set(words)))\n",
    "    except Exception as e:\n",
    "        return e\n",
    "    \n",
    "print(sortNonDuplicateWords())"
   ]
  },
  {
   "cell_type": "code",
   "execution_count": 5,
   "id": "8ae881d4",
   "metadata": {},
   "outputs": [
    {
     "name": "stdout",
     "output_type": "stream",
     "text": [
      "Enter a string: - hello world! 123\n",
      "Letters  10\n",
      "Digits  3\n"
     ]
    }
   ],
   "source": [
    "# Question 5\n",
    "\n",
    "def numLettersNumbers():\n",
    "    try:\n",
    "        sentence = input(\"Enter a string: - \")\n",
    "        punctutaions = '[]{}()!@#$%&^*-_;:\"/\\|`~?\\' '\n",
    "        nums = '0123456789'\n",
    "        numLetters = 0\n",
    "        numNums = 0\n",
    "        for i in sentence:\n",
    "            if i in punctutaions:\n",
    "                pass\n",
    "            elif i in nums:\n",
    "                numNums += 1\n",
    "            else:\n",
    "                numLetters += 1\n",
    "                \n",
    "        print(\"Letters \", numLetters)\n",
    "        print(\"Digits \", numNums)\n",
    "        \n",
    "    except Exception as e:\n",
    "        print(e)\n",
    "        \n",
    "numLettersNumbers()"
   ]
  },
  {
   "cell_type": "code",
   "execution_count": 6,
   "id": "e0834b98",
   "metadata": {},
   "outputs": [
    {
     "name": "stdout",
     "output_type": "stream",
     "text": [
      "Enter sequence of passwords seperated by ',': - ABd1234@1,a F1#,2w3E*,2We3345\n",
      "ABd1234@1\n"
     ]
    }
   ],
   "source": [
    "# Question 6\n",
    "\n",
    "def checkPasswords():\n",
    "    try:\n",
    "        passwords = input(\"Enter sequence of passwords seperated by ',': - \").split(',')\n",
    "        \n",
    "        truePasswords = []\n",
    "        smallAlpha = 'abcdefghijklmnopqrstuvwxyz'\n",
    "        bigAlpha = 'ABCDEFGHIJKLMNOPQRSTUVWXYZ'\n",
    "        nums = '0123456789'\n",
    "        specChar = '$#@'\n",
    "        for i in passwords:\n",
    "            check1 = 0\n",
    "            check2 = 0\n",
    "            check3 = 0\n",
    "            check4 = 0\n",
    "            check5 = 0\n",
    "            for j in i:\n",
    "                if len(i) >= 6 and len(i) <= 12:\n",
    "                    check5 = 1\n",
    "                if j in smallAlpha:\n",
    "                    check1 += 1\n",
    "                if j in nums:\n",
    "                    check2 += 1\n",
    "                if j in bigAlpha:\n",
    "                    check3 += 1\n",
    "                if j in specChar:\n",
    "                    check4 += 1\n",
    "                    \n",
    "            if check1 >= 1 and check2 >= 1 and check3 >= 1 and check4 >= 1 and check5 == 1:\n",
    "                truePasswords.append(i)\n",
    "                \n",
    "        return ','.join(truePasswords)\n",
    "    except Exception as e:\n",
    "        return e\n",
    "    \n",
    "print(checkPasswords())"
   ]
  }
 ],
 "metadata": {
  "kernelspec": {
   "display_name": "Python 3",
   "language": "python",
   "name": "python3"
  },
  "language_info": {
   "codemirror_mode": {
    "name": "ipython",
    "version": 3
   },
   "file_extension": ".py",
   "mimetype": "text/x-python",
   "name": "python",
   "nbconvert_exporter": "python",
   "pygments_lexer": "ipython3",
   "version": "3.8.10"
  }
 },
 "nbformat": 4,
 "nbformat_minor": 5
}
