{
 "cells": [
  {
   "cell_type": "code",
   "execution_count": 1,
   "id": "9c53447f",
   "metadata": {},
   "outputs": [
    {
     "name": "stdout",
     "output_type": "stream",
     "text": [
      "[1, 2, 3, 40]\n",
      "[1, 2, 3]\n",
      "[1, 2, 3, 40, 5, 6, 7, 80, 9, 10, 11, 120, 13, 14, 15, 160, 17, 18, 19, 200, 21, 22, 23, 240, 25]\n"
     ]
    }
   ],
   "source": [
    "# Question 1\n",
    "\n",
    "def amplifyFour(num):\n",
    "    try:\n",
    "        if type(num) != int:\n",
    "            raise Exception(\"Input must be a int!!!\")\n",
    "        if num <= 0:\n",
    "            raise Exception(\"Input must be greater than zero\")\n",
    "        \n",
    "        return [i if i % 4 != 0 else (i*10) for i in range(1, num+1)]\n",
    "    except Exception as e:\n",
    "        return e\n",
    "    \n",
    "print(amplifyFour(4))\n",
    "print(amplifyFour(3))\n",
    "print(amplifyFour(25))"
   ]
  },
  {
   "cell_type": "code",
   "execution_count": 2,
   "id": "d2b4e11e",
   "metadata": {},
   "outputs": [
    {
     "name": "stdout",
     "output_type": "stream",
     "text": [
      "7\n",
      "0.77\n",
      "0\n"
     ]
    }
   ],
   "source": [
    "# Question 2\n",
    "\n",
    "def uniqueNum(li):\n",
    "    try:\n",
    "        if type(li) != list:\n",
    "            raise Exception(\"Input must be a list!!!\")\n",
    "        if len(li) == 0:\n",
    "            raise Exception(\"Input is empty!!!\")\n",
    "            \n",
    "        for i in set(li):\n",
    "            if li.count(i) == 1:\n",
    "                return i\n",
    "    except Exception as e:\n",
    "        return e\n",
    "    \n",
    "print(uniqueNum([3, 3, 3, 7, 3, 3]))\n",
    "print(uniqueNum([0, 0, 0.77, 0, 0]))\n",
    "print(uniqueNum([0, 1, 1, 1, 1, 1, 1, 1]))"
   ]
  },
  {
   "cell_type": "code",
   "execution_count": 3,
   "id": "a1e5d5b8",
   "metadata": {},
   "outputs": [
    {
     "name": "stdout",
     "output_type": "stream",
     "text": [
      "380\n",
      "28\n"
     ]
    }
   ],
   "source": [
    "# Question 3\n",
    "\n",
    "class Circle:\n",
    "    \n",
    "    def __init__(self, radius):\n",
    "        self.radius = radius\n",
    "    \n",
    "    def getArea(self):\n",
    "        try:\n",
    "            import math\n",
    "        except Exception as e:\n",
    "            print(e)\n",
    "        return round(math.pow(self.radius, 2) * math.pi)\n",
    "    \n",
    "    def getPerimeter(self):\n",
    "        try:\n",
    "            import math\n",
    "        except Exception as e:\n",
    "            print(e)\n",
    "        return round(2*math.pi*self.radius)\n",
    "    \n",
    "c1 = Circle(11)\n",
    "print(c1.getArea())\n",
    "c2 = Circle(4.44)\n",
    "print(c2.getPerimeter())"
   ]
  },
  {
   "cell_type": "code",
   "execution_count": 4,
   "id": "1f3bceba",
   "metadata": {},
   "outputs": [
    {
     "name": "stdout",
     "output_type": "stream",
     "text": [
      "['Apple', 'Google', 'Microsoft']\n",
      "['Raphael', 'Leonardo', 'Donatello', 'Michelangelo']\n",
      "['Jung', 'Turing', 'Einstein']\n"
     ]
    }
   ],
   "source": [
    "# Question 4\n",
    "\n",
    "def sortByLength(li):\n",
    "    try:\n",
    "        if type(li) != list:\n",
    "            raise Exception(\"Input must be a list!!!\")\n",
    "            \n",
    "        for i in range(len(li)):\n",
    "            for j in range(i+1, len(li)):\n",
    "                if len(li[j]) < len(li[i]):\n",
    "                    temp = li[j]\n",
    "                    li[j] = li[i]\n",
    "                    li[i] = temp\n",
    "        return li\n",
    "    except Exception as e:\n",
    "        return e\n",
    "    \n",
    "print(sortByLength([\"Google\", \"Apple\", \"Microsoft\"]))\n",
    "print(sortByLength([\"Leonardo\", \"Michelangelo\", \"Raphael\", \"Donatello\"]))\n",
    "print(sortByLength([\"Turing\", \"Einstein\", \"Jung\"]))"
   ]
  },
  {
   "cell_type": "code",
   "execution_count": 5,
   "id": "6df5159a",
   "metadata": {},
   "outputs": [
    {
     "name": "stdout",
     "output_type": "stream",
     "text": [
      "True\n",
      "True\n",
      "False\n"
     ]
    }
   ],
   "source": [
    "# Question 5\n",
    "\n",
    "def pythagoreanTriplet(a, b, c):\n",
    "    try:\n",
    "        if type(a) != int or type(b) != int or type(c) != int:\n",
    "            raise Exception(\"Inputs must be integers\")\n",
    "        if a <= 0 or b <= 0 or c <= 0:\n",
    "            raise Exception(\"Integers can't be zero or negative\")\n",
    "            \n",
    "        li = [a, b, c]\n",
    "        li = sorted(li)\n",
    "        \n",
    "        if ((li[0]**2) + (li[1]**2)) == (li[2]**2):\n",
    "            return True\n",
    "        else:\n",
    "            return False\n",
    "    except Exception as e:\n",
    "        return e\n",
    "    \n",
    "print(pythagoreanTriplet(3, 4, 5))\n",
    "print(pythagoreanTriplet(13, 5, 12))\n",
    "print(pythagoreanTriplet(1, 2, 3))"
   ]
  }
 ],
 "metadata": {
  "kernelspec": {
   "display_name": "Python 3",
   "language": "python",
   "name": "python3"
  },
  "language_info": {
   "codemirror_mode": {
    "name": "ipython",
    "version": 3
   },
   "file_extension": ".py",
   "mimetype": "text/x-python",
   "name": "python",
   "nbconvert_exporter": "python",
   "pygments_lexer": "ipython3",
   "version": "3.8.10"
  }
 },
 "nbformat": 4,
 "nbformat_minor": 5
}
