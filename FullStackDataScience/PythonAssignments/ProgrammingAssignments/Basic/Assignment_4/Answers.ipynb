{
 "cells": [
  {
   "cell_type": "code",
   "execution_count": 1,
   "id": "02612c70",
   "metadata": {},
   "outputs": [
    {
     "name": "stdout",
     "output_type": "stream",
     "text": [
      "Enter a positive number: - 17\n",
      "355687428096000\n"
     ]
    }
   ],
   "source": [
    "# Question 1\n",
    "\n",
    "def factorial(n):\n",
    "    try:\n",
    "        n = int(n)\n",
    "        if n < 0:\n",
    "            raise Exception(\"Enter a positive number\")\n",
    "        \n",
    "        mul = 1\n",
    "        for i in range(2, n+1):\n",
    "            mul = mul * i\n",
    "        \n",
    "        print(mul)\n",
    "    except Exception as e:\n",
    "        print(\"You entered something wrong!!!! \\nCheck this message: - \", e)\n",
    "\n",
    "factorial(input(\"Enter a positive number: - \"))"
   ]
  },
  {
   "cell_type": "code",
   "execution_count": 2,
   "id": "b50c0595",
   "metadata": {},
   "outputs": [
    {
     "name": "stdout",
     "output_type": "stream",
     "text": [
      "Enter a positive integer: - 17\n",
      "Multiplication of 17\n",
      "17 X 1 = 17\n",
      "17 X 2 = 34\n",
      "17 X 3 = 51\n",
      "17 X 4 = 68\n",
      "17 X 5 = 85\n",
      "17 X 6 = 102\n",
      "17 X 7 = 119\n",
      "17 X 8 = 136\n",
      "17 X 9 = 153\n",
      "17 X 10 = 170\n"
     ]
    }
   ],
   "source": [
    "# Question 2\n",
    "\n",
    "def multiplicationTable(n):\n",
    "    try:\n",
    "        n = int(n)\n",
    "        print(f\"Multiplication of {n}\")\n",
    "        for i in range(10):\n",
    "            print(f\"{n} X {i+1} = {n*(i+1)}\")\n",
    "    except Exception as e:\n",
    "        print(\"You entered something wrong!!!! \\nCheck this message: - \", e)\n",
    "        \n",
    "multiplicationTable(input(\"Enter a positive integer: - \"))"
   ]
  },
  {
   "cell_type": "code",
   "execution_count": 3,
   "id": "21431781",
   "metadata": {},
   "outputs": [
    {
     "name": "stdout",
     "output_type": "stream",
     "text": [
      "Enter a positive number: - 17\n",
      "\n",
      "Fibonacci series upto 17: - \n",
      "0\n",
      "1\n",
      "1\n",
      "2\n",
      "3\n",
      "5\n",
      "8\n",
      "13\n",
      "21\n",
      "34\n",
      "55\n",
      "89\n",
      "144\n",
      "233\n",
      "377\n",
      "610\n",
      "987\n",
      "1597\n"
     ]
    }
   ],
   "source": [
    "# Question 3\n",
    "\n",
    "def fibonacci(n):\n",
    "    try:\n",
    "        n = int(n)\n",
    "        if(n < 0):\n",
    "            raise Exception(\"Enter a positive integer!!!\")\n",
    "        if n == 0:\n",
    "            print(f\"\\nFibonacci series upto {n}: - \")\n",
    "            print(0)\n",
    "        elif n == 1:\n",
    "            print(f\"\\nFibonacci series upto {n}: - \")\n",
    "            print(0)\n",
    "            print(1)\n",
    "        else:\n",
    "            x = 0\n",
    "            y = 1\n",
    "            print(f\"\\nFibonacci series upto {n}: - \")\n",
    "            print(0)\n",
    "            print(1)\n",
    "            for i in range(2, n+1):\n",
    "                z = x + y\n",
    "                print(z)\n",
    "                x = y\n",
    "                y = z\n",
    "                \n",
    "    except Exception as e:\n",
    "        print(\"You entered something wrong!!!! \\nCheck this message: - \", e)\n",
    "        \n",
    "fibonacci(input(\"Enter a positive number: - \"))"
   ]
  },
  {
   "cell_type": "code",
   "execution_count": 4,
   "id": "2d9f042f",
   "metadata": {},
   "outputs": [
    {
     "name": "stdout",
     "output_type": "stream",
     "text": [
      "Enter a positive integer: - 153\n",
      "It's a Armstrong Number\n"
     ]
    }
   ],
   "source": [
    "# Question 4\n",
    "\n",
    "def armstrongNumber(n):\n",
    "    try:\n",
    "        if int(n) <= 0:\n",
    "            raise Exception(\"Enter a positive number\")\n",
    "            \n",
    "        x = int(n)\n",
    "        add = 0\n",
    "        for i in n:\n",
    "            add = add + (int(i)**3)\n",
    "            \n",
    "        if x == add:\n",
    "            print(\"It's a Armstrong Number\")\n",
    "        else:\n",
    "            print(\"It's not a Armstrong Number\")\n",
    "    except Exception as e:\n",
    "        print(\"You entered something wrong!!!! \\nCheck this message: - \", e)\n",
    "        \n",
    "armstrongNumber(input(\"Enter a positive integer: - \"))"
   ]
  },
  {
   "cell_type": "code",
   "execution_count": 5,
   "id": "1499834d",
   "metadata": {},
   "outputs": [
    {
     "name": "stdout",
     "output_type": "stream",
     "text": [
      "Enter lowest number: - 150\n",
      "Enter highest number: - 380\n",
      "\n",
      "\n",
      "Armstrong Number is 153\n",
      "Armstrong Number is 370\n",
      "Armstrong Number is 371\n"
     ]
    }
   ],
   "source": [
    "# Question 4\n",
    "\n",
    "def armstrongNumber(n):\n",
    "    try:\n",
    "        if int(n) <= 0:\n",
    "            raise Exception(\"Enter a positive number\")\n",
    "            \n",
    "        x = int(n)\n",
    "        add = 0\n",
    "        for i in n:\n",
    "            add = add + (int(i)**3)\n",
    "            \n",
    "        if x == add:\n",
    "            return True\n",
    "        else:\n",
    "            return False\n",
    "    except Exception as e:\n",
    "        print(\"You entered something wrong!!!! \\nCheck this message: - \", e)\n",
    "        \n",
    "def betweenArmstrong(l, h):\n",
    "    try:\n",
    "        print(\"\\n\")\n",
    "        for i in range(int(l), (int(h)+1)):\n",
    "            x = armstrongNumber(str(i))\n",
    "            if x == True:\n",
    "                print(f\"Armstrong Number is {i}\")\n",
    "                \n",
    "    except Exception as e:\n",
    "        print(\"You entered something wrong!!!! \\nCheck this message: - \", e)\n",
    "        \n",
    "betweenArmstrong(input(\"Enter lowest number: - \"), input(\"Enter highest number: - \"))"
   ]
  },
  {
   "cell_type": "code",
   "execution_count": 6,
   "id": "074d8658",
   "metadata": {},
   "outputs": [
    {
     "name": "stdout",
     "output_type": "stream",
     "text": [
      "Enter a natural number: - 17\n",
      "Sum of natural numbers upto 17 is 153\n"
     ]
    }
   ],
   "source": [
    "# Question 6\n",
    "\n",
    "def sumNaturalNumbers(n):\n",
    "    try:\n",
    "        if int(n) <= 0:\n",
    "            raise Exception(\"Enter a positive natural number\")\n",
    "        n = int(n)\n",
    "        print(f\"Sum of natural numbers upto {n} is {int((n*(n+1))/2)}\")\n",
    "        \n",
    "    except Exception as e:\n",
    "        print(\"You entered something wrong!!!! \\nCheck this message: - \", e)\n",
    "        \n",
    "sumNaturalNumbers(input(\"Enter a natural number: - \"))"
   ]
  }
 ],
 "metadata": {
  "kernelspec": {
   "display_name": "Python 3",
   "language": "python",
   "name": "python3"
  },
  "language_info": {
   "codemirror_mode": {
    "name": "ipython",
    "version": 3
   },
   "file_extension": ".py",
   "mimetype": "text/x-python",
   "name": "python",
   "nbconvert_exporter": "python",
   "pygments_lexer": "ipython3",
   "version": "3.8.8"
  }
 },
 "nbformat": 4,
 "nbformat_minor": 5
}
