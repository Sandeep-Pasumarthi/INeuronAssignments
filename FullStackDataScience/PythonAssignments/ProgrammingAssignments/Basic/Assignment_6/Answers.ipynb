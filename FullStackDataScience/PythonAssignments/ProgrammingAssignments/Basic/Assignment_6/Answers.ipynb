{
 "cells": [
  {
   "cell_type": "code",
   "execution_count": 1,
   "id": "c1153811",
   "metadata": {},
   "outputs": [
    {
     "name": "stdout",
     "output_type": "stream",
     "text": [
      "Enter a positive integer: - 5\n",
      "5\n"
     ]
    }
   ],
   "source": [
    "# Question 1\n",
    "\n",
    "def recurFibonacci(n):\n",
    "    if n == 0:\n",
    "        return n\n",
    "    elif n == 1:\n",
    "        return n\n",
    "    else:\n",
    "        return recurFibonacci(n - 2) + recurFibonacci(n - 1)\n",
    "    \n",
    "print(recurFibonacci(int(input(\"Enter a positive integer: - \"))))"
   ]
  },
  {
   "cell_type": "code",
   "execution_count": 2,
   "id": "4d0f64c5",
   "metadata": {},
   "outputs": [
    {
     "name": "stdout",
     "output_type": "stream",
     "text": [
      "Enter a positive integer: - 5\n",
      "120\n"
     ]
    }
   ],
   "source": [
    "# Question 2\n",
    "\n",
    "def recurFactorial(n):\n",
    "    if n == 0 or n == 1:\n",
    "        return 1\n",
    "    else:\n",
    "        return n * recurFactorial(n-1)\n",
    "    \n",
    "print(recurFactorial(int(input(\"Enter a positive integer: - \"))))"
   ]
  },
  {
   "cell_type": "code",
   "execution_count": 3,
   "id": "5b372ce6",
   "metadata": {},
   "outputs": [
    {
     "name": "stdout",
     "output_type": "stream",
     "text": [
      "Enter your height in M: - 1.5\n",
      "Enter your weight in KG: - 45\n",
      "20.0\n"
     ]
    }
   ],
   "source": [
    "# Question 3\n",
    "\n",
    "def bodyMassIndex(h, m):\n",
    "    if h < 0 or m < 0:\n",
    "        return None\n",
    "    else:\n",
    "        return (m / (h**2))\n",
    "    \n",
    "print(bodyMassIndex(float(input(\"Enter your height in M: - \")), float(input(\"Enter your weight in KG: - \"))))"
   ]
  },
  {
   "cell_type": "code",
   "execution_count": 4,
   "id": "29ee4f7f",
   "metadata": {},
   "outputs": [
    {
     "name": "stdout",
     "output_type": "stream",
     "text": [
      "Enter a number: - 10\n",
      "1.0\n"
     ]
    }
   ],
   "source": [
    "# Question 4\n",
    "\n",
    "import math\n",
    "\n",
    "print(math.log(float(input(\"Enter a number: - \")), 10))"
   ]
  },
  {
   "cell_type": "code",
   "execution_count": 5,
   "id": "af0fb6db",
   "metadata": {},
   "outputs": [
    {
     "name": "stdout",
     "output_type": "stream",
     "text": [
      "Enter a positive integer: - 5\n",
      "225\n"
     ]
    }
   ],
   "source": [
    "# Question 5\n",
    "\n",
    "def sumCube(n):\n",
    "    if n < 0:\n",
    "        return None\n",
    "    else:\n",
    "        return int((((n*(n+1)) / 2)**2))\n",
    "    \n",
    "print(sumCube(int(input(\"Enter a positive integer: - \"))))"
   ]
  }
 ],
 "metadata": {
  "kernelspec": {
   "display_name": "Python 3",
   "language": "python",
   "name": "python3"
  },
  "language_info": {
   "codemirror_mode": {
    "name": "ipython",
    "version": 3
   },
   "file_extension": ".py",
   "mimetype": "text/x-python",
   "name": "python",
   "nbconvert_exporter": "python",
   "pygments_lexer": "ipython3",
   "version": "3.8.8"
  }
 },
 "nbformat": 4,
 "nbformat_minor": 5
}
