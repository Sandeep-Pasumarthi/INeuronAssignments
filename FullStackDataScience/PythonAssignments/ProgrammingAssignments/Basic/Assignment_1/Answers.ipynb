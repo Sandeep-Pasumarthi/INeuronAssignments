{
 "cells": [
  {
   "cell_type": "code",
   "execution_count": 1,
   "id": "76ed8566",
   "metadata": {},
   "outputs": [
    {
     "name": "stdout",
     "output_type": "stream",
     "text": [
      "Hello Python\n"
     ]
    }
   ],
   "source": [
    "# Question 1\n",
    "\n",
    "print(\"Hello Python\")"
   ]
  },
  {
   "cell_type": "code",
   "execution_count": 2,
   "id": "68cfdefe",
   "metadata": {},
   "outputs": [
    {
     "name": "stdout",
     "output_type": "stream",
     "text": [
      "25\n",
      "5.0\n"
     ]
    }
   ],
   "source": [
    "# Question 2\n",
    "\n",
    "def add(a, b):\n",
    "    print(a + b)\n",
    "\n",
    "def div(a, b):\n",
    "    print(a / b)\n",
    "\n",
    "add(12, 13) # Example of adding two numbers\n",
    "div(25, 5)  # Example of dividing two numbers"
   ]
  },
  {
   "cell_type": "code",
   "execution_count": 3,
   "id": "f7e2e06c",
   "metadata": {},
   "outputs": [
    {
     "name": "stdout",
     "output_type": "stream",
     "text": [
      "100.0\n"
     ]
    }
   ],
   "source": [
    "# Question 3\n",
    "\n",
    "def triangleArea(base, height):\n",
    "    print(0.5 * base * height)\n",
    "    \n",
    "triangleArea(20, 10) # Example of finding area of triangle with base 20, height 10"
   ]
  },
  {
   "cell_type": "code",
   "execution_count": 4,
   "id": "77a13e5a",
   "metadata": {},
   "outputs": [
    {
     "name": "stdout",
     "output_type": "stream",
     "text": [
      "First number: - 20\n",
      "Second number: - 30\n",
      "\n",
      "Given Numbers: -\n",
      "First number: -  20\n",
      "Second number: -  30\n",
      "\n",
      "Numbers after swapping: -\n",
      "First number after swapping: -  30\n",
      "Second number after swapping: -  20\n"
     ]
    }
   ],
   "source": [
    "# Question 4\n",
    "\n",
    "a = int(input(\"First number: - \"))\n",
    "b = int(input(\"Second number: - \"))\n",
    "\n",
    "print(\"\\nGiven Numbers: -\")\n",
    "print(\"First number: - \", a)\n",
    "print(\"Second number: - \", b)\n",
    "\n",
    "c = b\n",
    "b = a\n",
    "a = c\n",
    "\n",
    "print(\"\\nNumbers after swapping: -\")\n",
    "print(\"First number after swapping: - \", a)\n",
    "print(\"Second number after swapping: - \", b)"
   ]
  },
  {
   "cell_type": "code",
   "execution_count": 5,
   "id": "43cffb94",
   "metadata": {},
   "outputs": [
    {
     "name": "stdout",
     "output_type": "stream",
     "text": [
      "Maximum of random number: - 1000\n"
     ]
    },
    {
     "data": {
      "text/plain": [
       "727"
      ]
     },
     "execution_count": 5,
     "metadata": {},
     "output_type": "execute_result"
    }
   ],
   "source": [
    "# Question 5\n",
    "\n",
    "import random\n",
    "\n",
    "maxRange = int(input(\"Maximum of random number: - \"))\n",
    "random.randint(0, maxRange)"
   ]
  }
 ],
 "metadata": {
  "kernelspec": {
   "display_name": "Python 3",
   "language": "python",
   "name": "python3"
  },
  "language_info": {
   "codemirror_mode": {
    "name": "ipython",
    "version": 3
   },
   "file_extension": ".py",
   "mimetype": "text/x-python",
   "name": "python",
   "nbconvert_exporter": "python",
   "pygments_lexer": "ipython3",
   "version": "3.8.8"
  }
 },
 "nbformat": 4,
 "nbformat_minor": 5
}
