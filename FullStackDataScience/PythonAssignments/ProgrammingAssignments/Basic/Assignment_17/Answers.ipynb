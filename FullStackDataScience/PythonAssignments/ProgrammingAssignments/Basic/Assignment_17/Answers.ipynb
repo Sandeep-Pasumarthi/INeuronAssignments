{
 "cells": [
  {
   "cell_type": "code",
   "execution_count": 1,
   "id": "591a4c50",
   "metadata": {},
   "outputs": [
    {
     "name": "stdout",
     "output_type": "stream",
     "text": [
      "Enter start range: - 1\n",
      "Enter end range: - 10\n",
      "Enter divider: - 20\n",
      "0\n",
      "Enter start range: - 1\n",
      "Enter end range: - 10\n",
      "Enter divider: - 2\n",
      "30\n",
      "Enter start range: - 1\n",
      "Enter end range: - 10\n",
      "Enter divider: - 3\n",
      "18\n"
     ]
    }
   ],
   "source": [
    "# Question 1\n",
    "\n",
    "def evenlyDivisible():\n",
    "    try:\n",
    "        start = int(input(\"Enter start range: - \"))\n",
    "        end = int(input(\"Enter end range: - \"))\n",
    "        div = int(input(\"Enter divider: - \"))\n",
    "        \n",
    "        result = 0\n",
    "        for i in range(start, end+1):\n",
    "            if i % div == 0:\n",
    "                result += i\n",
    "                \n",
    "        return result\n",
    "    except Exception as e:\n",
    "        return e\n",
    "    \n",
    "print(evenlyDivisible())\n",
    "print(evenlyDivisible())\n",
    "print(evenlyDivisible())"
   ]
  },
  {
   "cell_type": "code",
   "execution_count": 2,
   "id": "31efb80b",
   "metadata": {},
   "outputs": [
    {
     "name": "stdout",
     "output_type": "stream",
     "text": [
      "Enter expression: - 3 < 7 < 11\n",
      "True\n",
      "Enter expression: - 13 > 44 > 33 > 1\n",
      "False\n",
      "Enter expression: - 1 < 2 < 6 < 9 > 3\n",
      "True\n"
     ]
    }
   ],
   "source": [
    "# Question 2\n",
    "\n",
    "def evaluateExpression():\n",
    "    try:\n",
    "        expression = input(\"Enter expression: - \").split(' ')\n",
    "        \n",
    "        flag = True\n",
    "        for i in range(0, len(expression)-1, 2):\n",
    "            if expression[i+1] == '<':\n",
    "                if int(expression[i]) < int(expression[i+2]):\n",
    "                    pass\n",
    "                else:\n",
    "                    flag = False\n",
    "                    return flag\n",
    "            elif expression[i+1] == '>':\n",
    "                if int(expression[i]) > int(expression[i+2]):\n",
    "                    pass\n",
    "                else:\n",
    "                    flag = False\n",
    "                    return flag\n",
    "        return flag\n",
    "    except Exception as e:\n",
    "        return e\n",
    "    \n",
    "print(evaluateExpression())\n",
    "print(evaluateExpression())\n",
    "print(evaluateExpression())"
   ]
  },
  {
   "cell_type": "code",
   "execution_count": 3,
   "id": "8cfdf5c3",
   "metadata": {},
   "outputs": [
    {
     "name": "stdout",
     "output_type": "stream",
     "text": [
      "Enter a string: - the aardvark\n",
      "Enter a replacer: - #\n",
      "th# ##rdv#rk\n",
      "Enter a string: - minnie mouse\n",
      "Enter a replacer: - ?\n",
      "m?nn?? m??s?\n",
      "Enter a string: - shakespeare\n",
      "Enter a replacer: - *\n",
      "sh*k*sp**r*\n"
     ]
    }
   ],
   "source": [
    "# Question 3\n",
    "\n",
    "def replaceVowels():\n",
    "    try:\n",
    "        string = input(\"Enter a string: - \")\n",
    "        replacer = input(\"Enter a replacer: - \")\n",
    "        \n",
    "        vowels = ['a', 'e', 'i', 'o', 'u']\n",
    "        result = ''\n",
    "        for i in range(len(string)):\n",
    "            if string[i] in vowels:\n",
    "                result += replacer\n",
    "            else:\n",
    "                result += string[i]\n",
    "                \n",
    "        return result\n",
    "    except Exception as e:\n",
    "        return e\n",
    "    \n",
    "print(replaceVowels())\n",
    "print(replaceVowels())\n",
    "print(replaceVowels())"
   ]
  },
  {
   "cell_type": "code",
   "execution_count": 4,
   "id": "05b1b961",
   "metadata": {},
   "outputs": [
    {
     "name": "stdout",
     "output_type": "stream",
     "text": [
      "120\n",
      "6\n",
      "1\n",
      "1\n"
     ]
    }
   ],
   "source": [
    "# Question 4\n",
    "\n",
    "def recurFact(n):\n",
    "    try:\n",
    "        if type(n) != int:\n",
    "            raise Exception(\"Enter correct data type\")\n",
    "        if n < 0:\n",
    "            raise Exception(\"Negative numbers can't have factorial\")\n",
    "            \n",
    "        if n == 0 or n == 1:\n",
    "            return 1\n",
    "        else:\n",
    "            return n * recurFact(n-1)\n",
    "    except Exception as e:\n",
    "        return e\n",
    "\n",
    "print(recurFact(5))\n",
    "print(recurFact(3))\n",
    "print(recurFact(1))\n",
    "print(recurFact(0))"
   ]
  },
  {
   "cell_type": "code",
   "execution_count": 5,
   "id": "f4a92bf3",
   "metadata": {},
   "outputs": [
    {
     "name": "stdout",
     "output_type": "stream",
     "text": [
      "Enter string1: - abcde\n",
      "Enter string2: - bcdef\n",
      "5\n",
      "Enter string1: - abcde\n",
      "Enter string2: - abcde\n",
      "0\n",
      "Enter string1: - strong\n",
      "Enter string2: - strung\n",
      "1\n"
     ]
    }
   ],
   "source": [
    "# Question 5\n",
    "\n",
    "def hammingDistance():\n",
    "    try:\n",
    "        string1 = input(\"Enter string1: - \")\n",
    "        string2 = input(\"Enter string2: - \")\n",
    "        \n",
    "        if len(string1) == len(string2):\n",
    "            result = 0\n",
    "            for i in range(len(string1)):\n",
    "                if string1[i] != string2[i]:\n",
    "                    result += 1\n",
    "            return result\n",
    "        elif len(string1) < len(string2):\n",
    "            result = len(string2) - len(string1)\n",
    "            for i in range(len(string1)):\n",
    "                if string1[i] != string2[i]:\n",
    "                    result += 1\n",
    "            return result\n",
    "        elif len(string2) < len(string1):\n",
    "            result = len(string1) - len(string2)\n",
    "            for i in range(len(string2)):\n",
    "                if string1[i] != string2[i]:\n",
    "                    result += 1\n",
    "            return result\n",
    "    except Exception as e:\n",
    "        return e\n",
    "    \n",
    "print(hammingDistance())\n",
    "print(hammingDistance())\n",
    "print(hammingDistance())"
   ]
  }
 ],
 "metadata": {
  "kernelspec": {
   "display_name": "Python 3",
   "language": "python",
   "name": "python3"
  },
  "language_info": {
   "codemirror_mode": {
    "name": "ipython",
    "version": 3
   },
   "file_extension": ".py",
   "mimetype": "text/x-python",
   "name": "python",
   "nbconvert_exporter": "python",
   "pygments_lexer": "ipython3",
   "version": "3.8.10"
  }
 },
 "nbformat": 4,
 "nbformat_minor": 5
}
