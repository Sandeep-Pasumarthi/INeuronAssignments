{
 "cells": [
  {
   "cell_type": "code",
   "execution_count": 1,
   "id": "66ab4307",
   "metadata": {},
   "outputs": [
    {
     "name": "stdout",
     "output_type": "stream",
     "text": [
      "[1, 2]\n",
      "[1, 0, 15]\n",
      "[1, 2, 123]\n"
     ]
    }
   ],
   "source": [
    "# Question 1\n",
    "\n",
    "def filterList(li):\n",
    "    try:\n",
    "        if type(li) != list:\n",
    "            raise Exception(\"Input must be a list!!!\")\n",
    "        \n",
    "        flag = 0\n",
    "        while flag < len(li):\n",
    "            if type(li[flag]) != int:\n",
    "                li.remove(li[flag])\n",
    "            else:\n",
    "                flag += 1\n",
    "                \n",
    "        return li\n",
    "    except Exception as e:\n",
    "        return e\n",
    "    \n",
    "print(filterList([1, 2, \"a\", \"b\"]))\n",
    "print(filterList([1, \"a\", \"b\", 0, 15]))\n",
    "print(filterList([1, 2, \"aasf\", \"1\", \"123\", 123]))"
   ]
  },
  {
   "cell_type": "code",
   "execution_count": 2,
   "id": "d8e50674",
   "metadata": {},
   "outputs": [
    {
     "name": "stdout",
     "output_type": "stream",
     "text": [
      "DLROw OLLEh\n",
      "eSrEvEr\n",
      "RADAr\n"
     ]
    }
   ],
   "source": [
    "# Question 2\n",
    "\n",
    "def stringReverser(string):\n",
    "    try:\n",
    "        if type(string) != str:\n",
    "            raise Exception(\"Input must be string!!!\")\n",
    "        \n",
    "        result = ''\n",
    "        flag = len(string) - 1\n",
    "        \n",
    "        while flag >= 0:\n",
    "            if string[flag].islower():\n",
    "                result += string[flag].upper()\n",
    "                flag -= 1\n",
    "            elif string[flag].isupper():\n",
    "                result += string[flag].lower()\n",
    "                flag -= 1\n",
    "            else:\n",
    "                result += string[flag]\n",
    "                flag -= 1\n",
    "        return result\n",
    "    except Exception as e:\n",
    "        return e\n",
    "    \n",
    "print(stringReverser('Hello World'))\n",
    "print(stringReverser('ReVeRsE'))\n",
    "print(stringReverser('Radar'))"
   ]
  },
  {
   "cell_type": "code",
   "execution_count": 3,
   "id": "f6958645",
   "metadata": {},
   "outputs": [
    {
     "name": "stdout",
     "output_type": "stream",
     "text": [
      "First variable is  1\n",
      "Middile variable is  [2, 3, 4, 5]\n",
      "Last variable is  6\n"
     ]
    }
   ],
   "source": [
    "# Question 3\n",
    "\n",
    "def createVariables(li):\n",
    "    try:\n",
    "        if type(li) != list:\n",
    "            raise Exception(\"Input must be a list\")\n",
    "            \n",
    "        if len(li) == 0:\n",
    "            first = []\n",
    "            middle = []\n",
    "            last = []\n",
    "            \n",
    "            print(\"First variable is \", first)\n",
    "            print(\"Middile variable is \", middle)\n",
    "            print(\"Last variable is \", last)\n",
    "        elif len(li) == 1:\n",
    "            first = middile = last = li\n",
    "            \n",
    "            print(\"First variable is \", first)\n",
    "            print(\"Middile variable is \", middle)\n",
    "            print(\"Last variable is \", last)\n",
    "        elif len(li) == 2:\n",
    "            first = li[0]\n",
    "            middile = []\n",
    "            last = li[1]\n",
    "            \n",
    "            print(\"First variable is \", first)\n",
    "            print(\"Middile variable is \", middle)\n",
    "            print(\"Last variable is \", last)\n",
    "        else:\n",
    "            first = li[0]\n",
    "            middle = li[1:-1]\n",
    "            last = li[-1]\n",
    "            \n",
    "            print(\"First variable is \", first)\n",
    "            print(\"Middile variable is \", middle)\n",
    "            print(\"Last variable is \", last)\n",
    "    except Exception as e:\n",
    "        print(e)\n",
    "        \n",
    "createVariables([1, 2, 3, 4, 5, 6])"
   ]
  },
  {
   "cell_type": "code",
   "execution_count": 4,
   "id": "c17141e7",
   "metadata": {},
   "outputs": [
    {
     "name": "stdout",
     "output_type": "stream",
     "text": [
      "120\n",
      "6\n",
      "1\n",
      "1\n"
     ]
    }
   ],
   "source": [
    "# Question 4\n",
    "\n",
    "def recurFact(n):\n",
    "    try:\n",
    "        if type(n) != int:\n",
    "            raise Exception(\"Enter correct data type\")\n",
    "        if n < 0:\n",
    "            raise Exception(\"Negative numbers can't have factorial\")\n",
    "            \n",
    "        if n == 0 or n == 1:\n",
    "            return 1\n",
    "        else:\n",
    "            return n * recurFact(n-1)\n",
    "    except Exception as e:\n",
    "        return e\n",
    "\n",
    "print(recurFact(5))\n",
    "print(recurFact(3))\n",
    "print(recurFact(1))\n",
    "print(recurFact(0))"
   ]
  },
  {
   "cell_type": "code",
   "execution_count": 5,
   "id": "56882534",
   "metadata": {},
   "outputs": [
    {
     "name": "stdout",
     "output_type": "stream",
     "text": [
      "[3, 2, 4, 4, 1, 1]\n",
      "[7, 8, 1, 2, 3, 4, 9]\n",
      "['b', 'a', 'a', 'a']\n"
     ]
    }
   ],
   "source": [
    "# Question 5\n",
    "\n",
    "def moveEnd(li, mover):\n",
    "    try:\n",
    "        if type(li) != list:\n",
    "            raise Exception(\"Input must be a list!!!\")\n",
    "            \n",
    "        count = li.count(mover)\n",
    "        toMove = [mover]\n",
    "        if count == 0:\n",
    "            return li\n",
    "        else:\n",
    "            flag = 0\n",
    "            while flag < len(li):\n",
    "                if li[flag] == mover:\n",
    "                    li.remove(li[flag])\n",
    "                else:\n",
    "                    flag += 1\n",
    "            \n",
    "            return li + (toMove*count)\n",
    "    except Exception as e:\n",
    "        return e\n",
    "\n",
    "print(moveEnd([1, 3, 2, 4, 4, 1], 1))\n",
    "print(moveEnd([7, 8, 9, 1, 2, 3, 4], 9))\n",
    "print(moveEnd([\"a\", \"a\", \"a\", \"b\"], \"a\"))"
   ]
  }
 ],
 "metadata": {
  "kernelspec": {
   "display_name": "Python 3",
   "language": "python",
   "name": "python3"
  },
  "language_info": {
   "codemirror_mode": {
    "name": "ipython",
    "version": 3
   },
   "file_extension": ".py",
   "mimetype": "text/x-python",
   "name": "python",
   "nbconvert_exporter": "python",
   "pygments_lexer": "ipython3",
   "version": "3.8.10"
  }
 },
 "nbformat": 4,
 "nbformat_minor": 5
}
