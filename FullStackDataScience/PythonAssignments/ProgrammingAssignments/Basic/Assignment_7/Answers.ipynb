{
 "cells": [
  {
   "cell_type": "code",
   "execution_count": 1,
   "id": "43a46175",
   "metadata": {},
   "outputs": [
    {
     "name": "stdout",
     "output_type": "stream",
     "text": [
      "27.3\n"
     ]
    }
   ],
   "source": [
    "# Question 1\n",
    "\n",
    "def sumOfArray(li):\n",
    "    return sum(li)\n",
    "\n",
    "print(sumOfArray([0.1, 1, 1.2, 25]))"
   ]
  },
  {
   "cell_type": "code",
   "execution_count": 2,
   "id": "5ec0db20",
   "metadata": {},
   "outputs": [
    {
     "name": "stdout",
     "output_type": "stream",
     "text": [
      "1547859\n"
     ]
    }
   ],
   "source": [
    "# Question 2\n",
    "\n",
    "def maxOfArray(li):\n",
    "    return max(li)\n",
    "\n",
    "print(maxOfArray([12, 152, 0.2, 0.001, 1000, 1547859, 12]))"
   ]
  },
  {
   "cell_type": "code",
   "execution_count": 3,
   "id": "19d82a63",
   "metadata": {},
   "outputs": [
    {
     "name": "stdout",
     "output_type": "stream",
     "text": [
      "[25, 1.2, 1, 0.1]\n"
     ]
    }
   ],
   "source": [
    "# Question 3\n",
    "\n",
    "def reverseArray(li):\n",
    "    return li[-1::-1]\n",
    "\n",
    "print(reverseArray([0.1, 1, 1.2, 25]))"
   ]
  },
  {
   "cell_type": "code",
   "execution_count": 4,
   "id": "d8350588",
   "metadata": {},
   "outputs": [
    {
     "name": "stdout",
     "output_type": "stream",
     "text": [
      "[1547859, 11, 12, 152, 0.2, 0.001, 1000]\n"
     ]
    }
   ],
   "source": [
    "# Question 4\n",
    "\n",
    "def splitArray(li, n):\n",
    "    if len(li) >= n:\n",
    "        return li[n:] + li[:n]\n",
    "    else:\n",
    "        return None\n",
    "    \n",
    "print(splitArray([12, 152, 0.2, 0.001, 1000, 1547859, 11], 5))"
   ]
  },
  {
   "cell_type": "code",
   "execution_count": 5,
   "id": "203302c5",
   "metadata": {},
   "outputs": [
    {
     "name": "stdout",
     "output_type": "stream",
     "text": [
      "Not monotonic\n"
     ]
    }
   ],
   "source": [
    "# Question 5\n",
    "\n",
    "def checkMonotonic(li):\n",
    "    x = type(li[0])\n",
    "    y = True\n",
    "    for i in li:\n",
    "        if type(i) != x:\n",
    "            print(\"Not monotonic\")\n",
    "            y = False\n",
    "            break\n",
    "    if y == True:\n",
    "        print(\"Monotonic\")\n",
    "\n",
    "checkMonotonic([12, 152, 0.2, 0.001, 1000, 1547859, 11])"
   ]
  }
 ],
 "metadata": {
  "kernelspec": {
   "display_name": "Python 3",
   "language": "python",
   "name": "python3"
  },
  "language_info": {
   "codemirror_mode": {
    "name": "ipython",
    "version": 3
   },
   "file_extension": ".py",
   "mimetype": "text/x-python",
   "name": "python",
   "nbconvert_exporter": "python",
   "pygments_lexer": "ipython3",
   "version": "3.8.10"
  }
 },
 "nbformat": 4,
 "nbformat_minor": 5
}
