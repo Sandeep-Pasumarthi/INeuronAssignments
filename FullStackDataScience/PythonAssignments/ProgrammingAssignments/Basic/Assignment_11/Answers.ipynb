{
 "cells": [
  {
   "cell_type": "code",
   "execution_count": 1,
   "id": "b58a1d5a",
   "metadata": {},
   "outputs": [
    {
     "name": "stdout",
     "output_type": "stream",
     "text": [
      "Sandeep is a very good guy. He is very to Arjuna\n"
     ]
    }
   ],
   "source": [
    "# Question 1\n",
    "\n",
    "def greaterLengthWords(st, le):\n",
    "    try:\n",
    "        if type(st) != str:\n",
    "            raise Exception(\"Not a string!!!\")\n",
    "            \n",
    "        new = st.split(' ')\n",
    "        temp = 0\n",
    "        while temp < len(new):\n",
    "            if len(new[temp]) > le:\n",
    "                new.remove(new[temp])\n",
    "            else:\n",
    "                temp += 1\n",
    "                \n",
    "        return ' '.join(new)\n",
    "    except Exception as e:\n",
    "        print(e)\n",
    "        \n",
    "z = 'Sandeep Pasumarthi is a very good guy. He is very attracted to Arjuna'\n",
    "print(greaterLengthWords(z, 8))"
   ]
  },
  {
   "cell_type": "code",
   "execution_count": 2,
   "id": "b4bccd9c",
   "metadata": {},
   "outputs": [
    {
     "name": "stdout",
     "output_type": "stream",
     "text": [
      "Sandep Pasumarthi is a very good guy. He is very attracted to Arjuna\n"
     ]
    }
   ],
   "source": [
    "# Question 2\n",
    "\n",
    "def removeIString(st, i):\n",
    "    try:\n",
    "        if type(st) != str:\n",
    "            raise Exception(\"Not a string!!!\")\n",
    "            \n",
    "        return st[:i] + st[i+1:]\n",
    "    except Exception as e:\n",
    "        print(e)\n",
    "        \n",
    "z = 'Sandeep Pasumarthi is a very good guy. He is very attracted to Arjuna'\n",
    "print(removeIString(z, 5))"
   ]
  },
  {
   "cell_type": "code",
   "execution_count": 3,
   "id": "b648deee",
   "metadata": {},
   "outputs": [
    {
     "name": "stdout",
     "output_type": "stream",
     "text": [
      "['Sandeep', 'Pasumarthi', 'is', 'a', 'very', 'good', 'guy.', 'He', 'is', 'very', 'attracted', 'to', 'Arjuna']\n",
      "Sandeep.Pasumarthi.is.a.very.good.guy..He.is.very.attracted.to.Arjuna\n"
     ]
    }
   ],
   "source": [
    "# Question 3\n",
    "\n",
    "def splitString(st, sep):\n",
    "    try:\n",
    "        if type(st) != str:\n",
    "            raise Exception(\"Not a string!!!\")\n",
    "            \n",
    "        return st.split(sep)\n",
    "    except Exception as e:\n",
    "        print(e)\n",
    "        \n",
    "def joinString(st, joint):\n",
    "    try:\n",
    "        if type(st) != str:\n",
    "            raise Exception(\"Not a string!!!\")\n",
    "            \n",
    "        return joint.join(st.split(' '))\n",
    "    except Exception as e:\n",
    "        print(e)\n",
    "        \n",
    "z = 'Sandeep Pasumarthi is a very good guy. He is very attracted to Arjuna'\n",
    "print(splitString(z, ' '))\n",
    "print(joinString(z, '.'))"
   ]
  },
  {
   "cell_type": "code",
   "execution_count": 4,
   "id": "9c580c0b",
   "metadata": {},
   "outputs": [
    {
     "name": "stdout",
     "output_type": "stream",
     "text": [
      "It's Binary\n",
      "It's Not Binary\n"
     ]
    }
   ],
   "source": [
    "# Question 4\n",
    "\n",
    "def binaryString(st):\n",
    "    try:\n",
    "        if type(st) != str:\n",
    "            raise Exception(\"Not a string!!!\")\n",
    "            \n",
    "        binary = {'0', '1'}\n",
    "        for i in st:\n",
    "            if i not in binary:\n",
    "                print(\"It's Not Binary\")\n",
    "                return None\n",
    "        print(\"It's Binary\")\n",
    "    except Exception as e:\n",
    "        print(e)\n",
    "        \n",
    "z = '101010011'\n",
    "z1 = 'sandeep'\n",
    "binaryString(z)\n",
    "binaryString(z1)"
   ]
  },
  {
   "cell_type": "code",
   "execution_count": 5,
   "id": "828800a3",
   "metadata": {},
   "outputs": [
    {
     "name": "stdout",
     "output_type": "stream",
     "text": [
      "{'Want', 'science', 'big', 'Learning', 'learn', 'to'}\n"
     ]
    }
   ],
   "source": [
    "# Question 5\n",
    "\n",
    "def unCommonWords(st1, st2):\n",
    "    try:\n",
    "        if type(st1) != str or type(st2) != str:\n",
    "            raise Exception(\"One or both of the passed arguments is not a string!!!\")\n",
    "            \n",
    "        words1 = st1.split(' ')\n",
    "        words2 = st2.split(' ')\n",
    "        \n",
    "        if len(words1) == len(words2):\n",
    "            uncommon = set()\n",
    "            for i in range(len(words1)):\n",
    "                if words1[i] not in words2:\n",
    "                    uncommon.add(word1[i])\n",
    "                if words2[i] not in words1:\n",
    "                    uncommon.add(words2[i])\n",
    "                    \n",
    "            return uncommon\n",
    "        elif len(words1) < len(words2):\n",
    "            uncommon = set()\n",
    "            for i in range(len(words2)):\n",
    "                if words2[i] not in words1:\n",
    "                    uncommon.add(words2[i])\n",
    "                if i < len(words1):\n",
    "                    if words1[i] not in words2:\n",
    "                        uncommon.add(words1[i])\n",
    "            \n",
    "            return uncommon\n",
    "        else:\n",
    "            uncommon = set()\n",
    "            for i in range(len(words1)):\n",
    "                if words1[i] not in words2:\n",
    "                    uncommon.add(words1[i])\n",
    "                if i < len(words2):\n",
    "                    if words2[i] not in words1:\n",
    "                        uncommon.add(words2[i])\n",
    "                        \n",
    "            return uncommon\n",
    "    except Exception as e:\n",
    "        print(e)\n",
    "        \n",
    "st1 = 'Learning data science from INeuron'\n",
    "st2 = 'Want to learn big data from INeuron'\n",
    "print(unCommonWords(st1, st2))"
   ]
  },
  {
   "cell_type": "code",
   "execution_count": 6,
   "id": "b8c77d27",
   "metadata": {},
   "outputs": [
    {
     "data": {
      "text/plain": [
       "{' ', 'a', 'c', 'e', 'i', 'n', 'o', 'r'}"
      ]
     },
     "execution_count": 6,
     "metadata": {},
     "output_type": "execute_result"
    }
   ],
   "source": [
    "# Question 6\n",
    "\n",
    "def duplicateChar(st):\n",
    "    try:\n",
    "        if type(st) != str:\n",
    "            raise Exception(\"Not a string!!!\")\n",
    "        \n",
    "        duplicate = set()\n",
    "        for i in set(st):\n",
    "            if st.count(i) > 1:\n",
    "                duplicate.add(i)\n",
    "        \n",
    "        return duplicate\n",
    "    except Exception as e:\n",
    "        print(e)\n",
    "        \n",
    "st1 = 'Learning data science from INeuron'\n",
    "duplicateChar(st1)"
   ]
  },
  {
   "cell_type": "code",
   "execution_count": 7,
   "id": "2e7ae034",
   "metadata": {},
   "outputs": [
    {
     "name": "stdout",
     "output_type": "stream",
     "text": [
      "Contains Special Characters\n"
     ]
    }
   ],
   "source": [
    "# Question 7\n",
    "\n",
    "def checkSpecialChar(st):\n",
    "    try:\n",
    "        if type(st) != str:\n",
    "            raise Exception(\"Not a string!!!\")\n",
    "            \n",
    "        special = '[]{}()!@#$%&^*-_;:\"/\\|`~?\\''\n",
    "        for i in set(st):\n",
    "            if i in special:\n",
    "                return \"Contains Special Characters\"\n",
    "        \n",
    "        return \"Doesn't contain Special Characters\"\n",
    "    except Exception as e:\n",
    "        return e\n",
    "    \n",
    "st1 = 'The full stack data science program is good, isn\\'t it?'\n",
    "print(checkSpecialChar(st1))"
   ]
  }
 ],
 "metadata": {
  "kernelspec": {
   "display_name": "Python 3",
   "language": "python",
   "name": "python3"
  },
  "language_info": {
   "codemirror_mode": {
    "name": "ipython",
    "version": 3
   },
   "file_extension": ".py",
   "mimetype": "text/x-python",
   "name": "python",
   "nbconvert_exporter": "python",
   "pygments_lexer": "ipython3",
   "version": "3.8.10"
  }
 },
 "nbformat": 4,
 "nbformat_minor": 5
}
