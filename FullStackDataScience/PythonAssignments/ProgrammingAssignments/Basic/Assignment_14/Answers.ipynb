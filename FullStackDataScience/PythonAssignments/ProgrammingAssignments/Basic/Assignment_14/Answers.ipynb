{
 "cells": [
  {
   "cell_type": "code",
   "execution_count": 1,
   "id": "f0f0f87a",
   "metadata": {},
   "outputs": [
    {
     "data": {
      "text/plain": [
       "'0,35,70'"
      ]
     },
     "execution_count": 1,
     "metadata": {},
     "output_type": "execute_result"
    }
   ],
   "source": [
    "# Question 1\n",
    "\n",
    "class divisible5And7Generator:\n",
    "    \n",
    "    def __init__(self, n):\n",
    "        try:\n",
    "            if n < 0:\n",
    "                raise Exception(\"Must enter positive integer\")\n",
    "            self.n = n\n",
    "        except Exception as e:\n",
    "            print(e)\n",
    "            \n",
    "    def div5And7(self):\n",
    "        try:\n",
    "            for i in range(self.n+1):\n",
    "                if i % 5 == 0 and i % 7 == 0:\n",
    "                    yield i\n",
    "        except Exception as e:\n",
    "            return e\n",
    "\n",
    "    def outputGenerator(self):\n",
    "        try:\n",
    "            gen = self.div5And7()\n",
    "            result = []\n",
    "        \n",
    "            while True:\n",
    "                try:\n",
    "                    result.append(str(next(gen)))\n",
    "                except StopIteration:\n",
    "                    break\n",
    "        \n",
    "            return ','.join(result)\n",
    "        except Exception as e:\n",
    "            return e\n",
    "        \n",
    "obj = divisible5And7Generator(100)\n",
    "obj.outputGenerator()"
   ]
  },
  {
   "cell_type": "code",
   "execution_count": 2,
   "id": "141fb3f5",
   "metadata": {},
   "outputs": [
    {
     "name": "stdout",
     "output_type": "stream",
     "text": [
      "Enter a string: - New to Python or choosing between Python 2 and Python 3? Read Python 2 or Python 3.\n",
      "2:2\n",
      "3.:1\n",
      "3?:1\n",
      "New:1\n",
      "Python:5\n",
      "Read:1\n",
      "and:1\n",
      "between:1\n",
      "choosing:1\n",
      "or:2\n",
      "to:1\n"
     ]
    }
   ],
   "source": [
    "# Question 2\n",
    "\n",
    "def computeFrequency():\n",
    "    try:\n",
    "        st = input(\"Enter a string: - \").split(' ')\n",
    "        unique = set(st)\n",
    "        \n",
    "        for i in sorted(unique):\n",
    "            print(f\"{i}:{st.count(i)}\")\n",
    "    except Exception as e:\n",
    "        print(e)\n",
    "        \n",
    "computeFrequency()"
   ]
  },
  {
   "cell_type": "code",
   "execution_count": 3,
   "id": "4f70aa4a",
   "metadata": {},
   "outputs": [
    {
     "name": "stdout",
     "output_type": "stream",
     "text": [
      "Male\n",
      "FeMale\n"
     ]
    }
   ],
   "source": [
    "# Question 3\n",
    "\n",
    "class Person:\n",
    "    \n",
    "    def getGender(self):\n",
    "        pass\n",
    "    \n",
    "class Male(Person):\n",
    "    \n",
    "    def getGender(self):\n",
    "        print(\"Male\")\n",
    "        \n",
    "class FeMale(Person):\n",
    "    \n",
    "    def getGender(self):\n",
    "        print(\"FeMale\")\n",
    "        \n",
    "male = Male()\n",
    "female = FeMale()\n",
    "\n",
    "male.getGender()\n",
    "female.getGender()"
   ]
  },
  {
   "cell_type": "code",
   "execution_count": 4,
   "id": "d62d91a3",
   "metadata": {},
   "outputs": [
    {
     "name": "stdout",
     "output_type": "stream",
     "text": [
      "Enter subjects seperated by ',': - I,You\n",
      "Enter verbs seperated by ',': - Play,Love\n",
      "Enter objects seperated by ',': - Hockey,FootBall\n",
      "I Play Hockey\n",
      "I Play FootBall\n",
      "I Love Hockey\n",
      "I Love FootBall\n",
      "You Play Hockey\n",
      "You Play FootBall\n",
      "You Love Hockey\n",
      "You Love FootBall\n"
     ]
    }
   ],
   "source": [
    "# Question 4\n",
    "\n",
    "def generateSentences():\n",
    "    try:\n",
    "        subs = input(\"Enter subjects seperated by ',': - \").split(',')\n",
    "        verbs = input(\"Enter verbs seperated by ',': - \").split(',')\n",
    "        objs = input(\"Enter objects seperated by ',': - \").split(',')\n",
    "        \n",
    "        for i in subs:\n",
    "            for j in verbs:\n",
    "                for k in objs:\n",
    "                    print(f\"{i} {j} {k}\")\n",
    "                    \n",
    "    except Exception as e:\n",
    "        print(e)\n",
    "        \n",
    "generateSentences()"
   ]
  },
  {
   "cell_type": "code",
   "execution_count": 5,
   "id": "0c9f8107",
   "metadata": {},
   "outputs": [
    {
     "name": "stdout",
     "output_type": "stream",
     "text": [
      "b'\\x1f\\x8b\\x08\\x00\\xb8P\\xbf`\\x02\\xff\\xcbH\\xcd\\xc9\\xc9W(\\xcf/\\xcaIQ\\xcc\\x00\\xb1\\x91\\x98\\n\\x98l\\x00\\x13d;H/\\x00\\x00\\x00'\n",
      "b'hello world!helloworld!hello world!hello world!'\n"
     ]
    }
   ],
   "source": [
    "# Question 5\n",
    "\n",
    "import gzip\n",
    "string = b\"hello world!helloworld!hello world!hello world!\"\n",
    "string = gzip.compress(string)\n",
    "print(string)\n",
    "string = gzip.decompress(string)\n",
    "print(string)"
   ]
  },
  {
   "cell_type": "code",
   "execution_count": 6,
   "id": "1e7f2736",
   "metadata": {},
   "outputs": [
    {
     "name": "stdout",
     "output_type": "stream",
     "text": [
      "Enter list in sorted form seperated by ',': - 10,50,501,1000,17000,17896\n",
      "Enter element to find: - 501\n",
      "2\n"
     ]
    }
   ],
   "source": [
    "# Question 6\n",
    "\n",
    "def binarySearch():\n",
    "    try:\n",
    "        inList = list(map(int, input(\"Enter list in sorted form seperated by ',': - \").split(',')))\n",
    "        find = int(input(\"Enter element to find: - \"))\n",
    "        \n",
    "        start = 0\n",
    "        mid = 0\n",
    "        end = len(inList) - 1\n",
    "        \n",
    "        while start <= end:\n",
    "            mid = (start + end) // 2\n",
    "            \n",
    "            if inList[mid] < find:\n",
    "                start = mid + 1\n",
    "            elif inList[mid] > find:\n",
    "                end = mid - 1\n",
    "            else:\n",
    "                return mid\n",
    "            \n",
    "        return \"Not found\"\n",
    "    except Exception as e:\n",
    "        return e\n",
    "    \n",
    "print(binarySearch())"
   ]
  }
 ],
 "metadata": {
  "kernelspec": {
   "display_name": "Python 3",
   "language": "python",
   "name": "python3"
  },
  "language_info": {
   "codemirror_mode": {
    "name": "ipython",
    "version": 3
   },
   "file_extension": ".py",
   "mimetype": "text/x-python",
   "name": "python",
   "nbconvert_exporter": "python",
   "pygments_lexer": "ipython3",
   "version": "3.8.10"
  }
 },
 "nbformat": 4,
 "nbformat_minor": 5
}
