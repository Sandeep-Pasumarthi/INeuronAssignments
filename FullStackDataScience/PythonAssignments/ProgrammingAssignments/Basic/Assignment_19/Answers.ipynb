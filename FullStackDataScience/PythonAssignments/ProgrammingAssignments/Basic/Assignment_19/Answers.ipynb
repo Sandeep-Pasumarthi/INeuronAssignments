{
 "cells": [
  {
   "cell_type": "code",
   "execution_count": 1,
   "id": "6f1fc3e8",
   "metadata": {},
   "outputs": [
    {
     "name": "stdout",
     "output_type": "stream",
     "text": [
      "SSttrriinngg\n",
      "HHeelllloo  WWoorrlldd!!\n",
      "11223344!!__  \n"
     ]
    }
   ],
   "source": [
    "# Question 1\n",
    "\n",
    "def doubleChar(string):\n",
    "    try:\n",
    "        if type(string) != str:\n",
    "            raise Exception(\"Input must be a string!!!\")\n",
    "            \n",
    "        result = ''\n",
    "        for i in string:\n",
    "            result += (i*2)\n",
    "        \n",
    "        return result\n",
    "    except Exception as e:\n",
    "        return e\n",
    "    \n",
    "print(doubleChar('String'))\n",
    "print(doubleChar('Hello World!'))\n",
    "print(doubleChar('1234!_ '))"
   ]
  },
  {
   "cell_type": "code",
   "execution_count": 2,
   "id": "2b71cacf",
   "metadata": {},
   "outputs": [
    {
     "name": "stdout",
     "output_type": "stream",
     "text": [
      "False\n",
      "True\n",
      "Boolean Excepted!!!\n",
      "Boolean Excepted!!!\n"
     ]
    }
   ],
   "source": [
    "# Question 2\n",
    "\n",
    "def reverseBool(boolean):\n",
    "    if type(boolean) != bool:\n",
    "        return \"Boolean Excepted!!!\"\n",
    "    \n",
    "    if boolean == True:\n",
    "        return False\n",
    "    elif boolean == False:\n",
    "        return True\n",
    "        \n",
    "print(reverseBool(True))\n",
    "print(reverseBool(False))\n",
    "print(reverseBool(0))\n",
    "print(reverseBool(None))"
   ]
  },
  {
   "cell_type": "code",
   "execution_count": 3,
   "id": "6d6a409a",
   "metadata": {},
   "outputs": [
    {
     "name": "stdout",
     "output_type": "stream",
     "text": [
      "0.001m\n",
      "0.008m\n",
      "1048.576m\n"
     ]
    }
   ],
   "source": [
    "# Question 3\n",
    "\n",
    "def findThickness(num):\n",
    "    try:\n",
    "        if type(num) != int:\n",
    "            raise Exception(\"Input must be integer!!!\")\n",
    "        elif num < 0:\n",
    "            raise Exception(\"Input must be non negative\")\n",
    "            \n",
    "        result = 0.5\n",
    "        for i in range(num):\n",
    "            result = 2 * result\n",
    "            \n",
    "        return str(result / 1000) + 'm'\n",
    "    except Exception as e:\n",
    "        return e\n",
    "    \n",
    "print(findThickness(1))\n",
    "print(findThickness(4))\n",
    "print(findThickness(21))"
   ]
  },
  {
   "cell_type": "code",
   "execution_count": 4,
   "id": "39374389",
   "metadata": {},
   "outputs": [
    {
     "name": "stdout",
     "output_type": "stream",
     "text": [
      "[1, 3, 5]\n",
      "[1, 3, 4, 6]\n",
      "[]\n",
      "[0, 1, 2, 3, 4, 5]\n",
      "[1]\n"
     ]
    }
   ],
   "source": [
    "# Question 4\n",
    "\n",
    "def capIndexes(string):\n",
    "    try:\n",
    "        if type(string) != str:\n",
    "            raise Exception(\"Input must be a string!!!\")\n",
    "            \n",
    "        result = []\n",
    "        for i in range(len(string)):\n",
    "            if string[i].isupper():\n",
    "                result.append(i)\n",
    "                \n",
    "        return result\n",
    "    except Exception as e:\n",
    "        return e\n",
    "    \n",
    "print(capIndexes(\"eDaBiT\"))\n",
    "print(capIndexes(\"eQuINoX\"))\n",
    "print(capIndexes(\"determine\"))\n",
    "print(capIndexes(\"STRIKE\"))\n",
    "print(capIndexes(\"sUn\"))"
   ]
  },
  {
   "cell_type": "code",
   "execution_count": 5,
   "id": "d6c0521c",
   "metadata": {},
   "outputs": [
    {
     "name": "stdout",
     "output_type": "stream",
     "text": [
      "[2, 4, 6, 8]\n",
      "[2, 4]\n",
      "[2]\n"
     ]
    }
   ],
   "source": [
    "# Question 5\n",
    "\n",
    "def evenListComprehension(num):\n",
    "    try:\n",
    "        if type(num) != int:\n",
    "            raise Exception(\"Input must be integer!!!\")\n",
    "        elif num < 1:\n",
    "            raise Exception(\"Input must be greater than or equal to 1\")\n",
    "            \n",
    "        return [i for i in range(1, num+1) if i % 2 == 0]\n",
    "    except Exception as e:\n",
    "        return e\n",
    "    \n",
    "print(evenListComprehension(8))\n",
    "print(evenListComprehension(4))\n",
    "print(evenListComprehension(2))"
   ]
  }
 ],
 "metadata": {
  "kernelspec": {
   "display_name": "Python 3",
   "language": "python",
   "name": "python3"
  },
  "language_info": {
   "codemirror_mode": {
    "name": "ipython",
    "version": 3
   },
   "file_extension": ".py",
   "mimetype": "text/x-python",
   "name": "python",
   "nbconvert_exporter": "python",
   "pygments_lexer": "ipython3",
   "version": "3.8.10"
  }
 },
 "nbformat": 4,
 "nbformat_minor": 5
}
