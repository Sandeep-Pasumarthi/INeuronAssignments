{
 "cells": [
  {
   "cell_type": "code",
   "execution_count": 1,
   "id": "71e7919a",
   "metadata": {},
   "outputs": [
    {
     "name": "stdout",
     "output_type": "stream",
     "text": [
      "Enter a number: - 8\n",
      "YES\n"
     ]
    }
   ],
   "source": [
    "# Question 1\n",
    "\n",
    "def disariumNumber():\n",
    "    try:\n",
    "        a = int(input(\"Enter a number: - \"))\n",
    "        a = str(a)\n",
    "        \n",
    "        x = 0\n",
    "        for i in range(len(a)):\n",
    "            x += (int(a[i])**(i+1))\n",
    "            \n",
    "        if int(a) == x:\n",
    "            return 'YES'\n",
    "        else:\n",
    "            return 'NO'\n",
    "    except Exception as e:\n",
    "        print(e)\n",
    "        \n",
    "print(disariumNumber())"
   ]
  },
  {
   "cell_type": "code",
   "execution_count": 2,
   "id": "a26dd208",
   "metadata": {},
   "outputs": [
    {
     "name": "stdout",
     "output_type": "stream",
     "text": [
      "Enter start range: - 1\n",
      "Enter end range: - 100\n",
      "1 is Disarium Number\n",
      "2 is Disarium Number\n",
      "3 is Disarium Number\n",
      "4 is Disarium Number\n",
      "5 is Disarium Number\n",
      "6 is Disarium Number\n",
      "7 is Disarium Number\n",
      "8 is Disarium Number\n",
      "9 is Disarium Number\n",
      "89 is Disarium Number\n"
     ]
    }
   ],
   "source": [
    "# Question 2\n",
    "\n",
    "def disariumNumber(a):\n",
    "    try:\n",
    "        x = 0\n",
    "        for i in range(len(a)):\n",
    "            x += (int(a[i])**(i+1))\n",
    "            \n",
    "        if int(a) == x:\n",
    "            return 'YES'\n",
    "        else:\n",
    "            return 'NO'\n",
    "    except Exception as e:\n",
    "        print(e)\n",
    "        \n",
    "def rangeDisariumNumber():\n",
    "    try:\n",
    "        low = int(input(\"Enter start range: - \"))\n",
    "        high = int(input(\"Enter end range: - \"))\n",
    "        if low <= 0:\n",
    "            raise Exception(\"Start range can't be a zero or negative\")\n",
    "        elif low <= high:\n",
    "            flag = False\n",
    "            for i in range(low, high+1):\n",
    "                if disariumNumber(str(i)) == 'YES':\n",
    "                    print(f\"{i} is Disarium Number\")\n",
    "                    flag = True\n",
    "                else:\n",
    "                    pass\n",
    "            if flag == False:\n",
    "                print(\"No Disarium Number in given range\")\n",
    "        else:\n",
    "            raise Exception(\"Start range can't be greater than End range\")\n",
    "    except Exception as e:\n",
    "        print(e)\n",
    "        \n",
    "rangeDisariumNumber()"
   ]
  },
  {
   "cell_type": "code",
   "execution_count": 3,
   "id": "3bd74015",
   "metadata": {},
   "outputs": [
    {
     "name": "stdout",
     "output_type": "stream",
     "text": [
      "Enter a number: - 19\n",
      "19 is Happy Number\n"
     ]
    }
   ],
   "source": [
    "# Question 3\n",
    "\n",
    "def happyNumber():\n",
    "    try:\n",
    "        a = int(input(\"Enter a number: - \"))\n",
    "        a = str(a)\n",
    "        a1 = a\n",
    "        li = []\n",
    "        x = 0\n",
    "        \n",
    "        while True:\n",
    "            for i in a:\n",
    "                x += int(int(i)**2)\n",
    "            if x == 1:\n",
    "                print(f\"{a1} is Happy Number\")\n",
    "                break\n",
    "            else:\n",
    "                if x in li:\n",
    "                    print(f\"{a1} is not a Happy Number\")\n",
    "                    break\n",
    "                else:\n",
    "                    li.append(x)\n",
    "                    a = str(x)\n",
    "                    x = 0\n",
    "    except Exception as e:\n",
    "        print(e)\n",
    "        \n",
    "happyNumber()"
   ]
  },
  {
   "cell_type": "code",
   "execution_count": 4,
   "id": "5b30f0a3",
   "metadata": {},
   "outputs": [
    {
     "name": "stdout",
     "output_type": "stream",
     "text": [
      "Enter start range: - 1\n",
      "Enter end range: - 100\n",
      "1 is Happy Number\n",
      "7 is Happy Number\n",
      "10 is Happy Number\n",
      "13 is Happy Number\n",
      "19 is Happy Number\n",
      "23 is Happy Number\n",
      "28 is Happy Number\n",
      "31 is Happy Number\n",
      "32 is Happy Number\n",
      "44 is Happy Number\n",
      "49 is Happy Number\n",
      "68 is Happy Number\n",
      "70 is Happy Number\n",
      "79 is Happy Number\n",
      "82 is Happy Number\n",
      "86 is Happy Number\n",
      "91 is Happy Number\n",
      "94 is Happy Number\n",
      "97 is Happy Number\n",
      "100 is Happy Number\n"
     ]
    }
   ],
   "source": [
    "# Question 4\n",
    "\n",
    "def happyNumber(a):\n",
    "    try:\n",
    "        a1 = a\n",
    "        li = []\n",
    "        x = 0\n",
    "        \n",
    "        while True:\n",
    "            for i in a:\n",
    "                x += int(int(i)**2)\n",
    "            if x == 1:\n",
    "                return True\n",
    "            else:\n",
    "                if x in li:\n",
    "                    return False\n",
    "                else:\n",
    "                    li.append(x)\n",
    "                    a = str(x)\n",
    "                    x = 0\n",
    "    except Exception as e:\n",
    "        print(e)\n",
    "        \n",
    "def rangeHappyNumber():\n",
    "    try:\n",
    "        low = int(input(\"Enter start range: - \"))\n",
    "        high = int(input(\"Enter end range: - \"))\n",
    "        if low <= 0:\n",
    "            raise Exception(\"Start range can't be a zero or negative\")\n",
    "        elif low <= high:\n",
    "            flag = False\n",
    "            for i in range(low, high+1):\n",
    "                if happyNumber(str(i)) == True:\n",
    "                    print(f\"{i} is Happy Number\")\n",
    "                    flag = True\n",
    "                else:\n",
    "                    pass\n",
    "            if flag == False:\n",
    "                print(\"No Happy Number in given range\")\n",
    "        else:\n",
    "            raise Exception(\"Start range can't be greater than End range\")\n",
    "    except Exception as e:\n",
    "        print(e)\n",
    "        \n",
    "rangeHappyNumber()"
   ]
  },
  {
   "cell_type": "code",
   "execution_count": 5,
   "id": "a708a826",
   "metadata": {},
   "outputs": [
    {
     "name": "stdout",
     "output_type": "stream",
     "text": [
      "Enter a number: - 18\n",
      "18 is a Harshad Number\n"
     ]
    }
   ],
   "source": [
    "# Question 5\n",
    "\n",
    "def harshadNumber():\n",
    "    try:\n",
    "        a = int(input(\"Enter a number: - \"))\n",
    "        a = str(a)\n",
    "        x = 0\n",
    "        \n",
    "        for i in a:\n",
    "            x += int(i)\n",
    "            \n",
    "        if (int(a) % x) == 0:\n",
    "            print(f\"{a} is a Harshad Number\")\n",
    "        else:\n",
    "            print(f\"{a} is not a Harshad Number\")\n",
    "    except Exception as e:\n",
    "        print(e)\n",
    "        \n",
    "harshadNumber()"
   ]
  },
  {
   "cell_type": "code",
   "execution_count": 6,
   "id": "63bca0e8",
   "metadata": {},
   "outputs": [
    {
     "name": "stdout",
     "output_type": "stream",
     "text": [
      "Enter start range: - 1\n",
      "Enter end range: - 100\n",
      "2 is Pronic Number\n",
      "6 is Pronic Number\n",
      "12 is Pronic Number\n",
      "20 is Pronic Number\n",
      "30 is Pronic Number\n",
      "42 is Pronic Number\n",
      "56 is Pronic Number\n",
      "72 is Pronic Number\n",
      "90 is Pronic Number\n"
     ]
    }
   ],
   "source": [
    "# Question 6\n",
    "\n",
    "def pronicNumber(a):\n",
    "    try:\n",
    "        import math\n",
    "        for i in range(int(math.sqrt(a))+1):\n",
    "            if (i*(i+1)) == a:\n",
    "                return True\n",
    "        return False\n",
    "    except Exception as e:\n",
    "        print(e)\n",
    "\n",
    "def rangePronicNumber():\n",
    "    try:\n",
    "        low = int(input(\"Enter start range: - \"))\n",
    "        high = int(input(\"Enter end range: - \"))\n",
    "        if low <= 0:\n",
    "            raise Exception(\"Start range can't be a zero or negative\")\n",
    "        elif low <= high:\n",
    "            flag = False\n",
    "            for i in range(low, high+1):\n",
    "                if pronicNumber(i) == True:\n",
    "                    print(f\"{i} is Pronic Number\")\n",
    "                    flag = True\n",
    "                else:\n",
    "                    pass\n",
    "            if flag == False:\n",
    "                print(\"No Pronic Number in given range\")\n",
    "        else:\n",
    "            raise Exception(\"Start range can't be greater than End range\")\n",
    "    except Exception as e:\n",
    "        print(e)\n",
    "        \n",
    "rangePronicNumber()"
   ]
  }
 ],
 "metadata": {
  "kernelspec": {
   "display_name": "Python 3",
   "language": "python",
   "name": "python3"
  },
  "language_info": {
   "codemirror_mode": {
    "name": "ipython",
    "version": 3
   },
   "file_extension": ".py",
   "mimetype": "text/x-python",
   "name": "python",
   "nbconvert_exporter": "python",
   "pygments_lexer": "ipython3",
   "version": "3.8.10"
  }
 },
 "nbformat": 4,
 "nbformat_minor": 5
}
