{
 "cells": [
  {
   "cell_type": "code",
   "execution_count": 1,
   "id": "f2bed0cd",
   "metadata": {},
   "outputs": [
    {
     "name": "stdout",
     "output_type": "stream",
     "text": [
      "[6, 7, 8, 9, 1]\n",
      "[6, 3, 23, 17, 10]\n",
      "[10, 20, 42, 6]\n",
      "No list has been selected\n"
     ]
    }
   ],
   "source": [
    "# Question 1\n",
    "\n",
    "def nextInLine(li, num):\n",
    "    try:\n",
    "        if type(li) != list:\n",
    "            raise Exception(\"Input must be a list!!!\")\n",
    "        elif type(num) != int:\n",
    "            raise Exception(\"Input must be a integer!!!\")\n",
    "        elif len(li) == 0:\n",
    "            return 'No list has been selected'\n",
    "        \n",
    "        li.append(num)\n",
    "        li.remove(li[0])\n",
    "        \n",
    "        return li\n",
    "    except Exception as e:\n",
    "        return e\n",
    "    \n",
    "print(nextInLine([5, 6, 7, 8, 9], 1))\n",
    "print(nextInLine([7, 6, 3, 23, 17], 10))\n",
    "print(nextInLine([1, 10, 20, 42 ], 6))\n",
    "print(nextInLine([], 6))"
   ]
  },
  {
   "cell_type": "code",
   "execution_count": 2,
   "id": "85dd3a3e",
   "metadata": {},
   "outputs": [
    {
     "name": "stdout",
     "output_type": "stream",
     "text": [
      "65700\n",
      "62600\n"
     ]
    }
   ],
   "source": [
    "# Question 2\n",
    "\n",
    "def getBudget(liDict):\n",
    "    try:\n",
    "        if type(liDict) != list:\n",
    "            raise Exception(\"Input must be a list!!!\")\n",
    "        \n",
    "        total = 0\n",
    "        for i in liDict:\n",
    "            try:\n",
    "                if type(i) != dict:\n",
    "                    raise Exception(\"List doen't contain dictionary\")\n",
    "                total += i['budget']\n",
    "            except Exception as e:\n",
    "                return e\n",
    "        \n",
    "        return total\n",
    "    except Exception as e:\n",
    "        return e\n",
    "    \n",
    "print(getBudget([\n",
    " { \"name\": \"John\", \"age\": 21, \"budget\": 23000 },\n",
    " { \"name\": \"Steve\", \"age\": 32, \"budget\": 40000 },\n",
    " { \"name\": \"Martin\", \"age\": 16, \"budget\": 2700 }\n",
    "]))\n",
    "print(getBudget([\n",
    " { \"name\": \"John\", \"age\": 21, \"budget\": 29000 },\n",
    " { \"name\": \"Steve\", \"age\": 32, \"budget\": 32000 },\n",
    " { \"name\": \"Martin\", \"age\": 16, \"budget\": 1600 }\n",
    "]))"
   ]
  },
  {
   "cell_type": "code",
   "execution_count": 3,
   "id": "a756025d",
   "metadata": {},
   "outputs": [
    {
     "name": "stdout",
     "output_type": "stream",
     "text": [
      "ehllo\n",
      "abdeit\n",
      "acehkr\n",
      "eegk\n",
      "aacijprstv\n"
     ]
    }
   ],
   "source": [
    "# Question 3\n",
    "\n",
    "def sortedString(string):\n",
    "    try:\n",
    "        if type(string) != str:\n",
    "            raise Exception(\"Input must be a string!!!\")\n",
    "        \n",
    "        return ''.join(sorted(string))\n",
    "    except Exception as e:\n",
    "        return e\n",
    "    \n",
    "print(sortedString(\"hello\"))\n",
    "print(sortedString(\"edabit\"))\n",
    "print(sortedString(\"hacker\"))\n",
    "print(sortedString(\"geek\"))\n",
    "print(sortedString(\"javascript\"))"
   ]
  },
  {
   "cell_type": "code",
   "execution_count": 4,
   "id": "2f2ac4d7",
   "metadata": {},
   "outputs": [
    {
     "name": "stdout",
     "output_type": "stream",
     "text": [
      "105.0\n",
      "15399.26\n",
      "2007316.26\n"
     ]
    }
   ],
   "source": [
    "# Question 4\n",
    "\n",
    "def calculateCompoundInterest(principal, time, iRate, nCompunds):\n",
    "    try:\n",
    "        return round(principal * ((1 + (iRate/nCompunds))**(nCompunds * time)), 2)\n",
    "    except Exception as e:\n",
    "        return e\n",
    "\n",
    "print(calculateCompoundInterest(100, 1, 0.05, 1))\n",
    "print(calculateCompoundInterest(3500, 15, 0.1, 4))\n",
    "print(calculateCompoundInterest(100000, 20, 0.15, 365))"
   ]
  },
  {
   "cell_type": "code",
   "execution_count": 5,
   "id": "7b426328",
   "metadata": {},
   "outputs": [
    {
     "name": "stdout",
     "output_type": "stream",
     "text": [
      "[9, 2, 16]\n",
      "[81, 123]\n",
      "[10, 56, 20, 3]\n",
      "[1]\n"
     ]
    }
   ],
   "source": [
    "# Question 5\n",
    "\n",
    "def filterList(li):\n",
    "    try:\n",
    "        if type(li) != list:\n",
    "            raise Exception(\"Input must be a list!!!\")\n",
    "        \n",
    "        flag = 0\n",
    "        while flag < len(li):\n",
    "            if type(li[flag]) != int:\n",
    "                li.remove(li[flag])\n",
    "            else:\n",
    "                flag += 1\n",
    "                \n",
    "        return li\n",
    "    except Exception as e:\n",
    "        return e\n",
    "    \n",
    "print(filterList([9, 2, \"space\", \"car\", \"lion\", 16]))\n",
    "print(filterList([\"hello\", 81, \"basketball\", 123, \"fox\"]))\n",
    "print(filterList([10, \"121\", 56, 20, \"car\", 3, \"lion\"]))\n",
    "print(filterList([\"String\", True, 3.3, 1]))"
   ]
  }
 ],
 "metadata": {
  "kernelspec": {
   "display_name": "Python 3",
   "language": "python",
   "name": "python3"
  },
  "language_info": {
   "codemirror_mode": {
    "name": "ipython",
    "version": 3
   },
   "file_extension": ".py",
   "mimetype": "text/x-python",
   "name": "python",
   "nbconvert_exporter": "python",
   "pygments_lexer": "ipython3",
   "version": "3.8.10"
  }
 },
 "nbformat": 4,
 "nbformat_minor": 5
}
