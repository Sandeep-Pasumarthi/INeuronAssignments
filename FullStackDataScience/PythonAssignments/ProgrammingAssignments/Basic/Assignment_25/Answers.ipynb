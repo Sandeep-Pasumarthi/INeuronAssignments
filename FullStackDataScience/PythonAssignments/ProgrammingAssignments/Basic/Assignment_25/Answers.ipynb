{
 "cells": [
  {
   "cell_type": "code",
   "execution_count": 1,
   "id": "97598d9f",
   "metadata": {},
   "outputs": [
    {
     "name": "stdout",
     "output_type": "stream",
     "text": [
      "2\n",
      "3\n",
      "0\n"
     ]
    }
   ],
   "source": [
    "# Question 1\n",
    "\n",
    "def numEqualNum(a, b, c):\n",
    "    try:\n",
    "        if type(a) != int or type(b) != int or type(c) != int:\n",
    "            raise Exception(\"Input must be a integer!!!\")\n",
    "        \n",
    "        li = [a, b, c]\n",
    "        count = []\n",
    "        for i in set(li):\n",
    "            count.append(li.count(i))\n",
    "        \n",
    "        if max(count) == 1:\n",
    "            return 0\n",
    "        else:\n",
    "            return max(count)\n",
    "    except Exception as e:\n",
    "        return e\n",
    "    \n",
    "print(numEqualNum(3, 4, 3))\n",
    "print(numEqualNum(1, 1, 1))\n",
    "print(numEqualNum(3, 4, 1))"
   ]
  },
  {
   "cell_type": "code",
   "execution_count": 2,
   "id": "1bdd4edd",
   "metadata": {},
   "outputs": [
    {
     "name": "stdout",
     "output_type": "stream",
     "text": [
      "[('B', 2), ('C', 3), ('D', 1)]\n",
      "[('dislikes', 3), ('followers', 10), ('likes', 2)]\n"
     ]
    }
   ],
   "source": [
    "# Question 2\n",
    "\n",
    "def dictToListTuples(dic):\n",
    "    try:\n",
    "        if type(dic) != dict:\n",
    "            raise Exception(\"Input must be a dictionary\")\n",
    "        if len(dic) == 0:\n",
    "            raise Exception(\"Empty Dictionary\")\n",
    "            \n",
    "        result = []\n",
    "        \n",
    "        for i in sorted(dic.keys()):\n",
    "            result.append((i, dic[i]))\n",
    "        return result\n",
    "    except Exception as e:\n",
    "        return e\n",
    "    \n",
    "print(dictToListTuples({\"D\": 1, \"B\": 2, \"C\": 3}))\n",
    "print(dictToListTuples({\"likes\": 2, \"dislikes\": 3, \"followers\": 10}))"
   ]
  },
  {
   "cell_type": "code",
   "execution_count": 3,
   "id": "65bb2fc8",
   "metadata": {},
   "outputs": [
    {
     "name": "stdout",
     "output_type": "stream",
     "text": [
      "{'p': 'P', 's': 'S'}\n",
      "{'a': 'A', 'b': 'B', 'c': 'C'}\n",
      "{'a': 'A', 'v': 'V', 'y': 'Y', 'z': 'Z'}\n"
     ]
    }
   ],
   "source": [
    "# Question 3\n",
    "\n",
    "def listToDictUpper(li):\n",
    "    try:\n",
    "        if type(li) != list:\n",
    "            raise Exception(\"Input must be a list!!!\")\n",
    "        if len(li) == 0:\n",
    "            raise Exception(\"Empty List\")\n",
    "            \n",
    "        result = dict()\n",
    "        for i in li:\n",
    "            result[i] = i.upper()\n",
    "        return result\n",
    "    except Exception as e:\n",
    "        return e\n",
    "    \n",
    "print(listToDictUpper([\"p\", \"s\"]))\n",
    "print(listToDictUpper([\"a\", \"b\", \"c\"]))\n",
    "print(listToDictUpper([\"a\", \"v\", \"y\", \"z\"]))"
   ]
  },
  {
   "cell_type": "code",
   "execution_count": 4,
   "id": "f693e3b4",
   "metadata": {},
   "outputs": [
    {
     "name": "stdout",
     "output_type": "stream",
     "text": [
      "upplus und bununus\n",
      "chooso cossorolo\n",
      "steffed jelepene peppers\n"
     ]
    }
   ],
   "source": [
    "# Question 4\n",
    "\n",
    "def replaceVowels(string, replacer):\n",
    "    try:\n",
    "        if type(string) != str:\n",
    "            raise Exception(\"Input must be a string!!!\")\n",
    "            \n",
    "        vowels = ['a', 'e', 'i', 'o', 'u']\n",
    "        if replacer not in vowels:\n",
    "            raise Exception(\"Replacer is not a vowel!!!\")\n",
    "        \n",
    "        result = []\n",
    "        for i in string:\n",
    "            if i in vowels:\n",
    "                result.append(replacer)\n",
    "            else:\n",
    "                result.append(i)\n",
    "        return ''.join(result)\n",
    "    except Exception as e:\n",
    "        return e\n",
    "    \n",
    "print(replaceVowels(\"apples and bananas\", \"u\"))\n",
    "print(replaceVowels(\"cheese casserole\", \"o\"))\n",
    "print(replaceVowels(\"stuffed jalapeno poppers\", \"e\"))"
   ]
  },
  {
   "cell_type": "code",
   "execution_count": 5,
   "id": "fc1c0349",
   "metadata": {},
   "outputs": [
    {
     "name": "stdout",
     "output_type": "stream",
     "text": [
      "To Be oR NoT To Be!\n",
      "THe LiTTLe meRmaiD\n",
      "oH wHaT a BeauTiFuL moRNiNg.\n"
     ]
    }
   ],
   "source": [
    "# Question 5\n",
    "\n",
    "def asciiCapitalize(string):\n",
    "    try:\n",
    "        if type(string) != str:\n",
    "            raise Exception(\"Input must be a string\")\n",
    "            \n",
    "        result = ''\n",
    "        for i in string:\n",
    "            if ord(i) % 2 == 0:\n",
    "                result += i.upper()\n",
    "            else:\n",
    "                result += i.lower()\n",
    "        return result\n",
    "    except Exception as e:\n",
    "        return e\n",
    "    \n",
    "print(asciiCapitalize(\"to be or not to be!\"))\n",
    "print(asciiCapitalize(\"THE LITTLE MERMAID\"))\n",
    "print(asciiCapitalize(\"Oh what a beautiful morning.\"))"
   ]
  }
 ],
 "metadata": {
  "kernelspec": {
   "display_name": "Python 3",
   "language": "python",
   "name": "python3"
  },
  "language_info": {
   "codemirror_mode": {
    "name": "ipython",
    "version": 3
   },
   "file_extension": ".py",
   "mimetype": "text/x-python",
   "name": "python",
   "nbconvert_exporter": "python",
   "pygments_lexer": "ipython3",
   "version": "3.8.10"
  }
 },
 "nbformat": 4,
 "nbformat_minor": 5
}
