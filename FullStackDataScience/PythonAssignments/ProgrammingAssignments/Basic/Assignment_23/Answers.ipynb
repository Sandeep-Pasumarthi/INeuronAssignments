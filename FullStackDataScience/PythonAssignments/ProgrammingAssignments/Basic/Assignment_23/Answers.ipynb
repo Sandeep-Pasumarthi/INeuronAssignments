{
 "cells": [
  {
   "cell_type": "code",
   "execution_count": 1,
   "id": "c3e09006",
   "metadata": {},
   "outputs": [
    {
     "name": "stdout",
     "output_type": "stream",
     "text": [
      "True\n",
      "False\n",
      "True\n",
      "False\n",
      "True\n"
     ]
    }
   ],
   "source": [
    "# Question 1\n",
    "\n",
    "def checkSymmetry(num):\n",
    "    try:\n",
    "        if type(num) != int:\n",
    "            raise Exception(\"Input must be a integer!!!\")\n",
    "            \n",
    "        num = str(num)\n",
    "        if len(num) % 2 == 0:\n",
    "            fHalf = num[:(len(num)//2)]\n",
    "            sHalf = num[(len(num)//2):]\n",
    "            if fHalf == sHalf[-1::-1]:\n",
    "                return True\n",
    "            else:\n",
    "                return False\n",
    "        else:\n",
    "            fHalf = num[:(len(num)//2)]\n",
    "            sHalf = num[(len(num)//2)+1:]\n",
    "            if fHalf == sHalf[-1::-1]:\n",
    "                return True\n",
    "            else:\n",
    "                return False\n",
    "    except Exception as e:\n",
    "        return e\n",
    "    \n",
    "print(checkSymmetry(7227))\n",
    "print(checkSymmetry(12567))\n",
    "print(checkSymmetry(44444444))\n",
    "print(checkSymmetry(9939))\n",
    "print(checkSymmetry(1112111))"
   ]
  },
  {
   "cell_type": "code",
   "execution_count": 2,
   "id": "b5ffd6b1",
   "metadata": {},
   "outputs": [
    {
     "name": "stdout",
     "output_type": "stream",
     "text": [
      "6\n",
      "24\n",
      "0\n",
      "-20\n"
     ]
    }
   ],
   "source": [
    "# Question 2\n",
    "\n",
    "def calculateMul(string):\n",
    "    try:\n",
    "        if type(string) != str:\n",
    "            raise Exception(\"Input must be a string\")\n",
    "        if len(string) == 0:\n",
    "            raise Exception(\"Input has 0 length!!! Can't calcluate product\")\n",
    "            \n",
    "        string = list(map(int, string.split(', ')))\n",
    "        result = 1\n",
    "        \n",
    "        for i in string:\n",
    "            result *= i\n",
    "        return result\n",
    "    except Exception as e:\n",
    "        return e\n",
    "    \n",
    "print(calculateMul(\"2, 3\"))\n",
    "print(calculateMul(\"1, 2, 3, 4\"))\n",
    "print(calculateMul(\"54, 75, 453, 0\"))\n",
    "print(calculateMul(\"10, -2\"))"
   ]
  },
  {
   "cell_type": "code",
   "execution_count": 3,
   "id": "2c6b5036",
   "metadata": {},
   "outputs": [
    {
     "name": "stdout",
     "output_type": "stream",
     "text": [
      "811181\n",
      "416649\n",
      "9414\n"
     ]
    }
   ],
   "source": [
    "# Question 3\n",
    "\n",
    "def squareDigits(num):\n",
    "    try:\n",
    "        if type(num) != int:\n",
    "            raise Exception(\"Input must be a integer\")\n",
    "            \n",
    "        num = str(num)\n",
    "        result = ''\n",
    "        for i in num:\n",
    "            result += str(int(i)**2)\n",
    "        return int(result)\n",
    "    except Exception as e:\n",
    "        return e\n",
    "    \n",
    "print(squareDigits(9119))\n",
    "print(squareDigits(2483))\n",
    "print(squareDigits(3212))"
   ]
  },
  {
   "cell_type": "code",
   "execution_count": 4,
   "id": "74cc3705",
   "metadata": {},
   "outputs": [
    {
     "name": "stdout",
     "output_type": "stream",
     "text": [
      "[1, 3, 5]\n",
      "[4]\n",
      "[5, 7, 8, 9, 10, 15]\n",
      "[1, 2, 3]\n"
     ]
    }
   ],
   "source": [
    "# Question 4\n",
    "\n",
    "def sortedDuplicates(li):\n",
    "    try:\n",
    "        if type(li) != list:\n",
    "            raise Exception(\"Input must be a list!!!\")\n",
    "            \n",
    "        return sorted(list(set(li)))\n",
    "    except Exception as e:\n",
    "        return e\n",
    "    \n",
    "print(sortedDuplicates([1, 3, 3, 5, 5]))\n",
    "print(sortedDuplicates([4, 4, 4, 4]))\n",
    "print(sortedDuplicates([5, 7, 8, 9, 10, 15]))\n",
    "print(sortedDuplicates([3, 3, 3, 2, 1]))"
   ]
  },
  {
   "cell_type": "code",
   "execution_count": 5,
   "id": "1e9b9111",
   "metadata": {},
   "outputs": [
    {
     "name": "stdout",
     "output_type": "stream",
     "text": [
      "3\n",
      "3\n",
      "6\n"
     ]
    }
   ],
   "source": [
    "# Question 5\n",
    "\n",
    "def digitsMean(num):\n",
    "    try:\n",
    "        if type(num) != int:\n",
    "            raise Exception(\"Input must be a integer!!!\")\n",
    "        if num < 0:\n",
    "            raise Exception(\"Input must be non negative!!!\")\n",
    "            \n",
    "        num = list(map(int, list(str(num))))\n",
    "        \n",
    "        return sum(num) // len(num)\n",
    "    except Exception as e:\n",
    "        return e\n",
    "    \n",
    "print(digitsMean(42))\n",
    "print(digitsMean(12345))\n",
    "print(digitsMean(666))"
   ]
  }
 ],
 "metadata": {
  "kernelspec": {
   "display_name": "Python 3",
   "language": "python",
   "name": "python3"
  },
  "language_info": {
   "codemirror_mode": {
    "name": "ipython",
    "version": 3
   },
   "file_extension": ".py",
   "mimetype": "text/x-python",
   "name": "python",
   "nbconvert_exporter": "python",
   "pygments_lexer": "ipython3",
   "version": "3.8.10"
  }
 },
 "nbformat": 4,
 "nbformat_minor": 5
}
