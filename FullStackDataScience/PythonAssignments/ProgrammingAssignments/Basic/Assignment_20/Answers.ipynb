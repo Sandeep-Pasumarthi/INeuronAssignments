{
 "cells": [
  {
   "cell_type": "code",
   "execution_count": 1,
   "id": "b2588bb6",
   "metadata": {},
   "outputs": [
    {
     "name": "stdout",
     "output_type": "stream",
     "text": [
      "[1, 2, 3, 4]\n",
      "[0, 1729]\n",
      "[]\n"
     ]
    }
   ],
   "source": [
    "# Question 1\n",
    "\n",
    "def filterList(li):\n",
    "    try:\n",
    "        if type(li) != list:\n",
    "            raise Exception(\"Input must be a list!!!\")\n",
    "        \n",
    "        flag = 0\n",
    "        while flag < len(li):\n",
    "            if type(li[flag]) != int:\n",
    "                li.remove(li[flag])\n",
    "            else:\n",
    "                flag += 1\n",
    "                \n",
    "        return li\n",
    "    except Exception as e:\n",
    "        return e\n",
    "    \n",
    "print(filterList([1, 2, 3, \"a\", \"b\", 4]))\n",
    "print(filterList([\"A\", 0, \"Edabit\", 1729, \"Python\", \"1729\"]))\n",
    "print(filterList([\"Nothing\", \"here\"]))"
   ]
  },
  {
   "cell_type": "code",
   "execution_count": 2,
   "id": "13ce5a7b",
   "metadata": {},
   "outputs": [
    {
     "name": "stdout",
     "output_type": "stream",
     "text": [
      "[0, 1, 2, 3, 4]\n",
      "[1, 3, 5, 7, 9]\n",
      "[5, 5, 5, 5, 5]\n"
     ]
    }
   ],
   "source": [
    "# Question 2\n",
    "\n",
    "def addIndex(li):\n",
    "    try:\n",
    "        if type(li) != list:\n",
    "            raise Exception(\"Input must be a list!!!\")\n",
    "            \n",
    "        for i in range(len(li)):\n",
    "            li[i] = i + li[i]\n",
    "            \n",
    "        return li\n",
    "    except Exception as e:\n",
    "        return e\n",
    "    \n",
    "print(addIndex([0, 0, 0, 0, 0]))\n",
    "print(addIndex([1, 2, 3, 4, 5]))\n",
    "print(addIndex([5, 4, 3, 2, 1]))"
   ]
  },
  {
   "cell_type": "code",
   "execution_count": 3,
   "id": "e57ce1ae",
   "metadata": {},
   "outputs": [
    {
     "name": "stdout",
     "output_type": "stream",
     "text": [
      "12.57\n",
      "565.74\n",
      "0.0\n"
     ]
    }
   ],
   "source": [
    "# Question 3\n",
    "\n",
    "def areaCone(height, radius):\n",
    "    try:\n",
    "        if type(radius) != int and type(radius) != float:\n",
    "            raise Exception(\"Input radius must be a number!!!\")\n",
    "        elif type(height) != int and type(height) != float:\n",
    "            raise Exception(\"Input height must be a number!!!\")\n",
    "            \n",
    "        return round(((3.143 * (radius**2) * height) / 3), 2)\n",
    "    except Exception as e:\n",
    "        return e\n",
    "    \n",
    "print(areaCone(3, 2))\n",
    "print(areaCone(15, 6))\n",
    "print(areaCone(18, 0))"
   ]
  },
  {
   "cell_type": "code",
   "execution_count": 4,
   "id": "00bad159",
   "metadata": {},
   "outputs": [
    {
     "name": "stdout",
     "output_type": "stream",
     "text": [
      "1\n",
      "21\n",
      "23220\n"
     ]
    }
   ],
   "source": [
    "# Question 4\n",
    "\n",
    "def numDotsTriangle(num):\n",
    "    try:\n",
    "        if type(num) != int:\n",
    "            raise Exception(\"Input must be a integer!!!\")\n",
    "        elif num <= 0:\n",
    "            raise Exception(\"Input must be a positive number!!!\")\n",
    "        \n",
    "        result = 1\n",
    "        for i in range(2, num+1):\n",
    "            result += i\n",
    "            \n",
    "        return result\n",
    "    except Exception as e:\n",
    "        return e\n",
    "    \n",
    "print(numDotsTriangle(1))\n",
    "print(numDotsTriangle(6))\n",
    "print(numDotsTriangle(215))"
   ]
  },
  {
   "cell_type": "code",
   "execution_count": 5,
   "id": "cbd68ebb",
   "metadata": {},
   "outputs": [
    {
     "name": "stdout",
     "output_type": "stream",
     "text": [
      "5\n",
      "10\n",
      "7\n"
     ]
    }
   ],
   "source": [
    "# Question 5\n",
    "\n",
    "def findMissing(li):\n",
    "    try:\n",
    "        if type(li) != list:\n",
    "            raise Exception(\"Input must be a list!!!\")\n",
    "        elif len(li) != 9:\n",
    "            raise Exception(\"Entered a wrong list! Please check (:\")\n",
    "            \n",
    "        return 55 - sum(li)\n",
    "    except Exception as e:\n",
    "        return e\n",
    "    \n",
    "print(findMissing([1, 2, 3, 4, 6, 7, 8, 9, 10]))\n",
    "print(findMissing([7, 2, 3, 6, 5, 9, 1, 4, 8]))\n",
    "print(findMissing([10, 5, 1, 2, 4, 6, 8, 3, 9]))"
   ]
  }
 ],
 "metadata": {
  "kernelspec": {
   "display_name": "Python 3",
   "language": "python",
   "name": "python3"
  },
  "language_info": {
   "codemirror_mode": {
    "name": "ipython",
    "version": 3
   },
   "file_extension": ".py",
   "mimetype": "text/x-python",
   "name": "python",
   "nbconvert_exporter": "python",
   "pygments_lexer": "ipython3",
   "version": "3.8.10"
  }
 },
 "nbformat": 4,
 "nbformat_minor": 5
}
