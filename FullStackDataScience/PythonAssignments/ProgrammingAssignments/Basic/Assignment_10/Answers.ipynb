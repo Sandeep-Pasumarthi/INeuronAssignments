{
 "cells": [
  {
   "cell_type": "code",
   "execution_count": 1,
   "id": "2221e434",
   "metadata": {},
   "outputs": [
    {
     "name": "stdout",
     "output_type": "stream",
     "text": [
      "100\n"
     ]
    }
   ],
   "source": [
    "# Question 1\n",
    "\n",
    "def sumList(li):\n",
    "    try:\n",
    "        if type(li) != list:\n",
    "            raise Exception(\"Not a list!!!\")\n",
    "        \n",
    "        return sum(li)\n",
    "    except Exception as e:\n",
    "        print(e)\n",
    "        \n",
    "li = [25, 26, 17, 32]\n",
    "print(sumList(li))"
   ]
  },
  {
   "cell_type": "code",
   "execution_count": 2,
   "id": "c28199ba",
   "metadata": {},
   "outputs": [
    {
     "name": "stdout",
     "output_type": "stream",
     "text": [
      "353600\n"
     ]
    }
   ],
   "source": [
    "# Question 2\n",
    "\n",
    "def mulList(li):\n",
    "    try:\n",
    "        if type(li) != list:\n",
    "            raise Exception(\"Not a list!!!\")\n",
    "            \n",
    "        x = li[0]\n",
    "        for i in range(1, len(li)):\n",
    "            x *= li[i]\n",
    "            \n",
    "        return x\n",
    "    except Exception as e:\n",
    "        print(e)\n",
    "\n",
    "li = [25, 26, 17, 32]\n",
    "print(mulList(li))"
   ]
  },
  {
   "cell_type": "code",
   "execution_count": 3,
   "id": "f0c24f56",
   "metadata": {},
   "outputs": [
    {
     "name": "stdout",
     "output_type": "stream",
     "text": [
      "17\n"
     ]
    }
   ],
   "source": [
    "# Question 3\n",
    "\n",
    "def minList(li):\n",
    "    try:\n",
    "        if type(li) != list:\n",
    "            raise Exception(\"Not a list!!!\")\n",
    "            \n",
    "        return min(li)\n",
    "    except Exception as e:\n",
    "        print(e)\n",
    "        \n",
    "li = [25, 26, 17, 32]\n",
    "print(minList(li))"
   ]
  },
  {
   "cell_type": "code",
   "execution_count": 4,
   "id": "4ef994de",
   "metadata": {},
   "outputs": [
    {
     "name": "stdout",
     "output_type": "stream",
     "text": [
      "32\n"
     ]
    }
   ],
   "source": [
    "# Question 4\n",
    "\n",
    "def maxList(li):\n",
    "    try:\n",
    "        if type(li) != list:\n",
    "            raise Exception(\"Not a list!!!\")\n",
    "            \n",
    "        return max(li)\n",
    "    except Exception as e:\n",
    "        print(e)\n",
    "        \n",
    "li = [25, 26, 17, 32]\n",
    "print(maxList(li))"
   ]
  },
  {
   "cell_type": "code",
   "execution_count": 5,
   "id": "fe0545b9",
   "metadata": {},
   "outputs": [
    {
     "name": "stdout",
     "output_type": "stream",
     "text": [
      "26\n"
     ]
    }
   ],
   "source": [
    "# Question 5\n",
    "\n",
    "def secondMaxList(li):\n",
    "    try:\n",
    "        if type(li) != list:\n",
    "            raise Exception(\"Not a list!!!\")\n",
    "            \n",
    "        return sorted(li)[-2]\n",
    "    except Exception as e:\n",
    "        print(e)\n",
    "        \n",
    "li = [25, 26, 17, 32]\n",
    "print(secondMaxList(li))"
   ]
  },
  {
   "cell_type": "code",
   "execution_count": 6,
   "id": "45b20ef2",
   "metadata": {},
   "outputs": [
    {
     "name": "stdout",
     "output_type": "stream",
     "text": [
      "[25, 26, 32]\n"
     ]
    }
   ],
   "source": [
    "# Question 6\n",
    "\n",
    "def nMaxList(li, n):\n",
    "    try:\n",
    "        if type(li) != list:\n",
    "            raise Exception(\"Not a list!!!\")\n",
    "        if n > len(li):\n",
    "            raise Exception(\"Given number is greater than length of given list!!! Please enter valid details\")\n",
    "            \n",
    "        sortedList = sorted(li)\n",
    "        \n",
    "        return sortedList[len(li)-n:len(li)]\n",
    "    except Exception as e:\n",
    "        print(e)\n",
    "        \n",
    "li = [25, 26, 17, 32]\n",
    "print(nMaxList(li, 3))"
   ]
  },
  {
   "cell_type": "code",
   "execution_count": 7,
   "id": "c24906b1",
   "metadata": {},
   "outputs": [
    {
     "name": "stdout",
     "output_type": "stream",
     "text": [
      "[26, 32]\n"
     ]
    }
   ],
   "source": [
    "# Question 7\n",
    "\n",
    "def evenList(li):\n",
    "    try:\n",
    "        if type(li) != list:\n",
    "            raise Exception(\"Not a list!!!\")\n",
    "        \n",
    "        eli = []\n",
    "        for i in li:\n",
    "            if i % 2 == 0:\n",
    "                eli.append(i)\n",
    "        \n",
    "        return eli\n",
    "    except Exception as e:\n",
    "        print(e)\n",
    "        \n",
    "li = [25, 26, 17, 32]\n",
    "print(evenList(li))"
   ]
  },
  {
   "cell_type": "code",
   "execution_count": 8,
   "id": "1910eb80",
   "metadata": {},
   "outputs": [
    {
     "name": "stdout",
     "output_type": "stream",
     "text": [
      "[25, 17]\n"
     ]
    }
   ],
   "source": [
    "# Question 8\n",
    "\n",
    "def oddList(li):\n",
    "    try:\n",
    "        if type(li) != list:\n",
    "            raise Exception(\"Not a list!!!\")\n",
    "        \n",
    "        eli = []\n",
    "        for i in li:\n",
    "            if i % 2 != 0:\n",
    "                eli.append(i)\n",
    "        \n",
    "        return eli\n",
    "    except Exception as e:\n",
    "        print(e)\n",
    "        \n",
    "li = [25, 26, 17, 32]\n",
    "print(oddList(li))"
   ]
  },
  {
   "cell_type": "code",
   "execution_count": 9,
   "id": "9cd41eba",
   "metadata": {},
   "outputs": [
    {
     "name": "stdout",
     "output_type": "stream",
     "text": [
      "[[1, 2, 3], 2, 'sa']\n"
     ]
    }
   ],
   "source": [
    "# Question 9\n",
    "\n",
    "def removeEmptyList(li):\n",
    "    try:\n",
    "        if type(li) != list:\n",
    "            raise Exception(\"Not a list!!!\")\n",
    "        \n",
    "        for i in li:\n",
    "            if type(i) == list and len(i) == 0:\n",
    "                li.remove(i)\n",
    "        \n",
    "        return li\n",
    "    except Exception as e:\n",
    "        print(e)\n",
    "        \n",
    "li = [[], [1, 2, 3], [], 2, 'sa']\n",
    "print(removeEmptyList(li))"
   ]
  },
  {
   "cell_type": "code",
   "execution_count": 10,
   "id": "651eb77a",
   "metadata": {},
   "outputs": [
    {
     "name": "stdout",
     "output_type": "stream",
     "text": [
      "[25, 26, 17, 32]\n"
     ]
    }
   ],
   "source": [
    "# Question 10\n",
    "\n",
    "def cloningList(li):\n",
    "    try:\n",
    "        if type(li) != list:\n",
    "            raise Exception(\"Not a list!!!\")\n",
    "        \n",
    "        return li.copy()\n",
    "    except Exception as e:\n",
    "        print(e)\n",
    "\n",
    "li = [25, 26, 17, 32]\n",
    "print(cloningList(li))"
   ]
  },
  {
   "cell_type": "code",
   "execution_count": 11,
   "id": "a2a0b1e4",
   "metadata": {},
   "outputs": [
    {
     "name": "stdout",
     "output_type": "stream",
     "text": [
      "2\n"
     ]
    }
   ],
   "source": [
    "# Question 11\n",
    "\n",
    "def countElementList(li, ele):\n",
    "    try:\n",
    "        if type(li) != list:\n",
    "            raise Exception(\"Not a list!!!\")\n",
    "        \n",
    "        return li.count(ele)\n",
    "    except Exception as e:\n",
    "        print(e)\n",
    "        \n",
    "li = [25, 17, 22, 25, 17, 25, 19, 19, 3654, 3654]\n",
    "print(countElementList(li, 19))"
   ]
  }
 ],
 "metadata": {
  "kernelspec": {
   "display_name": "Python 3",
   "language": "python",
   "name": "python3"
  },
  "language_info": {
   "codemirror_mode": {
    "name": "ipython",
    "version": 3
   },
   "file_extension": ".py",
   "mimetype": "text/x-python",
   "name": "python",
   "nbconvert_exporter": "python",
   "pygments_lexer": "ipython3",
   "version": "3.8.10"
  }
 },
 "nbformat": 4,
 "nbformat_minor": 5
}
