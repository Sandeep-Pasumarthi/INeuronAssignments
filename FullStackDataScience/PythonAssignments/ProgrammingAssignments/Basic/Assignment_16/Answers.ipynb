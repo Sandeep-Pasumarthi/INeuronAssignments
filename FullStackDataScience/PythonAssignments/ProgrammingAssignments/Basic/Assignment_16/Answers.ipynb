{
 "cells": [
  {
   "cell_type": "code",
   "execution_count": 1,
   "id": "accef090",
   "metadata": {},
   "outputs": [
    {
     "name": "stdout",
     "output_type": "stream",
     "text": [
      "Enter a word: - incredible\n",
      "in... in... incredible?\n",
      "Enter a word: - enthusiastic\n",
      "en... en... enthusiastic?\n",
      "Enter a word: - outstanding\n",
      "ou... ou... outstanding?\n"
     ]
    }
   ],
   "source": [
    "# Question 1\n",
    "\n",
    "def stutter():\n",
    "    try:\n",
    "        n = input(\"Enter a word: - \").lower()\n",
    "        if len(n) < 2:\n",
    "            raise Exception(\"Length of word must be atleast 2\")\n",
    "            \n",
    "        return n[:2] + '... ' + n[:2] + '... ' + n + '?'\n",
    "    except Exception as e:\n",
    "        return e\n",
    "    \n",
    "print(stutter())\n",
    "print(stutter())\n",
    "print(stutter())"
   ]
  },
  {
   "cell_type": "code",
   "execution_count": 2,
   "id": "ab7a431e",
   "metadata": {},
   "outputs": [
    {
     "name": "stdout",
     "output_type": "stream",
     "text": [
      "Enter radians: - 1\n",
      "57.3\n",
      "Enter radians: - 20\n",
      "1145.8\n",
      "Enter radians: - 50\n",
      "2864.5\n"
     ]
    }
   ],
   "source": [
    "# Question 2\n",
    "\n",
    "def radiansToDegrees():\n",
    "    try:\n",
    "        n = float(input(\"Enter radians: - \"))\n",
    "        \n",
    "        return round(n*57.289, 1)\n",
    "    except Exception as e:\n",
    "        return e\n",
    "    \n",
    "print(radiansToDegrees())\n",
    "print(radiansToDegrees())\n",
    "print(radiansToDegrees())"
   ]
  },
  {
   "cell_type": "code",
   "execution_count": 3,
   "id": "08b908c7",
   "metadata": {},
   "outputs": [
    {
     "name": "stdout",
     "output_type": "stream",
     "text": [
      "Enter a positive number: - 5\n",
      "It's a Curzon Number\n",
      "Enter a positive number: - 10\n",
      "It's not a Curzon Number\n",
      "Enter a positive number: - 14\n",
      "It's a Curzon Number\n"
     ]
    }
   ],
   "source": [
    "# Question 3\n",
    "\n",
    "def curzonNumber():\n",
    "    try:\n",
    "        n = int(input(\"Enter a positive number: - \"))\n",
    "        \n",
    "        eq1 = 1 + 2**n\n",
    "        eq2 = 1 + 2*n\n",
    "        \n",
    "        if eq1 % eq2 == 0:\n",
    "            return \"It's a Curzon Number\"\n",
    "        else:\n",
    "            return \"It's not a Curzon Number\"\n",
    "    except Exception as e:\n",
    "        return e\n",
    "    \n",
    "print(curzonNumber())\n",
    "print(curzonNumber())\n",
    "print(curzonNumber())"
   ]
  },
  {
   "cell_type": "code",
   "execution_count": 4,
   "id": "0fd7b180",
   "metadata": {},
   "outputs": [
    {
     "name": "stdout",
     "output_type": "stream",
     "text": [
      "Enter side of the hexagon: - 1\n",
      "2.6\n",
      "Enter side of the hexagon: - 2\n",
      "10.4\n",
      "Enter side of the hexagon: - 3\n",
      "23.4\n"
     ]
    }
   ],
   "source": [
    "# Question 4\n",
    "\n",
    "def areaHexagon():\n",
    "    try:\n",
    "        import math\n",
    "        n = float(input(\"Enter side of the hexagon: - \"))\n",
    "        if n < 0:\n",
    "            raise Exception(\"Hexagon length can't be negative\")\n",
    "            \n",
    "        prod1 = (3 * math.sqrt(3)) / 2\n",
    "        \n",
    "        return round(prod1 * math.pow(n, 2), 1)\n",
    "    except Exception as e:\n",
    "        return e\n",
    "    \n",
    "print(areaHexagon())\n",
    "print(areaHexagon())\n",
    "print(areaHexagon())"
   ]
  },
  {
   "cell_type": "code",
   "execution_count": 5,
   "id": "6db7767c",
   "metadata": {},
   "outputs": [
    {
     "name": "stdout",
     "output_type": "stream",
     "text": [
      "Enter a positive integer: - 1\n",
      "1\n",
      "Enter a positive integer: - 5\n",
      "101\n",
      "Enter a positive integer: - 10\n",
      "1010\n"
     ]
    }
   ],
   "source": [
    "# Question 5\n",
    "\n",
    "def binary():\n",
    "    try:\n",
    "        n = int(input(\"Enter a positive integer: - \"))\n",
    "        if n < 0:\n",
    "            raise Exception(\"Must enter non negative integer\")\n",
    "        else:\n",
    "            result = ''\n",
    "            while True:\n",
    "                if n == 0:\n",
    "                    result += '0'\n",
    "                    break\n",
    "                elif n == 1:\n",
    "                    result += '1'\n",
    "                    break\n",
    "                else:\n",
    "                    result += str(n%2)\n",
    "                    n = n // 2\n",
    "            \n",
    "            return result[-1::-1]\n",
    "    except Exception as e:\n",
    "        return e\n",
    "    \n",
    "print(binary())\n",
    "print(binary())\n",
    "print(binary())"
   ]
  }
 ],
 "metadata": {
  "kernelspec": {
   "display_name": "Python 3",
   "language": "python",
   "name": "python3"
  },
  "language_info": {
   "codemirror_mode": {
    "name": "ipython",
    "version": 3
   },
   "file_extension": ".py",
   "mimetype": "text/x-python",
   "name": "python",
   "nbconvert_exporter": "python",
   "pygments_lexer": "ipython3",
   "version": "3.8.10"
  }
 },
 "nbformat": 4,
 "nbformat_minor": 5
}
