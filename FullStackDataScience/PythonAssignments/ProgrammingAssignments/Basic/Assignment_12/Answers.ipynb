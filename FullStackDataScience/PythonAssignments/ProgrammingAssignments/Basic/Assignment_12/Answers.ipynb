{
 "cells": [
  {
   "cell_type": "code",
   "execution_count": 1,
   "id": "02abea40",
   "metadata": {},
   "outputs": [
    {
     "name": "stdout",
     "output_type": "stream",
     "text": [
      "['FSDS', 17]\n"
     ]
    }
   ],
   "source": [
    "# Question 1\n",
    "\n",
    "def extractUnique(dic):\n",
    "    return list(set(dic.values()))\n",
    "\n",
    "print(extractUnique({'sandeep' : 17, 'Ineuron' : 'FSDS', 'sa' : 17}))"
   ]
  },
  {
   "cell_type": "code",
   "execution_count": 2,
   "id": "b4e612ba",
   "metadata": {},
   "outputs": [
    {
     "name": "stdout",
     "output_type": "stream",
     "text": [
      "173434\n"
     ]
    }
   ],
   "source": [
    "# Question 2\n",
    "\n",
    "def sumOfAll(dic):\n",
    "    try:\n",
    "        return sum(dic.values())\n",
    "    except Exception as e:\n",
    "        return e\n",
    "    \n",
    "print(sumOfAll({'sandeep' : 17, 'Ineuron' : 171717, 'sa' : 1700}))"
   ]
  },
  {
   "cell_type": "code",
   "execution_count": 3,
   "id": "8199c093",
   "metadata": {},
   "outputs": [
    {
     "name": "stdout",
     "output_type": "stream",
     "text": [
      "{'sandeep': 17, 'Ineuron': 171717, 'sa': 1700, 'sandeep1': 171, 'Ineuron1': 1717171, 'sa1': 17001}\n"
     ]
    }
   ],
   "source": [
    "# Question 3\n",
    "\n",
    "def mergeDics(dic1, dic2):\n",
    "    for i in dic2.keys():\n",
    "        dic1[i] = dic2[i]\n",
    "    \n",
    "    return dic1\n",
    "\n",
    "print(mergeDics({'sandeep' : 17, 'Ineuron' : 171717, 'sa' : 1700}, {'sandeep1' : 171, 'Ineuron1' : 1717171, 'sa1' : 17001}))"
   ]
  },
  {
   "cell_type": "code",
   "execution_count": 4,
   "id": "e9012145",
   "metadata": {},
   "outputs": [
    {
     "name": "stdout",
     "output_type": "stream",
     "text": [
      "{'sandeep': 124, 'Ineuron': 198, 'sa': 179}\n"
     ]
    }
   ],
   "source": [
    "# Question 4\n",
    "\n",
    "def flatDic(liKeys, liValues):\n",
    "    result = dict()\n",
    "    for i in range(len(liKeys)):\n",
    "        result[liKeys[i]] = liValues[i]\n",
    "        \n",
    "    return result\n",
    "\n",
    "print(flatDic(['sandeep', 'Ineuron', 'sa'], [124, 198, 179]))"
   ]
  },
  {
   "cell_type": "code",
   "execution_count": 5,
   "id": "5969d81a",
   "metadata": {},
   "outputs": [
    {
     "name": "stdout",
     "output_type": "stream",
     "text": [
      "OrderedDict([('sa', 4518), ('sandeep', 181), ('Ineuron', 1467)])\n"
     ]
    }
   ],
   "source": [
    "# Question 5\n",
    "\n",
    "from collections import OrderedDict\n",
    "\n",
    "def insertAtBeginODic(orDic, insertPair):\n",
    "    orDic.update(insertPair)\n",
    "    orDic.move_to_end(list(insertPair.keys())[0], last = False)\n",
    "    \n",
    "    return orDic\n",
    "\n",
    "OrDic = OrderedDict([('sandeep', 181), ('Ineuron', 1467)])\n",
    "insertPair = {'sa': 4518}\n",
    "OrDic = insertAtBeginODic(OrDic, insertPair)\n",
    "print(OrDic)"
   ]
  },
  {
   "cell_type": "code",
   "execution_count": 6,
   "id": "c58816c6",
   "metadata": {},
   "outputs": [
    {
     "name": "stdout",
     "output_type": "stream",
     "text": [
      "True\n"
     ]
    }
   ],
   "source": [
    "# Question 6\n",
    "\n",
    "from collections import OrderedDict\n",
    "  \n",
    "def checkOrder(input, pattern):\n",
    "    \n",
    "    dict = OrderedDict.fromkeys(input)\n",
    "    ptrlen = 0\n",
    "    \n",
    "    for key,value in dict.items():\n",
    "        if key == pattern[ptrlen]:\n",
    "            ptrlen = ptrlen + 1\n",
    "        if ptrlen == len(pattern):\n",
    "            return True\n",
    "    return False\n",
    "\n",
    "print(checkOrder('sandeep', 'se'))"
   ]
  },
  {
   "cell_type": "code",
   "execution_count": 7,
   "id": "c6d98cfe",
   "metadata": {},
   "outputs": [
    {
     "name": "stdout",
     "output_type": "stream",
     "text": [
      "{'Ineuron': 171717, 'sa': 1700, 'sandeep': 17}\n",
      "{'sandeep': 17, 'sa': 1700, 'Ineuron': 171717}\n"
     ]
    }
   ],
   "source": [
    "# Question 7\n",
    "\n",
    "def findKey(dic, val):\n",
    "    \n",
    "    for i in dic.keys():\n",
    "        if dic[i] == val:\n",
    "            return i\n",
    "\n",
    "def sortDic(dic, by):\n",
    "    if by == 'keys':\n",
    "        result = dict()\n",
    "        \n",
    "        for i in sorted(dic.keys()):\n",
    "            result[i] = dic[i]\n",
    "            \n",
    "        return result\n",
    "    elif by == 'values':\n",
    "        result = dict()\n",
    "        \n",
    "        for i in sorted(dic.values()):\n",
    "            result[findKey(dic, i)] = i\n",
    "            \n",
    "        return result\n",
    "    else:\n",
    "        print(\"Type is not recognized\")\n",
    "        return None\n",
    "    \n",
    "print(sortDic({'sandeep' : 17, 'Ineuron' : 171717, 'sa' : 1700}, 'keys'))\n",
    "print(sortDic({'sandeep' : 17, 'Ineuron' : 171717, 'sa' : 1700}, 'values'))"
   ]
  }
 ],
 "metadata": {
  "kernelspec": {
   "display_name": "Python 3",
   "language": "python",
   "name": "python3"
  },
  "language_info": {
   "codemirror_mode": {
    "name": "ipython",
    "version": 3
   },
   "file_extension": ".py",
   "mimetype": "text/x-python",
   "name": "python",
   "nbconvert_exporter": "python",
   "pygments_lexer": "ipython3",
   "version": "3.8.10"
  }
 },
 "nbformat": 4,
 "nbformat_minor": 5
}
