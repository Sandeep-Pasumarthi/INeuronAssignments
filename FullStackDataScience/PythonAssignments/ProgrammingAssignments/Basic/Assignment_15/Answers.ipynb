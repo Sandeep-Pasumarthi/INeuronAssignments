{
 "cells": [
  {
   "cell_type": "code",
   "execution_count": 1,
   "id": "7252b266",
   "metadata": {},
   "outputs": [
    {
     "name": "stdout",
     "output_type": "stream",
     "text": [
      "Enter a positive number: - 100\n",
      "0,35,70\n"
     ]
    }
   ],
   "source": [
    "# Question 1\n",
    "\n",
    "def div5And7(n):\n",
    "    try:\n",
    "        for i in range(n+1):\n",
    "            if i % 5 == 0 and i % 7 == 0:\n",
    "                yield i\n",
    "                \n",
    "    except Exception as e:\n",
    "        return e\n",
    "\n",
    "def outputGenerator():\n",
    "    try:\n",
    "        n = int(input(\"Enter a positive number: - \"))\n",
    "        if n < 0:\n",
    "            raise Exception(\"Input must be positive!!!\")\n",
    "        \n",
    "        gen = div5And7(n)\n",
    "        result = []\n",
    "        \n",
    "        while True:\n",
    "            try:\n",
    "                result.append(str(next(gen)))\n",
    "            except StopIteration:\n",
    "                break\n",
    "        \n",
    "        return ','.join(result)\n",
    "    except Exception as e:\n",
    "        return e\n",
    "\n",
    "print(outputGenerator())"
   ]
  },
  {
   "cell_type": "code",
   "execution_count": 2,
   "id": "f1b64333",
   "metadata": {},
   "outputs": [
    {
     "name": "stdout",
     "output_type": "stream",
     "text": [
      "Enter a positive number: - 10\n",
      "0,2,4,6,8,10\n"
     ]
    }
   ],
   "source": [
    "# Question 2\n",
    "\n",
    "def evenNumbers(n):\n",
    "    try:\n",
    "        for i in range(n+1):\n",
    "            if i % 2 == 0:\n",
    "                yield i\n",
    "    except Exception as e:\n",
    "        return e\n",
    "    \n",
    "def outputGenerator():\n",
    "    try:\n",
    "        n = int(input(\"Enter a positive number: - \"))\n",
    "        if n < 0:\n",
    "            raise Exception(\"Input must be positive!!!\")\n",
    "        \n",
    "        gen = evenNumbers(n)\n",
    "        result = []\n",
    "        \n",
    "        while True:\n",
    "            try:\n",
    "                result.append(str(next(gen)))\n",
    "            except StopIteration:\n",
    "                break\n",
    "        \n",
    "        return ','.join(result)\n",
    "    except Exception as e:\n",
    "        return e\n",
    "    \n",
    "print(outputGenerator())"
   ]
  },
  {
   "cell_type": "code",
   "execution_count": 3,
   "id": "fe157dc9",
   "metadata": {},
   "outputs": [
    {
     "name": "stdout",
     "output_type": "stream",
     "text": [
      "Enter a positive number: - 7\n",
      "1,1,2,3,5,8,13\n"
     ]
    }
   ],
   "source": [
    "# Question 3\n",
    "\n",
    "def fibonacciListComprehension():\n",
    "    try:\n",
    "        n = int(input(\"Enter a positive number: - \"))\n",
    "        if n < 0:\n",
    "            raise Exception(\"Input must be positive!!!\")\n",
    "            \n",
    "        if n == 0:\n",
    "            return '1'\n",
    "        elif n == 1:\n",
    "            return '1,1'\n",
    "        else:\n",
    "            result = []\n",
    "            result.append('1')\n",
    "            result.append('1')\n",
    "            [result.append(str(int(result[i-1]) + int(result[i-2]))) for i in range(2, n)]\n",
    "            \n",
    "            return ','.join(result)\n",
    "    except Exception as e:\n",
    "        return e\n",
    "\n",
    "print(fibonacciListComprehension())"
   ]
  },
  {
   "cell_type": "code",
   "execution_count": 4,
   "id": "0065ad55",
   "metadata": {},
   "outputs": [
    {
     "name": "stdout",
     "output_type": "stream",
     "text": [
      "Enter user mail: - john@google.com\n",
      "john\n"
     ]
    }
   ],
   "source": [
    "# Question 4\n",
    "\n",
    "def userEmail():\n",
    "    try:\n",
    "        n = input(\"Enter user mail: - \")\n",
    "        \n",
    "        if '@' not in n:\n",
    "            raise Exception(\"Please enter valid mail adress!!!\")\n",
    "        \n",
    "        return n[:(n.index('@'))]\n",
    "    except Exception as e:\n",
    "        return e\n",
    "    \n",
    "print(userEmail())"
   ]
  },
  {
   "cell_type": "code",
   "execution_count": 5,
   "id": "72c5606c",
   "metadata": {},
   "outputs": [
    {
     "name": "stdout",
     "output_type": "stream",
     "text": [
      "Side length can't be negative\n"
     ]
    },
    {
     "data": {
      "text/plain": [
       "0"
      ]
     },
     "execution_count": 5,
     "metadata": {},
     "output_type": "execute_result"
    }
   ],
   "source": [
    "# Question 5\n",
    "\n",
    "class Shape:\n",
    "    \n",
    "    def area():\n",
    "        return 0\n",
    "    \n",
    "class Square(Shape):\n",
    "    \n",
    "    def __init__(self, side):\n",
    "        try:\n",
    "            if side < 0:\n",
    "                raise Exception(\"Side length can't be negative\")\n",
    "            self.side = side\n",
    "        except Exception as e:\n",
    "            print(e)\n",
    "\n",
    "    def area(self):\n",
    "        try:\n",
    "            return self.side**2\n",
    "        except Exception as e:\n",
    "            return 0\n",
    "    \n",
    "shape1 = Square(-4)\n",
    "shape1.area()"
   ]
  }
 ],
 "metadata": {
  "kernelspec": {
   "display_name": "Python 3",
   "language": "python",
   "name": "python3"
  },
  "language_info": {
   "codemirror_mode": {
    "name": "ipython",
    "version": 3
   },
   "file_extension": ".py",
   "mimetype": "text/x-python",
   "name": "python",
   "nbconvert_exporter": "python",
   "pygments_lexer": "ipython3",
   "version": "3.8.10"
  }
 },
 "nbformat": 4,
 "nbformat_minor": 5
}
